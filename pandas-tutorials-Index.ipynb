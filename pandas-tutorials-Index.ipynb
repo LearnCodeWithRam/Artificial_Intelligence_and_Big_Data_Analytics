{
 "cells": [
  {
   "cell_type": "markdown",
   "id": "43561e5b-9762-42af-b826-5e17bbae2083",
   "metadata": {},
   "source": [
    "# Introduction:\n",
    "### - Importing Pandas\n",
    "### - Pandas Series\n",
    "### - Pandas DataFrame\n",
    "### - Pandas Index\n",
    "### - Pandas Array"
   ]
  },
  {
   "cell_type": "markdown",
   "id": "3ebe2bf6-5903-47aa-a11e-18ba3c7d7984",
   "metadata": {},
   "source": [
    "# Dataframe Operations and Manipulations:\n",
    "### - Pandas DataFrame Analysis\n",
    "### - Pandas DataFrame Manipulation\n",
    "### - Pandas Indexing and Slicing\n",
    "### - Pandas Select\n",
    "### - Pandas Multiindex\n",
    "### - Pandas Reshape\n",
    "### - Pandas Duplicate Values\n",
    "### - Pandas Pivot\n",
    "### - Pandas Pivot Table"
   ]
  },
  {
   "cell_type": "markdown",
   "id": "442785bb-fc4a-4f79-ab85-2ccfc059b7f9",
   "metadata": {},
   "source": [
    "# Data Import and Export:\n",
    "### - Pandas CSV\n",
    "### - Pandas JSON\n",
    "### - Pandas Excel\n",
    "### - Pandas SQL"
   ]
  },
  {
   "cell_type": "markdown",
   "id": "dbb99400-7059-49e6-a78c-ddcda1872140",
   "metadata": {},
   "source": [
    "# Data Cleaning:\n",
    "### - Pandas Cleaning Data\n",
    "### - Pandas Missing Values\n",
    "### - Pandas Handling Wrong Format\n",
    "### - Pandas Handling Wrong Data\n",
    "### - Pandas Get Dummies\n",
    "### - Pandas Categorical"
   ]
  },
  {
   "cell_type": "markdown",
   "id": "20e0e6dc-94a9-4edc-8e59-14800c97e9dc",
   "metadata": {},
   "source": [
    "# Data Analysis and Aggregation:\n",
    "### - Pandas Datetime\n",
    "### - Pandas Aggregate Functions\n",
    "### - Pandas Group By\n",
    "### - Pandas Filtering\n",
    "### - Pandas Sort\n",
    "### - Pandas Correlation"
   ]
  },
  {
   "cell_type": "markdown",
   "id": "50fb5c3d-873a-43fd-95c0-d7552a1503ce",
   "metadata": {},
   "source": [
    "# Data Visualization:\n",
    "### - Pandas Plot\n",
    "### - Pandas Histogram"
   ]
  },
  {
   "cell_type": "code",
   "execution_count": null,
   "id": "1c84d8d4-a5b4-421b-9174-1779a2f035d4",
   "metadata": {},
   "outputs": [],
   "source": []
  }
 ],
 "metadata": {
  "kernelspec": {
   "display_name": "Python 3 (ipykernel)",
   "language": "python",
   "name": "python3"
  },
  "language_info": {
   "codemirror_mode": {
    "name": "ipython",
    "version": 3
   },
   "file_extension": ".py",
   "mimetype": "text/x-python",
   "name": "python",
   "nbconvert_exporter": "python",
   "pygments_lexer": "ipython3",
   "version": "3.9.1"
  }
 },
 "nbformat": 4,
 "nbformat_minor": 5
}
