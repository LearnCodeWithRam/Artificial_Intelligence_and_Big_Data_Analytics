{
 "cells": [
  {
   "cell_type": "markdown",
   "id": "7f388151-9035-4ee1-a583-58cb9d324c9a",
   "metadata": {},
   "source": [
    "# Pandas CSV\n",
    "Pandas provides functions for both reading from and writing to CSV files.\n",
    "\n",
    "**CSV** stands for **Comma-Separated Values**. It is a popular file format used for storing tabular data, where each row represents a record, and columns are separated by a delimiter (generally a comma).\n",
    "\n",
    "For example, contents of a CSV file may look like,\n",
    "\n",
    "**Employee ID,First Name,Last Name,Department,Position,Salary**\n",
    "- **101,John,Doe,Marketing,Manager,50000**\n",
    "- **102,Jane,Smith,Sales,Associate,35000**\n",
    "- **103,Michael,Johnson,Finance,Analyst,45000**\n",
    "- **104,Emily,Williams,HR,Coordinator,40000**\n",
    "## Read CSV Files\n",
    "In Pandas, the `read_csv()` function allows us to read data from a CSV file into a **DataFrame**. It automatically detects commas and parses the data into appropriate columns.\n",
    "\n",
    "Here's an example of reading a CSV file using Pandas:"
   ]
  },
  {
   "cell_type": "code",
   "execution_count": 3,
   "id": "424974ba-cd4f-4846-833d-14903ee15556",
   "metadata": {},
   "outputs": [
    {
     "name": "stdout",
     "output_type": "stream",
     "text": [
      "     Duration  Pulse  Maxpulse  Calories\n",
      "0          60    110       130     409.1\n",
      "1          60    117       145     479.0\n",
      "2          60    103       135     340.0\n",
      "3          45    109       175     282.4\n",
      "4          45    117       148     406.0\n",
      "..        ...    ...       ...       ...\n",
      "164        60    105       140     290.8\n",
      "165        60    110       145     300.0\n",
      "166        60    115       145     310.2\n",
      "167        75    120       150     320.4\n",
      "168        75    125       150     330.4\n",
      "\n",
      "[169 rows x 4 columns]\n"
     ]
    }
   ],
   "source": [
    "import pandas as pd\n",
    "\n",
    "# read csv file\n",
    "df = pd.read_csv('data.csv', header = 0)\n",
    "\n",
    "print(df)"
   ]
  },
  {
   "cell_type": "markdown",
   "id": "528f0f21-d5f1-454b-b0dc-0d9a1cb98b58",
   "metadata": {},
   "source": [
    "The above code reads the contents of the `data.csv` file and creates a DataFrame named `df` containing the data from the CSV file.\n",
    "\n",
    "Here, `header=0` sets the first row as the header of the dataframe.\n",
    "\n",
    "The contents of the `data.csv` file are the same as the contents of the CSV file provided in the introduction section.\n",
    "\n",
    "**Note**: The `data.csv` file should be present in the current directory for the above code to work. If it is in a different directory, you will need to provide the full path to the file.\n",
    "\n",
    "For example, if the file `data.csv` is in the folder `csv_files`, the path `'./csv_files/data.csv'` should be specified as:\n",
    "\n",
    "```python\n",
    "df = pd.read_csv('./csv_files/data.csv', header=0)\n"
   ]
  },
  {
   "cell_type": "markdown",
   "id": "63b17cf2-9039-4adf-8239-264fefead249",
   "metadata": {},
   "source": [
    "## read_csv() Syntax\n",
    "The syntax of `read_csv()` in Pandas is:"
   ]
  },
  {
   "cell_type": "code",
   "execution_count": null,
   "id": "5c2b0b0a-c3fd-4ea1-b02b-19c18cbe5361",
   "metadata": {},
   "outputs": [],
   "source": [
    "df = pd.read_csv(\n",
    "    filepath_or_buffer,\n",
    "    sep=',',\n",
    "    header=0,\n",
    "    names=['col1', 'col2', 'col3'],\n",
    "    index_col='col1',\n",
    "    usecols=['col1', 'col3'],\n",
    "    skiprows=[1, 3],\n",
    "    nrows=100,\n",
    "    skipinitialspace=True\n",
    ")"
   ]
  },
  {
   "cell_type": "markdown",
   "id": "5cee5e87-9783-4186-b837-308c7643c990",
   "metadata": {},
   "source": [
    "Here,\n",
    "\n",
    "- **`filepath_or_buffer`**: represents the path or buffer object containing the CSV data to be read.\n",
    "- **`sep` (optional)**: specifies the delimiter used in the CSV file.\n",
    "- **`header` (optional)**: indicates the row number to be used as the header or column names.\n",
    "- **`names` (optional)**: a list of column names to assign to the DataFrame.\n",
    "- **`index_col` (optional)**: specifies the column to be used as the index of the DataFrame.\n",
    "- **`usecols` (optional)**: a list of columns to be read and included in the DataFrame.\n",
    "- **`skiprows` (optional)**: used to skip specific rows while reading the CSV file.\n",
    "- **`nrows` (optional)**: sets the maximum number of rows to be read from the CSV file.\n",
    "- **`skipinitialspace` (optional)**: determines whether to skip any whitespace after the delimiter in each field.\n",
    "\n",
    "These are some commonly used arguments of the `read_csv()` function. All of them are optional except `filepath_or_buffer`. There are many other optional arguments of `read_csv()`.\n",
    "\n",
    "To learn more, please refer to the official documentation on `read_csv()`.\n",
    "\n",
    "### Example: `read_csv()` With Arguments\n",
    "\n",
    "Let's suppose that we have a CSV file named `data.csv` with the following contents:\n",
    "\n"
   ]
  },
  {
   "cell_type": "markdown",
   "id": "d53c027b-12da-4e39-841f-90345f3068aa",
   "metadata": {},
   "source": [
    "- **23, 'Hello', 45.6**\n",
    "- **56, 'World', 78.9**\n",
    "- **89, 'Foo', 12.3**\n",
    "- **34, 'Bar', 56.7**"
   ]
  },
  {
   "cell_type": "markdown",
   "id": "f9a9fe2e-e104-4cef-b929-cdfd00b0dc75",
   "metadata": {},
   "source": [
    "Now, let's load this CSV file into a DataFrame."
   ]
  },
  {
   "cell_type": "code",
   "execution_count": 6,
   "id": "708bc449-de01-4c47-a082-ae34fff64473",
   "metadata": {},
   "outputs": [
    {
     "name": "stdout",
     "output_type": "stream",
     "text": [
      "    col1  col2   col3\n",
      "60   117   145  479.0\n",
      "60   103   135  340.0\n",
      "45   109   175  282.4\n",
      "45   117   148  406.0\n",
      "60   102   127  300.0\n",
      "..   ...   ...    ...\n",
      "60   105   140  290.8\n",
      "60   110   145  300.0\n",
      "60   115   145  310.2\n",
      "75   120   150  320.4\n",
      "75   125   150  330.4\n",
      "\n",
      "[168 rows x 3 columns]\n"
     ]
    }
   ],
   "source": [
    "import pandas as pd\n",
    "\n",
    "# read csv file with some arguments\n",
    "df = pd.read_csv('data.csv', header = None, names = ['col1', 'col2', 'col3'], skiprows = 2)\n",
    "\n",
    "print(df)"
   ]
  },
  {
   "cell_type": "markdown",
   "id": "977e131d-a726-46fe-8bae-d69b28c0f272",
   "metadata": {},
   "source": [
    "In this example, we read a CSV file using the `read_csv()` method. We specified some arguments while reading the file to load the necessary data in the appropriate format.\n",
    "\n",
    "Here,\n",
    "\n",
    "- **`header=None`**: indicates that the file doesn't have a header row.\n",
    "- **`names=['col1', 'col2', 'col3']`**: assigns the column names as `'col1'`, `'col2'`, and `'col3'`.\n",
    "- **`skiprows=2`**: skips the first two rows.\n",
    "\n",
    "### Write to CSV Files\n",
    "\n",
    "We used `read_csv()` to read data from a CSV file into a DataFrame.\n",
    "\n",
    "Pandas also provides the `to_csv()` function to write data from a DataFrame into a CSV file.\n",
    "\n",
    "Let's see an example:\n",
    "\n",
    "\n"
   ]
  },
  {
   "cell_type": "code",
   "execution_count": 9,
   "id": "c8e25fe9-2ab4-4554-b32d-dd0b08664123",
   "metadata": {},
   "outputs": [
    {
     "name": "stdout",
     "output_type": "stream",
     "text": [
      "      Name  Age         City\n",
      "0    Alice   25     New York\n",
      "1      Bob   30  Los Angeles\n",
      "2  Charlie   35      Chicago\n"
     ]
    }
   ],
   "source": [
    "import pandas as pd\n",
    "\n",
    "# Create a DataFrame\n",
    "data = {'Name': ['Alice', 'Bob', 'Charlie'],\n",
    "        'Age': [25, 30, 35],\n",
    "        'City': ['New York', 'Los Angeles', 'Chicago']}\n",
    "\n",
    "df = pd.DataFrame(data)\n",
    "\n",
    "# Write the DataFrame to a CSV file\n",
    "df.to_csv('output.csv', index=False)\n",
    "output_csv= df.to_csv('output.csv', index=False)\n",
    "print(pd.read_csv('output.csv'))"
   ]
  },
  {
   "cell_type": "markdown",
   "id": "a1268651-7ada-4f4f-9287-7eeae6bee437",
   "metadata": {},
   "source": [
    "Here, the above code writes the DataFrame `df` to the `output.csv` file. The `index=False` parameter is used to exclude the index labels from the CSV file.\n",
    "\n",
    "**Note**: The above code will create a new file named `output.csv` in the current directory (unless a different directory is specified in the file path).\n",
    "\n",
    "If the file `output.csv` already exists in the current directory, running this code will overwrite the existing file with the new contents of the DataFrame.\n"
   ]
  },
  {
   "cell_type": "markdown",
   "id": "bb85993a-ee5a-4472-900f-0ca69db64b0a",
   "metadata": {},
   "source": [
    "## to_csv() Syntax\n",
    "The syntax of to_csv() in Pandas is:"
   ]
  },
  {
   "cell_type": "code",
   "execution_count": null,
   "id": "987174ab-24ec-4006-8cb8-29ee2572979a",
   "metadata": {},
   "outputs": [],
   "source": [
    "df.to_csv(\n",
    "    path_or_buf,\n",
    "    sep=',',\n",
    "    header=True,\n",
    "    index=False,\n",
    "    mode='w',\n",
    "    encoding=None,\n",
    "    quoting=None,\n",
    "    line_terminator='\\n',\n",
    ")"
   ]
  },
  {
   "cell_type": "markdown",
   "id": "636ecef4-d1cf-4bba-9784-0434f6cc33b9",
   "metadata": {},
   "source": [
    "Here,\n",
    "\n",
    "- **`path_or_buf`**: represents the path or buffer object where the DataFrame will be saved as a CSV file.\n",
    "- **`sep` (optional)**: specifies the delimiter to be used in the output CSV file.\n",
    "- **`header` (optional)**: indicates whether to include the header row in the output CSV file.\n",
    "- **`index` (optional)**: determines whether to include the index column in the output CSV file.\n",
    "- **`mode` (optional)**: specifies the mode in which the output file will be opened.\n",
    "- **`encoding` (optional)**: sets the character encoding to be used when writing the CSV file.\n",
    "- **`quoting` (optional)**: determines the quoting behavior for fields that contain special characters.\n",
    "- **`line_terminator` (optional)**: specifies the character sequence used to terminate lines in the output CSV file.\n",
    "\n",
    "These are some commonly used arguments of the `to_csv()` function. All of them are optional except `path_or_buf`. There are many other optional arguments that can be used with `to_csv()`.\n"
   ]
  },
  {
   "cell_type": "markdown",
   "id": "4ae72cf3-98b8-453d-84c8-d616e0a5658e",
   "metadata": {},
   "source": [
    "## Example: to_csv() With Arguments"
   ]
  },
  {
   "cell_type": "code",
   "execution_count": 11,
   "id": "3bc2ee8f-0b55-4f62-8950-a5fa1f2b7649",
   "metadata": {},
   "outputs": [],
   "source": [
    "import pandas as pd\n",
    "\n",
    "# create dataframe\n",
    "data = {'Name': ['Tom', 'Nick', 'John', 'Tom'],\n",
    "        'Age': [20, 21, 19, 18],\n",
    "        'City': ['New York', 'London', 'Paris', 'Berlin']}\n",
    "df = pd.DataFrame(data)\n",
    "\n",
    "# write to csv file\n",
    "df.to_csv('output1.csv', sep = ';', index = False, header = True)"
   ]
  },
  {
   "cell_type": "markdown",
   "id": "9429cfad-8d7b-46ad-b282-3262082a36c2",
   "metadata": {},
   "source": [
    "In this example, we wrote a DataFrame to the CSV file `'output.csv'` using the `to_csv()` method. We used some arguments to write the necessary data to the file in the required format.\n",
    "\n",
    "Here,\n",
    "\n",
    "- **`sep=';'`**: specifies the delimiter as `';'`.\n",
    "- **`index=False`**: instructs not to include the index column in the output file.\n",
    "- **`header=True`**: instructs to include the column names as the header in the output file.\n"
   ]
  },
  {
   "cell_type": "code",
   "execution_count": null,
   "id": "174f760d-0e2a-41ef-8587-2d130f58e376",
   "metadata": {},
   "outputs": [],
   "source": []
  }
 ],
 "metadata": {
  "kernelspec": {
   "display_name": "Python 3 (ipykernel)",
   "language": "python",
   "name": "python3"
  },
  "language_info": {
   "codemirror_mode": {
    "name": "ipython",
    "version": 3
   },
   "file_extension": ".py",
   "mimetype": "text/x-python",
   "name": "python",
   "nbconvert_exporter": "python",
   "pygments_lexer": "ipython3",
   "version": "3.9.1"
  }
 },
 "nbformat": 4,
 "nbformat_minor": 5
}
