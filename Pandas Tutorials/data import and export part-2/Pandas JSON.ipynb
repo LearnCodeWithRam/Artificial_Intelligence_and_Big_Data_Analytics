{
 "cells": [
  {
   "cell_type": "markdown",
   "id": "67e57253-74eb-47d6-8950-8b82adca5ca1",
   "metadata": {},
   "source": [
    "# Pandas JSON\n",
    "\n",
    "Pandas offers methods like `read_json()` and `to_json()` to work with JSON (JavaScript Object Notation) data.\n",
    "\n",
    "JSON is a plain text document that follows a format similar to a JavaScript object. It consists of key-value pairs, where the keys are strings, and the values can be strings, numbers, booleans, arrays, or even other JSON objects.\n",
    "\n",
    "## Here's an example of a JSON:\n",
    "```json\n",
    "{\n",
    "  \"Name\": \"Alice\",\n",
    "  \"Age\": 25,\n",
    "  \"City\": \"New York\",\n",
    "  \"Skills\": [\"Python\", \"Data Analysis\", \"Machine Learning\"]\n",
    "}\n"
   ]
  },
  {
   "cell_type": "code",
   "execution_count": null,
   "id": "2de68dd1-f970-4a4e-ac77-4fb43abb10c2",
   "metadata": {},
   "outputs": [],
   "source": [
    "[\n",
    "  {\n",
    "    \"name\": \"John\",\n",
    "    \"age\": 30,\n",
    "    \"city\": \"New York\"\n",
    "  },\n",
    "  {\n",
    "    \"name\": \"Emily\",\n",
    "    \"age\": 28,\n",
    "    \"city\": \"San Francisco\"\n",
    "  },\n",
    "  {\n",
    "    \"name\": \"David\",\n",
    "    \"age\": 35,\n",
    "    \"city\": \"Chicago\"\n",
    "  }\n",
    "]"
   ]
  },
  {
   "cell_type": "markdown",
   "id": "fc70c680-2622-4750-9a46-bb555f637877",
   "metadata": {},
   "source": [
    "Let's name this JSON file `json_data.json`."
   ]
  },
  {
   "cell_type": "markdown",
   "id": "cb8338e8-3247-43eb-a363-c5cfe0d7b30e",
   "metadata": {},
   "source": [
    "## Read JSON in Pandas\n",
    "To read JSON data into a Pandas DataFrame, you can use the `read_json()` function.\n",
    "\n",
    "Let's read the JSON file `json_data.json` we created before."
   ]
  },
  {
   "cell_type": "code",
   "execution_count": null,
   "id": "f647e2f2-aeb9-4bf1-b87d-a7f238cef7a5",
   "metadata": {},
   "outputs": [],
   "source": [
    "import pandas as pd\n",
    "\n",
    "df = pd.read_json('data.json')\n",
    "\n",
    "print(df)"
   ]
  },
  {
   "cell_type": "markdown",
   "id": "9260bdf0-7e31-4515-a87e-8479228a9831",
   "metadata": {},
   "source": [
    "## read_json() Syntax\n",
    "The syntax of `read_json()` in Pandas is:"
   ]
  },
  {
   "cell_type": "markdown",
   "id": "c17a858f-b68b-4b3d-a70b-d0e53be91823",
   "metadata": {},
   "source": [
    "```python\n",
    "df = pd.read_json(filepath_or_buffer, orient=None, typ='frame', numpy=False, precise_float=False,encoding=None,lines=False)"
   ]
  },
  {
   "cell_type": "markdown",
   "id": "0d932379-80d2-4222-aa66-34b11180cead",
   "metadata": {},
   "source": [
    "Here,\n",
    "\n",
    "- **`filepath_or_buffer` (optional)**: specifies the path or URL to the JSON file or a file-like object containing the JSON data.\n",
    "- **`orient` (optional)**: specifies the orientation of the JSON file. Common options include `'columns'`, `'index'`, `'split'`, etc.\n",
    "- **`typ` (optional)**: indicates the type of expected output. Can be `'series'` or `'frame'` (default).\n",
    "- **`precise_float` (optional)**: specifies whether to parse floats precisely.\n",
    "- **`encoding` (optional)**: specifies the encoding to be used when reading the JSON file.\n",
    "- **`lines` (optional)**: controls various aspects of the data reading process, especially for JSON files that contain multiple JSON objects (when set to `True`).\n",
    "\n",
    "These are some commonly used arguments of the `read_json()` function. There are many other optional arguments that can be used with `read_json()`.\n"
   ]
  },
  {
   "cell_type": "markdown",
   "id": "91259018-e2b0-4e7d-98b3-9fa85910ec9a",
   "metadata": {},
   "source": [
    "### Example: Read JSON\n",
    "\n",
    "Let's suppose that we have a JSON file named `data.json` with the following contents:\n",
    "\n",
    "```json\n",
    "[[1, \"John\", 25.12345], [2, \"Jane\", 30.98765432155], [3, \"Alex\", 28.56]]\n"
   ]
  },
  {
   "cell_type": "markdown",
   "id": "7947f36e-5f53-4694-ace8-eef24aa0d4ad",
   "metadata": {},
   "source": [
    "Here, the JSON contains an array of arrays in the same line. So, we pass the required arguments to the `read_json()` method accordingly.\n",
    "\n",
    "Now, let's load this JSON file into a DataFrame:"
   ]
  },
  {
   "cell_type": "markdown",
   "id": "bbede973-576c-48dd-bcc7-d095c1805637",
   "metadata": {},
   "source": [
    "```python \n",
    "import pandas as pd\n",
    "\n",
    "df = pd.read_json('data.json', orient = 'values', lines = False)\n",
    "\n",
    "print(df)\n",
    "\n",
    "Output:\n",
    "\n",
    "   0     1          2\n",
    "0  1  John  25.123450\n",
    "1  2  Jane  30.987654\n",
    "2  3  Alex  28.560000"
   ]
  },
  {
   "cell_type": "markdown",
   "id": "6172bb9f-0279-4a52-b39a-2a69320df7c1",
   "metadata": {},
   "source": [
    "In this example, we read a JSON file containing an array of arrays using `read_json()`. We specified some arguments while reading the file to load the necessary data in appropriate format.\n",
    "\n",
    "Here,\n",
    "\n",
    "`orient = 'values'`: specifies that the JSON file contains an array of arrays\n",
    "`lines = False`: indicates that the JSON file does not have each row in a separate line\n",
    "To visualize the effect of orient and lines arguments, let's take a JSON in a different format."
   ]
  },
  {
   "cell_type": "markdown",
   "id": "c53c6832-6147-40d1-83e3-e852f0d4779d",
   "metadata": {},
   "source": [
    "```JSON\n",
    "{\"id\": 1, \"name\": \"John\", \"value\": 25.12345}\n",
    "{\"id\": 2, \"name\": \"Jane\", \"value\": 30.98765432155}\n",
    "{\"id\": 3, \"name\": \"Alex\", \"value\": 28.56}\n",
    "Note that the above JSON is in the wrong format. We're using it only to demonstrate the use of specified arguments.\n",
    "\n",
    "Now, let's read the above JSON from `data.json`."
   ]
  },
  {
   "cell_type": "markdown",
   "id": "244014a9-e02c-4010-acea-ce145d43e4d1",
   "metadata": {},
   "source": [
    "```python\n",
    "import pandas as pd\n",
    "\n",
    "df = pd.read_json('data.json', orient = 'records', lines = True)\n",
    "\n",
    "print(df)\n",
    "Output\n",
    "\n",
    "   id  name      value\n",
    "0   1  John  25.123450\n",
    "1   2  Jane  30.987654\n",
    "2   3  Alex  28.560000\n",
    "\n"
   ]
  },
  {
   "cell_type": "markdown",
   "id": "ad1fb79e-4afe-4f71-8a8e-db2e3ce398b0",
   "metadata": {},
   "source": [
    "Here,\n",
    "\n",
    "`orient = 'records'`: specifies that the JSON file contains data in key-value pairs\n",
    "`lines = True`: indicates that the JSON file contains each row in a separate line"
   ]
  },
  {
   "cell_type": "markdown",
   "id": "3b577044-36db-4a4a-b560-f8cb25b888c0",
   "metadata": {},
   "source": [
    "## Write JSON in Pandas\n",
    "To write a Pandas DataFrame to a JSON file, you can use the `to_json()` function. For example,"
   ]
  },
  {
   "cell_type": "code",
   "execution_count": 4,
   "id": "b03281e5-4d75-4470-ad60-92cf5d6d3dde",
   "metadata": {},
   "outputs": [],
   "source": [
    "import pandas as pd\n",
    "\n",
    "# create a dictionary\n",
    "data = {'Name': ['John', 'Alice', 'Bob'],\n",
    "        'Age': [25, 30, 35],\n",
    "        'City': ['New York', 'London', 'Paris']}\n",
    "\n",
    "# create a dataframe from the dictionary\n",
    "df = pd.DataFrame(data)\n",
    "\n",
    "# write dataframe to json file\n",
    "df.to_json('json_output.json')"
   ]
  },
  {
   "cell_type": "markdown",
   "id": "77527e9d-2421-4f35-95e8-33db3279ae8a",
   "metadata": {},
   "source": [
    "```python\n",
    "Output:\n",
    "{\"Name\":{\"0\":\"John\",\"1\":\"Alice\",\"2\":\"Bob\"},\"Age\":{\"0\":25,\"1\":30,\"2\":35},\"City\":{\"0\":\"New York\",\"1\":\"London\",\"2\":\"Paris\"}}"
   ]
  },
  {
   "cell_type": "markdown",
   "id": "b9996c20-468f-4b1d-9834-f563925581cf",
   "metadata": {},
   "source": [
    "The above code snippet writes the `df` DataFrame to the JSON file `output.json`."
   ]
  },
  {
   "cell_type": "markdown",
   "id": "6ce814a6-f52b-48d4-8c96-486a0571f6cf",
   "metadata": {},
   "source": [
    "## to_json() Syntax\n",
    "The syntax of `to_json()` in Pandas is:\n",
    "```python\n",
    "df.to_json(\n",
    "    path_or_buf,\n",
    "    orient= 'columns',\n",
    "    lines=False,\n",
    "    compression='infer', \n",
    "    index=True\n",
    ")\n"
   ]
  },
  {
   "cell_type": "markdown",
   "id": "34ec379f-3304-4a01-82b5-7d6ad9159383",
   "metadata": {},
   "source": [
    "Here,\n",
    "\n",
    "- **`path_or_buf` (optional)**: specifies the file path or buffer where the JSON string is written.\n",
    "- **`orient` (optional)**: specifies the format of the JSON string. Common options include `'records'`, `'split'`, `'index'`, `'columns'`, etc.\n",
    "- **`lines` (optional)**: specifies whether the resulting JSON string should be in a line-separated format (useful for large JSON files).\n",
    "- **`compression` (optional)**: specifies the compression algorithm for file output (e.g., `'gzip'`, `'bz2'`, `'zip'`).\n",
    "- **`index` (optional)**: specifies whether to include the DataFrame's index in the JSON string.\n",
    "\n",
    "These are some commonly used arguments of the `to_json()` function. There are many other optional arguments that can be used with `to_json()`.\n"
   ]
  },
  {
   "cell_type": "markdown",
   "id": "331bd086-2029-408a-9fd2-57002bd5a933",
   "metadata": {},
   "source": [
    "## Example: Write JSON\n"
   ]
  },
  {
   "cell_type": "code",
   "execution_count": 6,
   "id": "301215c4-205b-4241-b17d-e29cf306508a",
   "metadata": {},
   "outputs": [],
   "source": [
    "import pandas as pd\n",
    "\n",
    "# create a dictionary\n",
    "data = {'Name': ['John', 'Alice', 'Bob'],\n",
    "             'Age': [25, 30, 35],\n",
    "             'City': ['New York', 'London', 'Paris']}\n",
    "\n",
    "# create a dataframe from the dictionary\n",
    "df = pd.DataFrame(data)\n",
    "\n",
    "# write dataframe to json file\n",
    "df.to_json('output5.json', orient = 'records', indent = 4)"
   ]
  },
  {
   "cell_type": "markdown",
   "id": "ccfbfbaf-225e-46d6-b231-a2624c5a64c0",
   "metadata": {},
   "source": [
    "### Output\n",
    "\n",
    "```json\n",
    "[\n",
    "    {\n",
    "        \"Name\": \"John\",\n",
    "        \"Age\": 25,\n",
    "        \"City\": \"New York\"\n",
    "    },\n",
    "    {\n",
    "        \"Name\": \"Alice\",\n",
    "        \"Age\": 30,\n",
    "        \"City\": \"London\"\n",
    "    },\n",
    "    {\n",
    "        \"Name\": \"Bob\",\n",
    "        \"Age\": 35,\n",
    "        \"City\": \"Paris\"\n",
    "    }\n",
    "]\n"
   ]
  },
  {
   "cell_type": "markdown",
   "id": "f67be31b-47af-4666-b2f6-b83d81bce424",
   "metadata": {},
   "source": [
    "In this example, we exported the DataFrame `df` to the `output.json` file.\n",
    "\n",
    "Here,\n",
    "\n",
    "- **`orient='records'`**: represents each row in the DataFrame as a JSON object.\n",
    "- **`indent=4`**: sets the number of spaces used for indentation to 4.\n",
    "\n",
    "**Note**: The above code will create a new file named `output.json` in the current directory (unless a different directory is specified in the file path).\n",
    "\n",
    "If the file `output.json` already exists in the current directory, running this code will overwrite the existing file with the new contents of the DataFrame.\n"
   ]
  },
  {
   "cell_type": "code",
   "execution_count": null,
   "id": "1890a472-09bc-46fc-9749-c3a496c7666e",
   "metadata": {},
   "outputs": [],
   "source": []
  }
 ],
 "metadata": {
  "kernelspec": {
   "display_name": "Python 3 (ipykernel)",
   "language": "python",
   "name": "python3"
  },
  "language_info": {
   "codemirror_mode": {
    "name": "ipython",
    "version": 3
   },
   "file_extension": ".py",
   "mimetype": "text/x-python",
   "name": "python",
   "nbconvert_exporter": "python",
   "pygments_lexer": "ipython3",
   "version": "3.9.1"
  }
 },
 "nbformat": 4,
 "nbformat_minor": 5
}
