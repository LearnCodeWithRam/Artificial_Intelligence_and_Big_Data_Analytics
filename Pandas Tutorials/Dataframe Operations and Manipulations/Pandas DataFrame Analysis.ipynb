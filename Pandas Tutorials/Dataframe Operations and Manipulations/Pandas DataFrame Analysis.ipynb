{
 "cells": [
  {
   "cell_type": "markdown",
   "id": "bb4cc315-0193-4699-b912-1d625111ab2c",
   "metadata": {},
   "source": [
    "## Pandas DataFrame Analysis\n",
    "\n",
    "Pandas DataFrame objects come with a variety of built-in functions like **head()**, **tail()** and **info()** that allow us to view and analyze DataFrames.\n",
    "\n",
    "### View Data in a Pandas DataFrame\n",
    "    \n",
    "A Pandas Dataframe can be displayed as any other Python [variable](https://www.programiz.com/python-programming/variables-constants-literals) using the **print()** function.\n",
    "\n",
    "However, when dealing with very large data frames with large numbers of rows and columns, the **print()** function is unable to display the whole DataFrame. Instead, it prints only a part of the DataFrame.\n",
    "\n",
    "In the case of large DataFrames, we can use **head()**, **tail()** and **info()** methods to get the overview of the DataFrame.\n",
    "\n",
    "### Pandas head()\n",
    "    \n",
    "The **head()** method provides a rapid summary of a data frame. It returns the column headers and a specified number of rows from the beginning. For example,"
   ]
  },
  {
   "cell_type": "code",
   "execution_count": 3,
   "id": "258e17bb-adde-4589-939a-904da2a4e4df",
   "metadata": {},
   "outputs": [
    {
     "name": "stdout",
     "output_type": "stream",
     "text": [
      "First Three Rows:\n",
      "    Name  Age      City\n",
      "0   John   25  New York\n",
      "1  Alice   30     Paris\n",
      "2    Bob   35    London\n",
      "\n",
      "First Five Rows:\n",
      "    Name  Age      City\n",
      "0   John   25  New York\n",
      "1  Alice   30     Paris\n",
      "2    Bob   35    London\n",
      "3   Emma   28    Sydney\n",
      "4   Mike   32     Tokyo\n"
     ]
    }
   ],
   "source": [
    "import pandas as pd\n",
    "\n",
    "# create a dataframe\n",
    "data = {'Name': ['John', 'Alice', 'Bob', 'Emma', 'Mike', 'Sarah', 'David', 'Linda', 'Tom', 'Emily'],\n",
    "        'Age': [25, 30, 35, 28, 32, 27, 40, 33, 29, 31],\n",
    "        'City': ['New York', 'Paris', 'London', 'Sydney', 'Tokyo', 'Berlin', 'Rome', 'Madrid', 'Toronto', 'Moscow']}\n",
    "df = pd.DataFrame(data)\n",
    "\n",
    "# display the first three rows\n",
    "print('First Three Rows:')\n",
    "print(df.head(3))\n",
    "print()\n",
    "\n",
    "# display the first five rows\n",
    "print('First Five Rows:')\n",
    "print(df.head())"
   ]
  },
  {
   "cell_type": "markdown",
   "id": "cd20df63-e954-4a59-b507-699ffb44bdad",
   "metadata": {},
   "source": [
    "In this example, we displayed selected rows of the df DataFrame starting from the top using head().\n",
    "\n",
    "Notice that the first five rows are selected by default when no argument is passed to the head() method."
   ]
  },
  {
   "cell_type": "markdown",
   "id": "fed9d74d-0b96-4eca-8b29-cbdc931f54b3",
   "metadata": {},
   "source": [
    "### Pandas tail()\n",
    "\n",
    "The **tail()** method is similar to **head()** but it returns data starting from the end of the DataFrame. For example,"
   ]
  },
  {
   "cell_type": "code",
   "execution_count": 4,
   "id": "f26fd9cb-eba6-4cc4-8c17-b913e8d34295",
   "metadata": {},
   "outputs": [
    {
     "name": "stdout",
     "output_type": "stream",
     "text": [
      "Last Three Rows:\n",
      "    Name  Age     City\n",
      "7  Linda   33   Madrid\n",
      "8    Tom   29  Toronto\n",
      "9  Emily   31   Moscow\n",
      "\n",
      "Last Five Rows:\n",
      "    Name  Age     City\n",
      "5  Sarah   27   Berlin\n",
      "6  David   40     Rome\n",
      "7  Linda   33   Madrid\n",
      "8    Tom   29  Toronto\n",
      "9  Emily   31   Moscow\n"
     ]
    }
   ],
   "source": [
    "import pandas as pd\n",
    "\n",
    "# create a dataframe\n",
    "data = {'Name': ['John', 'Alice', 'Bob', 'Emma', 'Mike', 'Sarah', 'David', 'Linda', 'Tom', 'Emily'],\n",
    "        'Age': [25, 30, 35, 28, 32, 27, 40, 33, 29, 31],\n",
    "        'City': ['New York', 'Paris', 'London', 'Sydney', 'Tokyo', 'Berlin', 'Rome', 'Madrid', 'Toronto', 'Moscow']}\n",
    "\n",
    "df = pd.DataFrame(data)\n",
    "\n",
    "# display the last three rows\n",
    "print('Last Three Rows:')\n",
    "print(df.tail(3))\n",
    "print()\n",
    "\n",
    "# display the last five rows\n",
    "print('Last Five Rows:')\n",
    "print(df.tail())"
   ]
  },
  {
   "cell_type": "markdown",
   "id": "900695fa-ba2b-4d1f-9c38-ef885facf550",
   "metadata": {},
   "source": [
    "In this example, we displayed selected rows of the **df** DataFrame starting from the bottom using **tail()**.\n",
    "\n",
    "Notice that the last five rows are selected by default when no argument is passed to the **tail()** method."
   ]
  },
  {
   "cell_type": "markdown",
   "id": "aa26598c-b644-452f-b332-8584fab1266b",
   "metadata": {},
   "source": [
    "### Get DataFrame Information\n",
    "The **info()** method gives us the overall information about the DataFrame such as its class, data type, size etc. For example,"
   ]
  },
  {
   "cell_type": "code",
   "execution_count": 5,
   "id": "f1186825-a39f-44b2-ad3f-72959b2126ac",
   "metadata": {},
   "outputs": [
    {
     "name": "stdout",
     "output_type": "stream",
     "text": [
      "<class 'pandas.core.frame.DataFrame'>\n",
      "RangeIndex: 10 entries, 0 to 9\n",
      "Data columns (total 3 columns):\n",
      " #   Column  Non-Null Count  Dtype \n",
      "---  ------  --------------  ----- \n",
      " 0   Name    10 non-null     object\n",
      " 1   Age     10 non-null     int64 \n",
      " 2   City    10 non-null     object\n",
      "dtypes: int64(1), object(2)\n",
      "memory usage: 368.0+ bytes\n"
     ]
    }
   ],
   "source": [
    "import pandas as pd\n",
    "\n",
    "# create dataframe\n",
    "data = {'Name': ['John', 'Alice', 'Bob', 'Emma', 'Mike', 'Sarah', 'David', 'Linda', 'Tom', 'Emily'],\n",
    "        'Age': [25, 30, 35, 28, 32, 27, 40, 33, 29, 31],\n",
    "        'City': ['New York', 'Paris', 'London', 'Sydney', 'Tokyo', 'Berlin', 'Rome', 'Madrid', 'Toronto', 'Moscow']}\n",
    "df = pd.DataFrame(data)\n",
    "\n",
    "# get info about dataframe\n",
    "df.info()"
   ]
  },
  {
   "cell_type": "markdown",
   "id": "e267e25d-a00f-4047-a847-8bf7e68ce66a",
   "metadata": {},
   "source": [
    "As you can see, the `info()` method provides the following information about a Pandas DataFrame:\n",
    "\n",
    "- **Class**: The class of the object, which indicates that it is a Pandas DataFrame.\n",
    "- **RangeIndex**: The index range of the DataFrame, showing the starting and ending index values.\n",
    "- **Data columns**: The total number of columns in the DataFrame.\n",
    "- **Column names**: The names of the columns in the DataFrame.\n",
    "- **Non-Null Count**: The count of non-null values for each column.\n",
    "- **Dtype**: The data types of the columns.\n",
    "- **Memory usage**: The memory usage of the DataFrame in bytes.\n",
    "\n",
    "The provided information enables us to understand the dataset's structure, dimensions, and any missing values. This insight is essential for data exploration, cleaning, manipulation, and analysis.\n"
   ]
  },
  {
   "cell_type": "markdown",
   "id": "704248b9-642e-4dcd-b8c2-4d5b2be3b649",
   "metadata": {},
   "source": [
    "# Pandas DataFrame Manipulation\n",
    "DataFrame manipulation in Pandas involves editing and modifying existing DataFrames. Some common DataFrame manipulation operations are:\n",
    "\n",
    "- **Adding rows/columns**\n",
    "- **Removing rows/columns**\n",
    "- **Renaming rows/columns**\n",
    "### Add a New Column to a Pandas DataFrame\n",
    "We can add a new column to an existing Pandas DataFrame by simply declaring a new list as a column. For example,"
   ]
  },
  {
   "cell_type": "code",
   "execution_count": 6,
   "id": "4f8601eb-8f50-4e49-9190-12b815dadecb",
   "metadata": {},
   "outputs": [
    {
     "name": "stdout",
     "output_type": "stream",
     "text": [
      "      Name  Height Qualification   Address\n",
      "0     John     5.5           BSc  New York\n",
      "1     Emma     6.0           BBA    London\n",
      "2  Michael     5.8           MBA    Sydney\n",
      "3   Sophia     5.3           BSc   Toronto\n"
     ]
    }
   ],
   "source": [
    "import pandas as pd\n",
    "\n",
    "# define a dictionary containing student data\n",
    "data = {'Name': ['John', 'Emma', 'Michael', 'Sophia'],\n",
    "        'Height': [5.5, 6.0, 5.8, 5.3],\n",
    "        'Qualification': ['BSc', 'BBA', 'MBA', 'BSc']}\n",
    "\n",
    "# convert the dictionary into a DataFrame\n",
    "df = pd.DataFrame(data)\n",
    "\n",
    "# declare a new list\n",
    "address = ['New York', 'London', 'Sydney', 'Toronto']\n",
    "\n",
    "# assign the list as a column\n",
    "df['Address'] = address\n",
    "\n",
    "print(df)"
   ]
  },
  {
   "cell_type": "markdown",
   "id": "1c7c34a9-0b9a-47a2-9271-c51af2e9b402",
   "metadata": {},
   "source": [
    "In this example, we assign the list `address` to the `Address` column in the DataFrame."
   ]
  },
  {
   "cell_type": "markdown",
   "id": "1c0fb1d9-0e9c-4d65-961f-102430ac96de",
   "metadata": {},
   "source": [
    "### Add a New Row to a Pandas DataFrame\n",
    "Adding rows to a DataFrame is not quite as straightforward as adding columns in Pandas. We use the `.loc` property to add a new row to a Pandas DataFrame.\n",
    "\n",
    "For example,"
   ]
  },
  {
   "cell_type": "code",
   "execution_count": 7,
   "id": "38b8e714-e154-4f42-9ba3-8b48ec66af4b",
   "metadata": {},
   "outputs": [
    {
     "name": "stdout",
     "output_type": "stream",
     "text": [
      "Original DataFrame:\n",
      "      Name  Height Qualification\n",
      "0     John     5.5           BSc\n",
      "1     Emma     6.0           BBA\n",
      "2  Michael     5.8           MBA\n",
      "3   Sophia     5.3           BSc\n",
      "\n",
      "Modified DataFrame:\n",
      "      Name  Height Qualification\n",
      "0     John     5.5           BSc\n",
      "1     Emma     6.0           BBA\n",
      "2  Michael     5.8           MBA\n",
      "3   Sophia     5.3           BSc\n",
      "4      Amy     5.2           BIT\n"
     ]
    }
   ],
   "source": [
    "import pandas as pd\n",
    "\n",
    "# define a dictionary containing student data\n",
    "data = {'Name': ['John', 'Emma', 'Michael', 'Sophia'],\n",
    "        'Height': [5.5, 6.0, 5.8, 5.3],\n",
    "        'Qualification': ['BSc', 'BBA', 'MBA', 'BSc']}\n",
    "\n",
    "# convert the dictionary into a DataFrame\n",
    "df = pd.DataFrame(data)\n",
    "\n",
    "print(\"Original DataFrame:\")\n",
    "print(df)\n",
    "print()\n",
    "\n",
    "# add a new row\n",
    "df.loc[len(df.index)] = ['Amy', 5.2, 'BIT'] \n",
    "\n",
    "print(\"Modified DataFrame:\")\n",
    "print(df)"
   ]
  },
  {
   "cell_type": "markdown",
   "id": "c858000c-1532-4081-8f7d-8c79d218994c",
   "metadata": {},
   "source": [
    "In this example, we added a row `['Amy', 5.2, 'BIT']` to the `df` DataFrame.\n",
    "\n",
    "Here,\n",
    "\n",
    "`len(df.index)`: returns the number of rows in `df`\n",
    "`df.loc[...]:` accesses the row with index value enclosed by the square brackets\n",
    "\n",
    "\n",
    "### Remove Rows/Columns from a Pandas DataFrame\n",
    "We can use `drop()` to delete rows and columns from a DataFrame.\n",
    "\n",
    "### Example: Delete Rows"
   ]
  },
  {
   "cell_type": "code",
   "execution_count": 8,
   "id": "5259f4b7-9f84-45eb-b87a-a73a6b955165",
   "metadata": {},
   "outputs": [
    {
     "name": "stdout",
     "output_type": "stream",
     "text": [
      "Original DataFrame:\n",
      "      Name  Age      City\n",
      "0    Alice   25  New York\n",
      "1      Bob   30    London\n",
      "2  Charlie   35     Paris\n",
      "3    David   40     Tokyo\n",
      "4   Felipe   22    Bogota\n",
      "5     Rita   29  Banglore\n",
      "\n",
      "Modified DataFrame:\n",
      "      Name  Age      City\n",
      "0    Alice   25  New York\n",
      "2  Charlie   35     Paris\n"
     ]
    }
   ],
   "source": [
    "import pandas as pd\n",
    "\n",
    "# create a sample DataFrame\n",
    "data = {'Name': ['Alice', 'Bob', 'Charlie', 'David', 'Felipe', 'Rita'],\n",
    "        'Age': [25, 30, 35, 40, 22, 29],\n",
    "        'City': ['New York', 'London', 'Paris', 'Tokyo', 'Bogota', 'Banglore']}\n",
    "df = pd.DataFrame(data)\n",
    "\n",
    "# display the original DataFrame\n",
    "print(\"Original DataFrame:\")\n",
    "print(df)\n",
    "print()\n",
    "\n",
    "# delete row with index 4\n",
    "df.drop(4, axis=0, inplace=True)\n",
    "\n",
    "# delete row with index 5\n",
    "df.drop(index=5, inplace=True)\n",
    "\n",
    "# delete rows with index 1 and 3\n",
    "df.drop([1, 3], axis=0, inplace=True)\n",
    "\n",
    "# display the modified DataFrame after deleting rows\n",
    "print(\"Modified DataFrame:\")\n",
    "print(df)"
   ]
  },
  {
   "cell_type": "markdown",
   "id": "53fa3907-9099-46b4-9bbd-77658a38102f",
   "metadata": {},
   "source": [
    "In this example, we deleted single rows using the `labels=4` and `index=5` parameters. We also deleted multiple rows with `labels=[1,3]` argument.\n",
    "\n",
    "Here,\n",
    "\n",
    "`axis=0`: indicates that rows are to be deleted\n",
    "`inplace=True`: indicates that the changes are to be made in the original DataFrame\n"
   ]
  },
  {
   "cell_type": "markdown",
   "id": "2345f97f-be87-4800-9a8a-446a1e801f12",
   "metadata": {},
   "source": [
    "### Example: Delete columns"
   ]
  },
  {
   "cell_type": "code",
   "execution_count": 9,
   "id": "a8a46184-3511-4fca-a448-fe9f1a018198",
   "metadata": {},
   "outputs": [
    {
     "name": "stdout",
     "output_type": "stream",
     "text": [
      "Original DataFrame:\n",
      "      Name  Age      City Height    Profession Marital Status\n",
      "0    Alice   25  New York    165      Engineer         Single\n",
      "1      Bob   30    London    178  Entrepreneur        Married\n",
      "2  Charlie   35     Paris    185    Unemployed       Divorced\n",
      "3    David   40     Tokyo    171         Actor        Engaged\n",
      "\n",
      "Modified DataFrame:\n",
      "      Name      City\n",
      "0    Alice  New York\n",
      "1      Bob    London\n",
      "2  Charlie     Paris\n",
      "3    David     Tokyo\n"
     ]
    }
   ],
   "source": [
    "import pandas as pd\n",
    "\n",
    "# create a sample DataFrame\n",
    "data = {'Name': ['Alice', 'Bob', 'Charlie', 'David'],\n",
    "        'Age': [25, 30, 35, 40],\n",
    "        'City': ['New York', 'London', 'Paris', 'Tokyo'],\n",
    "        'Height': ['165', '178', '185', '171'],\n",
    "        'Profession': ['Engineer', 'Entrepreneur', 'Unemployed', 'Actor'],\n",
    "        'Marital Status': ['Single', 'Married', 'Divorced', 'Engaged']}\n",
    "df = pd.DataFrame(data)\n",
    "\n",
    "# display the original DataFrame\n",
    "print(\"Original DataFrame:\")\n",
    "print(df)\n",
    "print()\n",
    "\n",
    "# delete age column\n",
    "df.drop('Age', axis=1, inplace=True)\n",
    "\n",
    "# delete marital status column\n",
    "df.drop(columns='Marital Status', inplace=True)\n",
    "\n",
    "# delete height and profession columns\n",
    "df.drop(['Height', 'Profession'], axis=1, inplace=True)\n",
    "\n",
    "# display the modified DataFrame after deleting rows\n",
    "print(\"Modified DataFrame:\")\n",
    "print(df)"
   ]
  },
  {
   "cell_type": "markdown",
   "id": "ffdf971b-22a6-4994-a954-427c38d67c13",
   "metadata": {},
   "source": [
    "In this example, we deleted single columns using the `labels='Age'` and `columns='Marital Status'` parameters. We also deleted multiple columns with `labels=['Height', 'Profession']` argument.\n",
    "\n",
    "Here,\n",
    "\n",
    "`axis=1`: indicates that columns are to be deleted\n",
    "`inplace=True`: indicates that the changes are to be made in the original DataFrame"
   ]
  },
  {
   "cell_type": "markdown",
   "id": "9f48a8d7-d965-403d-b383-3cb39f171c61",
   "metadata": {},
   "source": [
    "### Rename Labels in a DataFrame\n",
    "We can rename columns in a Pandas DataFrame using the `rename()` function.\n",
    "\n",
    "### Example: Rename Columns"
   ]
  },
  {
   "cell_type": "code",
   "execution_count": 11,
   "id": "9044ccb5-92ab-4806-b66f-db869562f41c",
   "metadata": {},
   "outputs": [
    {
     "name": "stdout",
     "output_type": "stream",
     "text": [
      "Original DataFrame:\n",
      "      Name  Age      City\n",
      "0    Alice   25  New York\n",
      "1      Bob   30    London\n",
      "2  Charlie   35     Paris\n",
      "3    David   40     Tokyo\n",
      "\n",
      "Modified DataFrame:\n",
      "  First_Name  Number   Address\n",
      "0      Alice      25  New York\n",
      "1        Bob      30    London\n",
      "2    Charlie      35     Paris\n",
      "3      David      40     Tokyo\n"
     ]
    }
   ],
   "source": [
    "import pandas as pd\n",
    "\n",
    "# create a sample DataFrame\n",
    "data = {'Name': ['Alice', 'Bob', 'Charlie', 'David'],\n",
    "        'Age': [25, 30, 35, 40],\n",
    "        'City': ['New York', 'London', 'Paris', 'Tokyo']}\n",
    "df = pd.DataFrame(data)\n",
    "\n",
    "# display the original DataFrame\n",
    "print(\"Original DataFrame:\")\n",
    "print(df)\n",
    "print()\n",
    "\n",
    "# rename column 'Name' to 'First_Name'\n",
    "df.rename(columns= {'Name': 'First_Name'}, inplace=True)\n",
    "\n",
    "# rename columns 'Age' and 'City'\n",
    "df.rename(mapper= {'Age': 'Number', 'City':'Address'}, axis=1, inplace=True)\n",
    "\n",
    "# display the DataFrame after renaming column\n",
    "print(\"Modified DataFrame:\")\n",
    "print(df)"
   ]
  },
  {
   "cell_type": "markdown",
   "id": "e83f62bb-bc67-44a4-9849-36e5e9837a29",
   "metadata": {},
   "source": [
    "In this example, we renamed a single column using the `columns={'Name': 'First_Name'}` parameter. We also renamed multiple columns with `mapper={'Age': 'Number', 'City':'Address'}` argument.\n",
    "\n",
    "Here,\n",
    "\n",
    "`axis=1`: indicates that columns are to be renamed\n",
    "`inplace=True`: indicates that the changes are to be made in the original DataFrame"
   ]
  },
  {
   "cell_type": "markdown",
   "id": "8907df4f-12e9-4730-b6ff-0537b2e2f495",
   "metadata": {},
   "source": [
    "### Example: Rename Row Labels"
   ]
  },
  {
   "cell_type": "code",
   "execution_count": 12,
   "id": "539ccf61-1353-4b65-b23b-cd713d7df105",
   "metadata": {},
   "outputs": [
    {
     "name": "stdout",
     "output_type": "stream",
     "text": [
      "Original DataFrame:\n",
      "      Name  Age      City\n",
      "0    Alice   25  New York\n",
      "1      Bob   30    London\n",
      "2  Charlie   35     Paris\n",
      "3    David   40     Tokyo\n",
      "\n",
      "Modified DataFrame:\n",
      "        Name  Age      City\n",
      "7      Alice   25  New York\n",
      "10       Bob   30    London\n",
      "100  Charlie   35     Paris\n",
      "3      David   40     Tokyo\n"
     ]
    }
   ],
   "source": [
    "import pandas as pd\n",
    "\n",
    "# create a sample DataFrame\n",
    "data = {'Name': ['Alice', 'Bob', 'Charlie', 'David'],\n",
    "        'Age': [25, 30, 35, 40],\n",
    "        'City': ['New York', 'London', 'Paris', 'Tokyo']}\n",
    "df = pd.DataFrame(data)\n",
    "\n",
    "# display the original DataFrame\n",
    "print(\"Original DataFrame:\")\n",
    "print(df)\n",
    "print()\n",
    "\n",
    "# rename column one index label\n",
    "df.rename(index={0: 7}, inplace=True)\n",
    "\n",
    "# rename columns multiple index labels\n",
    "df.rename(mapper={1: 10, 2: 100}, axis=0, inplace=True)\n",
    "\n",
    "# display the DataFrame after renaming column\n",
    "print(\"Modified DataFrame:\")\n",
    "print(df)"
   ]
  },
  {
   "cell_type": "markdown",
   "id": "bbc286a8-c327-4173-8003-322eed94f689",
   "metadata": {},
   "source": [
    "In this example, we renamed a single row using the `index={0: 7}` parameter. We also renamed multiple rows with `mapper={1: 10, 2: 100}` argument.\n",
    "\n",
    "Here,\n",
    "\n",
    "`axis=0`: indicates that rows are to be renamed\n",
    "`inplace=True`: indicates that the changes are to be made in the original DataFrame"
   ]
  },
  {
   "cell_type": "markdown",
   "id": "65e6b76d-fe3c-439b-bbc0-8f36e7486aa3",
   "metadata": {},
   "source": [
    "# Pandas Indexing and Slicing\n",
    "In Pandas, indexing refers to accessing rows and columns of data from a DataFrame, whereas slicing refers to accessing a range of rows and columns.\n",
    "\n",
    "We can access data or range of data from a DataFrame using different methods.\n",
    "\n",
    "## Access Columns of a DataFrame\n",
    "We can access columns of a DataFrame using the bracket `([])` operator. For example,"
   ]
  },
  {
   "cell_type": "code",
   "execution_count": 13,
   "id": "1b7fe51a-6736-4cd9-81fe-dad49bd5a167",
   "metadata": {},
   "outputs": [
    {
     "name": "stdout",
     "output_type": "stream",
     "text": [
      "0      Alice\n",
      "1        Bob\n",
      "2    Charlie\n",
      "3      David\n",
      "4        Eve\n",
      "Name: Name, dtype: object\n"
     ]
    }
   ],
   "source": [
    "import pandas as pd\n",
    "\n",
    "# create a DataFrame\n",
    "data = {\n",
    "    'Name': ['Alice', 'Bob', 'Charlie', 'David', 'Eve'],\n",
    "    'Age': [25, 32, 18, 47, 33],\n",
    "    'City': ['New York', 'Paris', 'London', 'Tokyo', 'Sydney']\n",
    "}\n",
    "df = pd.DataFrame(data)\n",
    "\n",
    "# access the Name column\n",
    "names = df['Name']\n",
    "\n",
    "print(names)"
   ]
  },
  {
   "cell_type": "markdown",
   "id": "3f54c6cc-c989-4cf3-bcf6-c70967dc72d7",
   "metadata": {},
   "source": [
    "In this example, we accessed the `Name` and the `City` columns of `df` using the `[]` operator. It returned a DataFrame containing the values from `Name` and `City` of `df`.\n",
    "\n",
    "The `[]` operator, however, provides limited functionality. Even basic operations like selecting rows, slicing DataFrames and selecting individual elements are quite tricky using the `[]` operator only.\n",
    "\n",
    "So we use the `.loc` and `.iloc` properties for indexing and slicing DataFrames. They provide much more flexibility compared to the `[]` operator."
   ]
  },
  {
   "cell_type": "markdown",
   "id": "b671727d-672c-4f06-85e4-d8c26d72288c",
   "metadata": {},
   "source": [
    "### Pandas .loc\n",
    "In Pandas, we use the .loc property to access and modify data within a DataFrame using **label-based** indexing. It allows us to select specific rows and columns based on their labels.\n",
    "\n",
    "### Syntax\n",
    "The syntax of `.loc` in Pandas is:\n",
    "\n",
    "**df.loc[row_indexer, column_indexer]**\n",
    "Here,\n",
    "\n",
    "`row_indexer` - selects rows by their labels, can be a single label, a list of labels, or a boolean array\n",
    "`column_indexer` - selects columns, can also be a single label, a list of labels, or a boolean array\n",
    "### Example: Indexing Using .loc\n",
    "We can use `.loc` to access the data from a dataframe using its indexes."
   ]
  },
  {
   "cell_type": "code",
   "execution_count": 14,
   "id": "edafd8eb-3488-4e15-a15d-601d6de0197a",
   "metadata": {},
   "outputs": [
    {
     "name": "stdout",
     "output_type": "stream",
     "text": [
      "Single row:\n",
      "Name    Charlie\n",
      "Age          18\n",
      "City     London\n",
      "Name: 2, dtype: object\n",
      "\n",
      "List of Rows:\n",
      "    Name  Age      City\n",
      "0  Alice   25  New York\n",
      "3  David   47     Tokyo\n",
      "4    Eve   33    Sydney\n",
      "\n",
      "List of Columns:\n",
      "      Name  Age\n",
      "0    Alice   25\n",
      "1      Bob   32\n",
      "2  Charlie   18\n",
      "3    David   47\n",
      "4      Eve   33\n",
      "\n",
      "Specific Value:\n",
      "Bob\n"
     ]
    }
   ],
   "source": [
    "import pandas as pd\n",
    "\n",
    "# create a DataFrame\n",
    "data = {\n",
    "    'Name': ['Alice', 'Bob', 'Charlie', 'David', 'Eve'],\n",
    "    'Age': [25, 32, 18, 47, 33],\n",
    "    'City': ['New York', 'Paris', 'London', 'Tokyo', 'Sydney']\n",
    "}\n",
    "df = pd.DataFrame(data)\n",
    "\n",
    "# access a single row\n",
    "single_row = df.loc[2]\n",
    "\n",
    "print(\"Single row:\")\n",
    "print(single_row)\n",
    "print()\n",
    "\n",
    "# access rows 0, 3 and 4\n",
    "row_list = df.loc[[0, 3, 4]]\n",
    "\n",
    "print(\"List of Rows:\")\n",
    "print(row_list)\n",
    "print()\n",
    "\n",
    "# access a list of columns\n",
    "column_list = df.loc[:,['Name', 'Age']]\n",
    "\n",
    "print(\"List of Columns:\")\n",
    "print(column_list)\n",
    "print()\n",
    "\n",
    "# access second row of 'Name' column\n",
    "specific_value = df.loc[1, 'Name']\n",
    "\n",
    "print(\"Specific Value:\")\n",
    "print(specific_value)"
   ]
  },
  {
   "cell_type": "markdown",
   "id": "9f04b5ae-2d24-4f9d-9df7-120235fd8470",
   "metadata": {},
   "source": [
    "Here, we used `.loc` to access a row, a list of rows, a list of columns and a specific value using the respective labels.\n",
    "\n",
    "In the line,\n",
    "\n",
    "`column_list = df.loc[:,['Name', 'Age']]`\n",
    "\n",
    "The `:` operator indicates that all the rows are to be selected.\n",
    "\n",
    "### Example: Slicing Using .loc\n",
    "We can also use .loc to access a range of rows and columns. If we sequentially access a DataFrame (say from index **1** to **3**), we call it slicing."
   ]
  },
  {
   "cell_type": "code",
   "execution_count": 15,
   "id": "a6fdf0b9-0793-4188-9149-7cc7a26a3449",
   "metadata": {},
   "outputs": [
    {
     "name": "stdout",
     "output_type": "stream",
     "text": [
      "Sliced Rows:\n",
      "      Name  Age    City\n",
      "1      Bob   32   Paris\n",
      "2  Charlie   18  London\n",
      "3    David   47   Tokyo\n",
      "\n",
      "Sliced Columns:\n",
      "      Name  Age\n",
      "0    Alice   25\n",
      "1      Bob   32\n",
      "2  Charlie   18\n",
      "3    David   47\n",
      "4      Eve   33\n"
     ]
    }
   ],
   "source": [
    "import pandas as pd\n",
    "\n",
    "# create a DataFrame\n",
    "data = {\n",
    "    'Name': ['Alice', 'Bob', 'Charlie', 'David', 'Eve'],\n",
    "    'Age': [25, 32, 18, 47, 33],\n",
    "    'City': ['New York', 'Paris', 'London', 'Tokyo', 'Sydney']\n",
    "}\n",
    "\n",
    "df = pd.DataFrame(data)\n",
    "\n",
    "# slice rows from index 1 to 3\n",
    "slice_rows = df.loc[1:3]\n",
    "\n",
    "print(\"Sliced Rows:\")\n",
    "print(slice_rows)\n",
    "print()\n",
    "\n",
    " # slicing columns from 'Name' to 'Age'\n",
    "slice_columns = df.loc[:, 'Name':'Age']\n",
    "\n",
    "print(\"Sliced Columns:\")\n",
    "print(slice_columns)"
   ]
  },
  {
   "cell_type": "markdown",
   "id": "88663b7e-d73f-4d07-b8bb-5fd37093773c",
   "metadata": {},
   "source": [
    "Here, we sliced rows and columns using `.loc` and `:` operator.\n",
    "\n",
    "Notice the endpoints are inclusive i.e. both **1** and  **3** positions are included in `df.loc[1:3]`.\n",
    "\n",
    "### Example: Boolean Indexing With .loc\n",
    "We can use the boolean indexing to set conditions and filter the data."
   ]
  },
  {
   "cell_type": "code",
   "execution_count": 16,
   "id": "23b39f3c-95fb-4d7a-82b9-7fc3809315b1",
   "metadata": {},
   "outputs": [
    {
     "name": "stdout",
     "output_type": "stream",
     "text": [
      "Filtered DataFrame: \n",
      "    Name  Age    City\n",
      "1    Bob   32   Paris\n",
      "3  David   47   Tokyo\n",
      "4    Eve   33  Sydney\n"
     ]
    }
   ],
   "source": [
    "import pandas as pd\n",
    "\n",
    "# create a DataFrame\n",
    "data = {\n",
    "    'Name': ['Alice', 'Bob', 'Charlie', 'David', 'Eve'],\n",
    "    'Age': [25, 32, 18, 47, 33],\n",
    "    'City': ['New York', 'Paris', 'London', 'Tokyo', 'Sydney']\n",
    "}\n",
    "df = pd.DataFrame(data)\n",
    "\n",
    "# boolean indexing with .loc\n",
    "boolean_index = df.loc[df['Age'] > 30]\n",
    "\n",
    "print(\"Filtered DataFrame: \")\n",
    "print(boolean_index)"
   ]
  },
  {
   "cell_type": "markdown",
   "id": "17170510-aeba-41a1-b075-ec00442baa04",
   "metadata": {},
   "source": [
    "In this example, we selected all the rows where the value of `Age` is greater than **30**."
   ]
  },
  {
   "cell_type": "markdown",
   "id": "96be838b-6588-4ee3-a63e-2cd016ae85e0",
   "metadata": {},
   "source": [
    "### Pandas .iloc\n",
    "In Pandas, the `.iloc` property is used to access and modify data within a DataFrame using **integer-based** indexing. It allows us to select specific rows and columns based on their integer locations.\n",
    "\n",
    "### Syntax\n",
    "The syntax of `.iloc` in Pandas is:\n",
    "\n",
    "**df.iloc[row_indexer, column_indexer]**\n",
    "Here,\n",
    "\n",
    "`row_indexer` - is used to select rows by their integer location, and can be a single integer, a list of integers, or a boolean array\n",
    "`column_indexer` - selects columns, and can also be a single integer, a list of integers, or a boolean array\n",
    "\n",
    "### Example: Indexing Using .iloc"
   ]
  },
  {
   "cell_type": "code",
   "execution_count": 17,
   "id": "306a98c5-12c8-448d-bd31-1df4cb99b378",
   "metadata": {},
   "outputs": [
    {
     "name": "stdout",
     "output_type": "stream",
     "text": [
      "Single Row:\n",
      "Name    Charlie\n",
      "Age          18\n",
      "City     London\n",
      "Name: 2, dtype: object\n",
      "\n",
      "List of Rows:\n",
      "    Name  Age      City\n",
      "0  Alice   25  New York\n",
      "3  David   47     Tokyo\n",
      "4    Eve   33    Sydney\n",
      "\n",
      "List of Columns:\n",
      "      Name      City\n",
      "0    Alice  New York\n",
      "1      Bob     Paris\n",
      "2  Charlie    London\n",
      "3    David     Tokyo\n",
      "4      Eve    Sydney\n",
      "\n",
      "Specific Value:\n",
      "Bob\n"
     ]
    }
   ],
   "source": [
    "import pandas as pd\n",
    "\n",
    "# create a DataFrame\n",
    "data = {\n",
    "    'Name': ['Alice', 'Bob', 'Charlie', 'David', 'Eve'],\n",
    "    'Age': [25, 32, 18, 47, 33],\n",
    "    'City': ['New York', 'Paris', 'London', 'Tokyo', 'Sydney']\n",
    "}\n",
    "df = pd.DataFrame(data)\n",
    "\n",
    "# access single row\n",
    "single_row = df.iloc[2]\n",
    "\n",
    "# access rows 0, 3 and 4\n",
    "row_list = df.iloc[[0, 3, 4]]\n",
    "\n",
    "# access columns 0 and 2\n",
    "column_list = df.iloc[:,[0,2]]\n",
    "\n",
    "# access a specific value\n",
    "specific_value = df.iloc[1, 0]\n",
    "\n",
    "# display result\n",
    "print(\"Single Row:\")\n",
    "print(single_row)\n",
    "print()\n",
    "print(\"List of Rows:\")\n",
    "print(row_list)\n",
    "print()\n",
    "print(\"List of Columns:\")\n",
    "print(column_list)\n",
    "print()\n",
    "print(\"Specific Value:\")\n",
    "print(specific_value)"
   ]
  },
  {
   "cell_type": "markdown",
   "id": "114bf316-ae1e-4a47-94dc-80f5392d025b",
   "metadata": {},
   "source": [
    "Here, we used `.iloc` to access a row, a list of rows, a list of columns and a specific value using the respective integer values."
   ]
  },
  {
   "cell_type": "markdown",
   "id": "303426b3-b115-4353-94e1-f659420dd2fb",
   "metadata": {},
   "source": [
    "### Example: Slicing Using .iloc"
   ]
  },
  {
   "cell_type": "code",
   "execution_count": 18,
   "id": "632cfac3-7379-4ea6-9c09-1cb63cd17cb9",
   "metadata": {},
   "outputs": [
    {
     "name": "stdout",
     "output_type": "stream",
     "text": [
      "Sliced Rows:\n",
      "      Name  Age    City\n",
      "1      Bob   32   Paris\n",
      "2  Charlie   18  London\n",
      "3    David   47   Tokyo\n",
      "\n",
      "Sliced Columns:\n",
      "      Name  Age\n",
      "0    Alice   25\n",
      "1      Bob   32\n",
      "2  Charlie   18\n",
      "3    David   47\n",
      "4      Eve   33\n"
     ]
    }
   ],
   "source": [
    "import pandas as pd\n",
    "\n",
    "# create a sample DataFrame\n",
    "data = {\n",
    "    'Name': ['Alice', 'Bob', 'Charlie', 'David', 'Eve'],\n",
    "    'Age': [25, 32, 18, 47, 33],\n",
    "    'City': ['New York', 'Paris', 'London', 'Tokyo', 'Sydney']\n",
    "}\n",
    "df = pd.DataFrame(data)\n",
    "\n",
    "# slice rows from position 1 to 3\n",
    "slice_rows = df.iloc[1:4]\n",
    "\n",
    "# slice columns from position 0 to 1\n",
    "slice_columns = df.iloc[:, 0:2]\n",
    "\n",
    "# display results\n",
    "print(\"Sliced Rows:\")\n",
    "print(slice_rows)\n",
    "print()\n",
    "print(\"Sliced Columns:\")\n",
    "print(slice_columns)"
   ]
  },
  {
   "cell_type": "markdown",
   "id": "37f7f8a0-dbcc-4cab-ab95-5bec5a879583",
   "metadata": {},
   "source": [
    "Notice that the position 4 is not inclusive in `df.iloc[1:4]`."
   ]
  },
  {
   "cell_type": "markdown",
   "id": "ff51c0ea-a2b0-4431-bd7b-867d9e94754d",
   "metadata": {},
   "source": [
    "### .loc vs .iloc\n",
    "\n",
    "The main differences between `.loc` and `.iloc` are as follows:\n",
    "\n",
    "| **Basis**             | **.loc**                       | **.iloc**                          |\n",
    "|-----------------------|--------------------------------|------------------------------------|\n",
    "| **Indexing**          | Label-based indexing           | Integer-based indexing             |\n",
    "| **Endpoint**          | Endpoint is included           | Endpoint is not included           |\n",
    "| **Boolean indexing**  | Boolean indexing is supported  | Boolean indexing is not supported  |\n"
   ]
  },
  {
   "cell_type": "markdown",
   "id": "e5762202-dd85-4913-9418-70bd462ba044",
   "metadata": {},
   "source": [
    "# Pandas Select\n",
    "\n",
    "**Pandas select** refers to the process of extracting specific portions of data from a DataFrame.\n",
    "\n",
    "Data selection involves choosing specific rows and columns based on labels, positions, or conditions.\n",
    "\n",
    "Pandas provides various methods, such as basic indexing, slicing, boolean indexing, and querying, to efficiently extract, filter, and transform data, enabling users to focus on relevant information for analysis and decision-making.\n",
    "\n",
    "#### Select Data Using Indexing and Slicing\n",
    "\n",
    "In Pandas, we can use square brackets with labels or positions to select the data we want.\n",
    "\n",
    "Let's look at an example.\n"
   ]
  },
  {
   "cell_type": "code",
   "execution_count": 19,
   "id": "e7b1a357-07ee-473d-8837-950eac2700b6",
   "metadata": {},
   "outputs": [
    {
     "name": "stdout",
     "output_type": "stream",
     "text": [
      "Selecting single column: Name\n",
      "0      Alice\n",
      "1        Bob\n",
      "2    Charlie\n",
      "3      David\n",
      "4        Eve\n",
      "Name: Name, dtype: object\n",
      "\n",
      "Selecting multiple columns: Age and Salary\n",
      " Age  Salary\n",
      "  25   50000\n",
      "  30   60000\n",
      "  22   45000\n",
      "  27   55000\n",
      "  29   52000\n",
      "\n",
      "Selecting rows 1 to 3\n",
      "   Name  Age  Salary\n",
      "    Bob   30   60000\n",
      "Charlie   22   45000\n",
      "  David   27   55000\n",
      "\n"
     ]
    }
   ],
   "source": [
    "import pandas as pd\n",
    "\n",
    "# create a DataFrame\n",
    "data = {\n",
    "    'Name': ['Alice', 'Bob', 'Charlie', 'David', 'Eve'],\n",
    "    'Age': [25, 30, 22, 27, 29],\n",
    "    'Salary': [50000, 60000, 45000, 55000, 52000]\n",
    "}\n",
    "\n",
    "df = pd.DataFrame(data)\n",
    "\n",
    "# selecting a single column\n",
    "name_column = df['Name']\n",
    "\n",
    "print(\"Selecting single column: Name\")\n",
    "print(name_column)\n",
    "print()\n",
    "\n",
    "# selecting multiple columns\n",
    "age_salary_columns = df[['Age', 'Salary']]\n",
    "\n",
    "print(\"Selecting multiple columns: Age and Salary\")\n",
    "print(age_salary_columns.to_string(index=False))\n",
    "print()\n",
    "\n",
    "# selecting rows using slicing\n",
    "selected_rows = df[1:4]\n",
    "\n",
    "print(\"Selecting rows 1 to 3\")\n",
    "print(selected_rows.to_string(index=False))\n",
    "print()"
   ]
  },
  {
   "cell_type": "markdown",
   "id": "738b797f-75e2-405a-8731-0e1e3544a4fe",
   "metadata": {},
   "source": [
    "In the above example, we have created a DataFrame named `df` using a dictionary `data` containing three columns: `Name`, `Age`, and `Salary`. Each column is represented by a list of values.\n",
    "\n",
    "Then we:\n",
    "\n",
    "- Selected a single column `Name` using `df['Name']`.\n",
    "- Selected multiple columns `Age` and `Salary` using `df[['Age', 'Salary']]`.\n",
    "- Selected rows from 1 to 3 using slicing `df[1:4]`.\n",
    "\n",
    "**Note**: The `.to_string(index=False)` method is used to display values without the index.\n",
    "\n",
    "### Using `loc` and `iloc` to Select Data\n",
    "\n",
    "The `loc` and `iloc` methods in Pandas are used to access data by using label or integer index.\n",
    "\n",
    "- `loc` selects rows and columns with specific labels.\n",
    "- `iloc` selects rows and columns at specific index positions.\n",
    "\n",
    "Let's take a look at an example.\n"
   ]
  },
  {
   "cell_type": "code",
   "execution_count": 20,
   "id": "c84607e1-b1fc-4cd3-902d-38f68fe57839",
   "metadata": {},
   "outputs": [
    {
     "name": "stdout",
     "output_type": "stream",
     "text": [
      "Original DataFrame \n",
      "       Name  Age           City\n",
      "0    Alice   25       New York\n",
      "1      Bob   30    Los Angeles\n",
      "2  Charlie   22        Chicago\n",
      "3    David   27        Houston\n",
      "4    Emily   29  San Francisco \n",
      "\n",
      "   Name  Age\n",
      "    Bob   30\n",
      "Charlie   22\n",
      "  David   27\n",
      "\n",
      "   Name        City\n",
      "    Bob Los Angeles\n",
      "Charlie     Chicago\n",
      "  David     Houston\n"
     ]
    }
   ],
   "source": [
    "import pandas as pd\n",
    "\n",
    "data = {\n",
    "    'Name': ['Alice', 'Bob', 'Charlie', 'David', 'Emily'],\n",
    "    'Age': [25, 30, 22, 27, 29],\n",
    "    'City': ['New York', 'Los Angeles', 'Chicago', 'Houston', 'San Francisco']\n",
    "}\n",
    "\n",
    "df = pd.DataFrame(data)\n",
    "print(f\"Original DataFrame \\n {df} \\n\") \n",
    "\n",
    "# loc to select rows and columns by labels\n",
    "# select rows 1 to 3 and columns Name and Age\n",
    "selected_data_loc = df.loc[1:3, ['Name', 'Age']]\n",
    "\n",
    "print(selected_data_loc.to_string(index = False))\n",
    "print() \n",
    "\n",
    "# iloc to select rows and columns by index\n",
    "# select rows 1 to 3 and columns 0 and 2 \n",
    "selected_data_iloc = df.iloc[1:4, [0, 2]]\n",
    "\n",
    "print(selected_data_iloc.to_string(index = False))"
   ]
  },
  {
   "cell_type": "markdown",
   "id": "f2861997-4dd6-461c-bb99-3e528f29a005",
   "metadata": {},
   "source": [
    "Here,\n",
    "\n",
    "- Using `df.loc[1:3, ['Name', 'Age']]` - selects rows 1 to 3 and columns `Name` and `Age` from `df`.\n",
    "- Using `df.iloc[1:4, [0, 2]]` - selects rows 1 to 3 and columns at index positions 0 and 2 from `df`.\n"
   ]
  },
  {
   "cell_type": "markdown",
   "id": "3bb03a5b-ec61-4395-9006-5d6b05a0d392",
   "metadata": {},
   "source": [
    "## Select Rows Based on Specific Criteria\n",
    "In Pandas, we can use boolean conditions to filter rows based on specific criteria. For example,"
   ]
  },
  {
   "cell_type": "code",
   "execution_count": 21,
   "id": "0631a48c-1542-4255-bf71-9d29d77c6e08",
   "metadata": {},
   "outputs": [
    {
     "name": "stdout",
     "output_type": "stream",
     "text": [
      "    Name  Age Gender\n",
      "1    Bob   30   Male\n",
      "3  David   28   Male\n"
     ]
    }
   ],
   "source": [
    "import pandas as pd\n",
    "\n",
    "# creating a DataFrame\n",
    "data = {\n",
    "    'Name': ['Alice', 'Bob', 'Charlie', 'David', 'Emily'],\n",
    "    'Age': [25, 30, 22, 28, 24],\n",
    "    'Gender': ['Female', 'Male', 'Male', 'Male', 'Female']\n",
    "}\n",
    "\n",
    "df = pd.DataFrame(data)\n",
    "\n",
    "# select rows where Age is greater than 25\n",
    "selected_rows = df[df['Age'] > 25]\n",
    "\n",
    "print(selected_rows)"
   ]
  },
  {
   "cell_type": "markdown",
   "id": "ab9c6915-6df9-4bf7-9a6b-9dc5b61e18ce",
   "metadata": {},
   "source": [
    "In this example, we have selected the rows where the age is greater than 25.\n",
    "\n",
    "The boolean indexing is done using the condition\n",
    "\n",
    "**df['Age'] > 25**\n",
    "This creates a boolean mask. And when this mask is applied to the DataFrame, it selects only the rows where the condition is `True`.\n",
    "\n",
    "## query() to Select Data\n",
    "The `query()` method in Pandas allows you to select data using a more SQL-like syntax.\n",
    "\n",
    "Let's take a look at an example."
   ]
  },
  {
   "cell_type": "code",
   "execution_count": 22,
   "id": "7cda5acb-4897-4e0f-b8fc-904a979f1484",
   "metadata": {},
   "outputs": [
    {
     "name": "stdout",
     "output_type": "stream",
     "text": [
      " Name  Age  Score\n",
      "  Bob   30     90\n",
      "David   28     80\n",
      "  Eva   35     95\n"
     ]
    }
   ],
   "source": [
    "import pandas as pd\n",
    "\n",
    "data = {\n",
    "    'Name': ['Alice', 'Bob', 'Charlie', 'David', 'Eva'],\n",
    "    'Age': [25, 30, 22, 28, 35],\n",
    "    'Score': [85, 90, 75, 80, 95]\n",
    "}\n",
    "\n",
    "df = pd.DataFrame(data)\n",
    "\n",
    "# select the rows where the age is greater than 25\n",
    "selected_rows = df.query('Age > 25')\n",
    "\n",
    "print(selected_rows.to_string(index = False))"
   ]
  },
  {
   "cell_type": "markdown",
   "id": "f1bc02a3-434b-4725-b809-1393a1a30ffe",
   "metadata": {},
   "source": [
    "In this example, the query `Age > 25` selects the rows where the `Age` column's values are greater than **25**.\n",
    "\n",
    "## Select Rows Based on a List of Values\n",
    "Pandas provides us with the method named `isin()` to filter rows based on a list of values. For example,"
   ]
  },
  {
   "cell_type": "code",
   "execution_count": 23,
   "id": "e23ab33f-72b6-4a2c-bbe8-dfbb9a0cb276",
   "metadata": {},
   "outputs": [
    {
     "name": "stdout",
     "output_type": "stream",
     "text": [
      " Name  Age\n",
      "  Bob   30\n",
      "David   28\n"
     ]
    }
   ],
   "source": [
    "import pandas as pd\n",
    "\n",
    "data = {\n",
    "    'Name': ['Alice', 'Bob', 'Charlie', 'David', 'Emily'],\n",
    "    'Age': [25, 30, 22, 28, 24]\n",
    "}\n",
    "\n",
    "df = pd.DataFrame(data)\n",
    "\n",
    "# create a list of names to select\n",
    "names_to_filter = ['Bob', 'David']\n",
    "\n",
    "# use isin() to select rows based on the 'Name' column\n",
    "selected_rows = df[df['Name'].isin(names_to_filter)]\n",
    "\n",
    "print(selected_rows.to_string(index = False))"
   ]
  },
  {
   "cell_type": "markdown",
   "id": "406a3af4-0527-4f73-85ae-755f1302c1bf",
   "metadata": {},
   "source": [
    "In this example, we want to select only the rows where the name is either `Bob` or `David`.\n",
    "\n",
    "We created a list `names_to_filter` with the names we want to filter by and then used the `isin()` method to filter the rows based on the values in the `Name` column."
   ]
  },
  {
   "cell_type": "markdown",
   "id": "2e6dffa0-5da2-4dc7-97cc-7ed634d71848",
   "metadata": {},
   "source": [
    "# Pandas MultiIndex\n",
    "A MultiIndex in Pandas is a hierarchical indexing structure that allows us to represent and work with higher-dimensional data efficiently.\n",
    "\n",
    "While a typical index refers to a single column, a MultiIndex contains multiple levels of indexes. Each column in a MultiIndex is linked to one another through a parent/relationship.\n",
    "\n",
    "Let's take an example of a DataFrame containing the population of different countries."
   ]
  },
  {
   "cell_type": "code",
   "execution_count": 24,
   "id": "9af23fed-de5a-45a4-906f-350cb64b715a",
   "metadata": {},
   "outputs": [
    {
     "name": "stdout",
     "output_type": "stream",
     "text": [
      "       Continent         Country  Population\n",
      "0  North America   United States   331002651\n",
      "1         Europe         Germany    83783942\n",
      "2           Asia           China  1439323776\n",
      "3  North America          Canada    37742154\n",
      "4           Asia           Japan   126476461\n",
      "5         Europe          France    65273511\n",
      "6  North America          Mexico   128932753\n",
      "7           Asia           India  1380004385\n",
      "8         Europe  United Kingdom    67886011\n",
      "9           Asia           Nepal    29136808\n"
     ]
    }
   ],
   "source": [
    "import pandas as pd\n",
    "\n",
    "# create a dictionary\n",
    "data = {\n",
    "    \"Continent\": [\"North America\", \"Europe\", \"Asia\", \"North America\", \"Asia\", \"Europe\", \"North America\", \"Asia\", \"Europe\", \"Asia\"],\n",
    "    \"Country\": [\"United States\", \"Germany\", \"China\", \"Canada\", \"Japan\", \"France\", \"Mexico\", \"India\", \"United Kingdom\", \"Nepal\"],\n",
    "    \"Population\": [331002651, 83783942, 1439323776, 37742154, 126476461, 65273511, 128932753, 1380004385, 67886011, 29136808]\n",
    "}\n",
    "\n",
    "# create dataframe from dictionary\n",
    "df = pd.DataFrame(data)\n",
    "\n",
    "print(df)"
   ]
  },
  {
   "cell_type": "markdown",
   "id": "961c84ad-6a47-4182-bf65-84c1f9dc366a",
   "metadata": {},
   "source": [
    "Notice the redundancy in the `Continent` column. **North America** and **Europe** are repeated three times each while **Asia** is repeated four times.\n",
    "\n",
    "Additionally, we have arranged the entries in a random order and used integer values as index for the rows, thus complicating the task of locating data for a particular country. This task becomes tedious as the size of the data set grows.\n",
    "\n",
    "In situations like this, hierarchical indexing, as shown in figure below, makes much more sense."
   ]
  },
  {
   "attachments": {
    "91e1f29b-ef90-45a8-b002-7077218d68a2.png": {
     "image/png": "[encoded data removed]"
    },
    "e56d8231-3bae-4df7-82b1-3120669cf84b.png": {
     "image/png": "[encoded data removed]"
    }
   },
   "cell_type": "markdown",
   "id": "b7a9e6a3-5674-4f62-a3df-031974ae1abd",
   "metadata": {},
   "source": [
    "![image.png](attachment:91e1f29b-ef90-45a8-b002-7077218d68a2.png)![image.png](attachment:e56d8231-3bae-4df7-82b1-3120669cf84b.png)"
   ]
  },
  {
   "cell_type": "markdown",
   "id": "d62fcafa-4d85-4804-b470-8f75bdc2966c",
   "metadata": {},
   "source": [
    "Here, `Continent` is the parent column and `Country` is the child column."
   ]
  },
  {
   "cell_type": "markdown",
   "id": "acc2b95b-814c-4d44-8532-82f70a043f7c",
   "metadata": {},
   "source": [
    "## Create MultiIndex in Pandas\n",
    "In Pandas, we achieve hierarchical indexing using the concept of **MultiIndex**.\n",
    "\n",
    "Let's see an example"
   ]
  },
  {
   "cell_type": "code",
   "execution_count": 25,
   "id": "ce361c99-c843-4091-8d63-5d84cdc54650",
   "metadata": {},
   "outputs": [
    {
     "name": "stdout",
     "output_type": "stream",
     "text": [
      "                              Population\n",
      "Continent     Country                   \n",
      "Asia          China           1439323776\n",
      "              Japan            126476461\n",
      "              India           1380004385\n",
      "              Nepal             29136808\n",
      "Europe        Germany           83783942\n",
      "              France            65273511\n",
      "              United Kingdom    67886011\n",
      "North America United States    331002651\n",
      "              Canada            37742154\n",
      "              Mexico           128932753\n"
     ]
    }
   ],
   "source": [
    "import pandas as pd\n",
    "\n",
    "# create a dictionary\n",
    "data = {\n",
    "    \"Continent\": [\"North America\", \"Europe\", \"Asia\", \"North America\", \"Asia\", \"Europe\", \"North America\", \"Asia\", \"Europe\", \"Asia\"],\n",
    "    \"Country\": [\"United States\", \"Germany\", \"China\", \"Canada\", \"Japan\", \"France\", \"Mexico\", \"India\", \"United Kingdom\", \"Nepal\"],\n",
    "    \"Population\": [331002651, 83783942, 1439323776, 37742154, 126476461, 65273511, 128932753, 1380004385, 67886011, 29136808]\n",
    "}\n",
    "\n",
    "# create dataframe from dictionary\n",
    "df = pd.DataFrame(data)\n",
    "\n",
    "# sort the data by continent\n",
    "df.sort_values('Continent', inplace=True)\n",
    "\n",
    "# create a multiindex\n",
    "df.set_index(['Continent','Country'], inplace=True)\n",
    "\n",
    "print(df)"
   ]
  },
  {
   "cell_type": "markdown",
   "id": "88655acf-e96d-4a57-8968-d8c34cdfa3f9",
   "metadata": {},
   "source": [
    "In the above example, we first sorted the values in the DataFrame `df` based on the `Continent` column. This groups the entries of the same continent together.\n",
    "\n",
    "We then created a **MultiIndex** by passing a list of columns as an argument to the `set_index()` function.\n",
    "\n",
    "Notice the order of the columns in the list: `Continent` comes first as it is the parent column, and `Country` comes second as it is the child of `Continent`.\n",
    "\n",
    "### Access Rows With MultiIndex\n",
    "\n",
    "We can access rows with MultiIndex as shown in the example below.\n"
   ]
  },
  {
   "cell_type": "code",
   "execution_count": 26,
   "id": "0092b256-2147-4661-ad61-e9064fcd9781",
   "metadata": {},
   "outputs": [
    {
     "name": "stdout",
     "output_type": "stream",
     "text": [
      "Asia\n",
      "          Population\n",
      "Country            \n",
      "China    1439323776\n",
      "Japan     126476461\n",
      "India    1380004385\n",
      "Nepal      29136808\n",
      "\n",
      "Canada\n",
      " Population    37742154\n",
      "Name: (North America, Canada), dtype: int64\n"
     ]
    }
   ],
   "source": [
    "import pandas as pd\n",
    "\n",
    "# create a dictionary\n",
    "data = {\n",
    "    \"Continent\": [\"North America\", \"Europe\", \"Asia\", \"North America\", \"Asia\", \"Europe\", \"North America\", \"Asia\", \"Europe\", \"Asia\"],\n",
    "    \"Country\": [\"United States\", \"Germany\", \"China\", \"Canada\", \"Japan\", \"France\", \"Mexico\", \"India\", \"United Kingdom\", \"Nepal\"],\n",
    "    \"Population\": [331002651, 83783942, 1439323776, 37742154, 126476461, 65273511, 128932753, 1380004385, 67886011, 29136808]\n",
    "}\n",
    "\n",
    "# create dataframe from dictionary\n",
    "df = pd.DataFrame(data)\n",
    "\n",
    "# sort the data by continent\n",
    "df.sort_values('Continent', inplace=True)\n",
    "\n",
    "# create a multiindex\n",
    "df.set_index(['Continent','Country'], inplace=True)\n",
    "\n",
    "# access all entries under Asia\n",
    "asia = df.loc['Asia']\n",
    "\n",
    "# access Canada\n",
    "canada = df.loc[('North America', 'Canada')]\n",
    "\n",
    "print('Asia\\n', asia)\n",
    "print('\\nCanada\\n', canada)"
   ]
  },
  {
   "cell_type": "markdown",
   "id": "c32e4941-4d58-407a-bc2c-3fdef1ba3a83",
   "metadata": {},
   "source": [
    "In the above example, we accessed all the entries under `Asia` by passing a single string `'Asia'` to `df.loc[]`.\n",
    "\n",
    "To access a particular row `Canada`, we passed a tuple `('North America', 'Canada')` to `df.loc[]`.\n",
    "\n",
    "**Note**: We need to provide the full hierarchical index in the form of a tuple in order to access a particular row. Only providing the label of the child column will result in an error.\n",
    "\n",
    "```python\n",
    "# Correct\n",
    "df.loc[('North America', 'Canada')]\n",
    "\n",
    "# Error\n",
    "df.loc['Canada']\n"
   ]
  },
  {
   "cell_type": "markdown",
   "id": "a6bd6c6e-8448-4902-aae4-cd149b5be3ab",
   "metadata": {},
   "source": [
    "## MultiIndex from Arrays\n",
    "We can also create a MultiIndex from an array of arrays using the from_arrays() method.\n",
    "\n",
    "Let's see an example."
   ]
  },
  {
   "cell_type": "code",
   "execution_count": 27,
   "id": "ad6790c0-95db-4de9-b68d-10fd73dd6b92",
   "metadata": {},
   "outputs": [
    {
     "name": "stdout",
     "output_type": "stream",
     "text": [
      "                              Population\n",
      "Continent     Country                   \n",
      "Asia          China           1439323776\n",
      "              India           1380004385\n",
      "              Japan            126476461\n",
      "              Nepal             29136808\n",
      "Europe        France            65273511\n",
      "              Germany           83783942\n",
      "              United Kingdom    67886011\n",
      "North America Canada            37742154\n",
      "              Mexico           128932753\n",
      "              United States    331002651\n"
     ]
    }
   ],
   "source": [
    "import pandas as pd\n",
    "\n",
    "# create arrays\n",
    "continent = ['Asia', 'Asia', 'Asia', 'Asia', 'Europe', 'Europe', 'Europe', 'North America', 'North America', 'North America']\n",
    "country = ['China', 'India', 'Japan', 'Nepal', 'France', 'Germany', 'United Kingdom', 'Canada', 'Mexico', 'United States']\n",
    "population = [1439323776, 1380004385, 126476461, 29136808, 65273511, 83783942, 67886011, 37742154, 128932753, 331002651]\n",
    "\n",
    "# create array of arrays\n",
    "index_array = [continent, country]\n",
    "\n",
    "# create multiindex from array\n",
    "multi_index = pd.MultiIndex.from_arrays(index_array, names=['Continent', 'Country'])\n",
    "\n",
    "# create dataframe using multiindex\n",
    "df = pd.DataFrame({'Population' :population}, index=multi_index)\n",
    "\n",
    "print(df)"
   ]
  },
  {
   "cell_type": "markdown",
   "id": "c42d2927-415d-4414-9ae0-3f65ba1a1b4f",
   "metadata": {},
   "source": [
    "In this example, we created a **MultiIndex** object named `multi_index` from two arrays: `continent` and `country`.\n",
    "\n",
    "We then created a DataFrame using the `population` array and assigned `multi_index` as its index.\n"
   ]
  },
  {
   "cell_type": "markdown",
   "id": "247145a5-0ba4-4640-b40e-f1972bfe865e",
   "metadata": {},
   "source": [
    "# Pandas Reshape\n",
    "\n",
    "In Pandas, reshaping data refers to the process of converting a DataFrame from one format to another for better data visualization and analysis.\n",
    "\n",
    "Pandas provides multiple methods like `pivot()`, `pivot_table()`, `stack()`, `unstack()`, and `melt()` to reshape data. We can choose the method based on our analysis requirement.\n",
    "\n",
    "### Reshape Data Using `pivot()`\n",
    "\n",
    "In Pandas, the `pivot()` function reshapes data based on column values. It takes simple column-wise data as input and groups the entries into a two-dimensional table.\n",
    "\n",
    "Let's look at an example.\n"
   ]
  },
  {
   "cell_type": "code",
   "execution_count": 28,
   "id": "76a82797-90de-4c49-bffb-f8242196cb8d",
   "metadata": {},
   "outputs": [
    {
     "name": "stdout",
     "output_type": "stream",
     "text": [
      "Original Dataframe:\n",
      "          Date Category  Value\n",
      "0  2023-08-01        A     10\n",
      "1  2023-08-01        B     20\n",
      "2  2023-08-02        A     30\n",
      "3  2023-08-02        B     40\n",
      "Reshaped DataFrame:\n",
      " Category     A   B\n",
      "Date              \n",
      "2023-08-01  10  20\n",
      "2023-08-02  30  40\n"
     ]
    }
   ],
   "source": [
    "import pandas as pd\n",
    "\n",
    "# create a DataFrame\n",
    "data = {'Date': ['2023-08-01', '2023-08-01', '2023-08-02', '2023-08-02'],\n",
    "        'Category': ['A', 'B', 'A', 'B'],\n",
    "        'Value': [10, 20, 30, 40]}\n",
    "df = pd.DataFrame(data)\n",
    "\n",
    "print(\"Original Dataframe:\\n\", df)\n",
    "\n",
    "# pivot the  DataFrame\n",
    "pivot_df = df.pivot(index='Date', columns='Category', values='Value')\n",
    "print(\"Reshaped DataFrame:\\n\", pivot_df)"
   ]
  },
  {
   "cell_type": "markdown",
   "id": "fb0a43ff-3189-4a7c-aee1-9ef673bdd6fe",
   "metadata": {},
   "source": [
    "In this example, we have passed the parameters `index`, `columns`, and `values` to the `pivot()` function. Here:\n",
    "\n",
    "- **`index`** specifies the column to be used as the index for the pivoted DataFrame.\n",
    "- **`columns`** specifies the column whose unique values will become the new column headers.\n",
    "- **`values`** specifies the column containing the values to be placed in the new columns.\n",
    "\n",
    "As we can see in the output, the DataFrame has been pivoted, with the unique values from the `Category` column (A and B) becoming separate columns. The corresponding values from the `Value` column are then placed in the respective cells.\n",
    "\n",
    "To learn more, visit [Pandas Pivot](https://pandas.pydata.org/pandas-docs/stable/reference/api/pandas.DataFrame.pivot.html).\n",
    "\n",
    "### Reshape Data Using `pivot_table()`\n",
    "\n",
    "The `pivot_table()` function in Pandas is a way for reshaping and summarizing data in a DataFrame. It allows us to create a pivot table that aggregates and summarizes data based on the specified index, columns, and aggregation functions.\n",
    "\n",
    "Let's look at an example.\n"
   ]
  },
  {
   "cell_type": "code",
   "execution_count": 29,
   "id": "a76c13be-1e85-4987-9cc4-4ddfe571215d",
   "metadata": {},
   "outputs": [
    {
     "name": "stdout",
     "output_type": "stream",
     "text": [
      "Original Dataframe:\n",
      "   Category  Value\n",
      "0        A     10\n",
      "1        B     20\n",
      "2        A     30\n",
      "3        B     40\n",
      "4        A     50\n",
      "5        B     60\n",
      "Reshaped Dataframe:\n",
      "           Value\n",
      "Category       \n",
      "A          30.0\n",
      "B          40.0\n"
     ]
    }
   ],
   "source": [
    "import pandas as pd\n",
    "\n",
    "# create a DataFrame\n",
    "data = {'Category': ['A', 'B', 'A', 'B', 'A', 'B'],\n",
    "        'Value': [10, 20, 30, 40, 50, 60]}\n",
    "df = pd.DataFrame(data)\n",
    "print(\"Original Dataframe:\\n\", df)\n",
    "\n",
    "# create a pivot table\n",
    "pivot_table_df = df.pivot_table(index='Category', values='Value', aggfunc='mean')\n",
    "print(\"Reshaped Dataframe:\\n\", pivot_table_df)"
   ]
  },
  {
   "cell_type": "markdown",
   "id": "05d17ed1-a4ef-4335-874a-6b60cd4bba99",
   "metadata": {},
   "source": [
    "In the above example, we have used `pivot_table()` to create a pivot table from the original `df` DataFrame.\n",
    "\n",
    "Inside the `pivot_table()`, we have passed the following parameters:\n",
    "\n",
    "- **`index = Category`**: Specifies the `Category` column as the index of the pivot table. This means that each unique value in `Category` will become a row index in the pivot table.\n",
    "- **`values = Value`**: Specifies the `Value` column as the source of values that will be used for aggregation in the pivot table.\n",
    "- **`aggfunc = mean`**: We are using the mean aggregation function to calculate the average value of the `Value` column for each category.\n",
    "\n",
    "As a result, the pivot table has the categories A and B as row indices and displays the mean values of their corresponding `Value` column entries. This allows us to quickly compare the average values for different categories using a more compact and organized format.\n",
    "\n",
    "To learn more, visit [Pandas Pivot Table](https://pandas.pydata.org/pandas-docs/stable/reference/api/pandas.pivot_table.html).\n",
    "\n",
    "### Reshape Data Using `stack()` and `unstack()`\n",
    "\n",
    "In Pandas, we can also use `stack()` and `unstack()` to reshape data:\n",
    "\n",
    "- **`stack()`**: Used to pivot a level of the column labels, transforming them into innermost row index levels.\n",
    "- **`unstack()`**: Used to pivot a level of the row index, transforming it into an outermost column level.\n",
    "\n",
    "Let's look at an example.\n"
   ]
  },
  {
   "cell_type": "code",
   "execution_count": 31,
   "id": "ed682401-adbe-4cb9-9761-4172b9859bc4",
   "metadata": {},
   "outputs": [
    {
     "name": "stdout",
     "output_type": "stream",
     "text": [
      "Stack:\n",
      " Date                  \n",
      "2023-08-01  Category_A    10\n",
      "            Category_B    30\n",
      "2023-08-02  Category_A    20\n",
      "            Category_B    40\n",
      "dtype: int64\n",
      "\n",
      "Unstack: \n",
      "             Category_A  Category_B\n",
      "Date                              \n",
      "2023-08-01          10          30\n",
      "2023-08-02          20          40\n"
     ]
    }
   ],
   "source": [
    "import pandas as pd\n",
    "\n",
    "# create a DataFrame\n",
    "data = {'Date': ['2023-08-01', '2023-08-02'],\n",
    "        'Category_A': [10, 20],\n",
    "        'Category_B': [30, 40]}\n",
    "df = pd.DataFrame(data)\n",
    "\n",
    "# set 'Date' column as the index\n",
    "df.set_index('Date', inplace=True)\n",
    "\n",
    "# stack the columns into rows\n",
    "stacked_df = df.stack()\n",
    "print(\"Stack:\\n\", stacked_df)\n",
    "print()\n",
    "\n",
    "# unstack the rows back to columns\n",
    "unstacked_df = stacked_df.unstack()\n",
    "print(\"Unstack: \\n\", unstacked_df)"
   ]
  },
  {
   "cell_type": "markdown",
   "id": "de88b959-9cc0-4d0f-a724-4d84a791a725",
   "metadata": {},
   "source": [
    "Here,\n",
    "\n",
    "- `stack()` is applied to the `df` DataFrame, which pivots the column labels (`Category_A` and `Category_B`) into a new level of row index.\n",
    "- `unstack()` is applied to the `stacked_df`, which reverses the operation and pivots the innermost level of the row index back to columns.\n",
    "\n",
    "### Use of `melt()` to Reshape DataFrame\n",
    "\n",
    "The `melt()` function in Pandas transforms a DataFrame from a wide format to a long format. This is useful for making data more suitable for certain types of analysis and visualization.\n"
   ]
  },
  {
   "cell_type": "code",
   "execution_count": 32,
   "id": "b6b50973-48e9-4713-a38f-f4ac104d490c",
   "metadata": {},
   "outputs": [
    {
     "name": "stdout",
     "output_type": "stream",
     "text": [
      "    Name  Subject  Score\n",
      "0  Alice     Math     90\n",
      "1    Bob     Math     85\n",
      "2  Alice  History     75\n",
      "3    Bob  History     92\n"
     ]
    }
   ],
   "source": [
    "import pandas as pd\n",
    "\n",
    "# create a sample DataFrame\n",
    "data = {'Name': ['Alice', 'Bob'],\n",
    "        'Math': [90, 85],\n",
    "        'History': [75, 92]}\n",
    "df = pd.DataFrame(data)\n",
    "\n",
    "# melt the DataFrame\n",
    "melted_df = pd.melt(df, id_vars='Name', var_name='Subject', value_name='Score')\n",
    "\n",
    "print(melted_df)"
   ]
  },
  {
   "cell_type": "markdown",
   "id": "4884550a-a662-4a8d-9250-fc4ac0e8d4c5",
   "metadata": {},
   "source": [
    "In this example, we have used the `melt()` function to transform the DataFrame `df` from a wide format to a long format.\n",
    "\n",
    "Inside `melt()`, we have passed the following parameters:\n",
    "\n",
    "- **`id_vars`**: Specifies the column that we want to keep unchanged.\n",
    "- **`var_name`**: Specifies the name for the new column that will hold the variable names (e.g., `Math` and `History`).\n",
    "- **`value_name`**: Specifies the name for the new column that will hold the values (e.g., the scores).\n",
    "\n",
    "This transformation helps in making the DataFrame suitable for certain types of data analysis and visualization.\n"
   ]
  },
  {
   "cell_type": "markdown",
   "id": "5cde7ee6-cee1-4bea-b3e7-2656675af2fe",
   "metadata": {},
   "source": [
    "# Pandas Handling Duplicate Values\n",
    "\n",
    "In large datasets, we often encounter duplicate entries in tables. These duplicate entries can throw off our analysis and skew the results.\n",
    "\n",
    "Pandas provides several methods to find and remove duplicate entries in DataFrames.\n",
    "\n",
    "### Find Duplicate Entries\n",
    "\n",
    "We can find duplicate entries in a DataFrame using the `duplicated()` method. It returns `True` if a row is duplicated and `False` otherwise.\n"
   ]
  },
  {
   "cell_type": "code",
   "execution_count": 33,
   "id": "0e603ca4-a6b7-426d-866a-2393a48055c3",
   "metadata": {},
   "outputs": [
    {
     "name": "stdout",
     "output_type": "stream",
     "text": [
      "0    False\n",
      "1    False\n",
      "2     True\n",
      "3     True\n",
      "4    False\n",
      "dtype: bool\n"
     ]
    }
   ],
   "source": [
    "import pandas as pd\n",
    "\n",
    "# create dataframe\n",
    "data = {\n",
    "    'Name': ['John', 'Anna', 'John', 'Anna', 'John'],\n",
    "    'Age': [28, 24, 28, 24, 19],\n",
    "    'City': ['New York', 'Los Angeles', 'New York', 'Los Angeles', 'Chicago']\n",
    "}\n",
    "df = pd.DataFrame(data)\n",
    "\n",
    "# check for duplicate entries\n",
    "print(df.duplicated())"
   ]
  },
  {
   "cell_type": "markdown",
   "id": "2a66e15b-d42c-4cc7-96ce-c6f8755a30ed",
   "metadata": {},
   "source": [
    "In the above example, we checked for duplicate entries in `df` using the `duplicated()` method. It returned a series with boolean values indicating if an entry is a duplicate.\n",
    "\n",
    "Here, we got `True`\n",
    "in the third and the fourth rows because they are duplicates of the first and the second rows respectively."
   ]
  },
  {
   "cell_type": "markdown",
   "id": "23e16d71-a335-42e1-ae6a-eb31025c9ae5",
   "metadata": {},
   "source": [
    "### Example: Find Duplicates Based on Columns\n",
    "By default, `duplicated()` considers all columns. To find duplicates based on certain columns, we can pass them as a list to the `duplicated()` function."
   ]
  },
  {
   "cell_type": "code",
   "execution_count": 34,
   "id": "5d5202d9-10d4-4ed6-bac4-304aef521a8b",
   "metadata": {},
   "outputs": [
    {
     "name": "stdout",
     "output_type": "stream",
     "text": [
      "0    False\n",
      "1    False\n",
      "2    False\n",
      "3     True\n",
      "4    False\n",
      "dtype: bool\n"
     ]
    }
   ],
   "source": [
    "import pandas as pd\n",
    "\n",
    "# create dataframe\n",
    "data = {\n",
    "    'Name': ['John', 'Anna', 'Johnny', 'Anna', 'John'],\n",
    "    'Age': [28, 24, 28, 24, 19],\n",
    "    'City': ['New York', 'Las Vegas', 'New York', 'Los Angeles', 'Chicago']\n",
    "}\n",
    "df = pd.DataFrame(data)\n",
    "\n",
    "# check for duplicate entries in columns Name and Age\n",
    "print(df.duplicated(subset=['Name', 'Age']))"
   ]
  },
  {
   "cell_type": "markdown",
   "id": "0fb324b4-295c-4dd6-9972-5a42783e70b2",
   "metadata": {},
   "source": [
    "In this example, we checked the duplicate entries based on `Name` and `Age` columns only.\n",
    "\n",
    "If you look at the `Name` and `Age` columns, the fourth row is a duplicate of the second row. Hence, the boolean value of the fourth row is `True` in the output.\n",
    "\n",
    "### Remove Duplicate Entries\n",
    "We can remove duplicate entries in Pandas using the `drop_duplicates()` method. For example,"
   ]
  },
  {
   "cell_type": "code",
   "execution_count": 36,
   "id": "eb425eee-ddfb-4884-b00f-13fee716d8b0",
   "metadata": {},
   "outputs": [
    {
     "name": "stdout",
     "output_type": "stream",
     "text": [
      "   Name  Age         City\n",
      "0  John   28     New York\n",
      "1  Anna   24  Los Angeles\n",
      "4  John   19      Chicago\n"
     ]
    }
   ],
   "source": [
    "import pandas as pd\n",
    "\n",
    "# create dataframe\n",
    "data = {\n",
    "    'Name': ['John', 'Anna', 'John', 'Anna', 'John'],\n",
    "    'Age': [28, 24, 28, 24, 19],\n",
    "    'City': ['New York', 'Los Angeles', 'New York', 'Los Angeles', 'Chicago']\n",
    "}\n",
    "df = pd.DataFrame(data)\n",
    "\n",
    "# remove duplicates\n",
    "df.drop_duplicates(inplace=True)\n",
    "\n",
    "print(df)"
   ]
  },
  {
   "cell_type": "markdown",
   "id": "f8b84f72-0323-4843-a6e2-dea1eb6e70b0",
   "metadata": {},
   "source": [
    "In this example, we removed duplicate entries from `df` using the `drop_duplicates()` method.\n",
    "\n",
    "Here, `inplace=True` specifies that the changes are to be made directly in the original DataFrame.\n",
    "\n",
    "By default, the `drop_duplicates()` function keeps the first occurrence of the duplicate entries and removes the subsequent ones. In this case, the first and second rows are kept, while the third and fourth rows are removed.\n",
    "\n",
    "To keep the last entry instead, we can pass the `keep='last'` argument. For example:\n",
    "\n",
    "```python\n",
    "df.drop_duplicates(keep='last', inplace=True)\n"
   ]
  },
  {
   "cell_type": "code",
   "execution_count": 37,
   "id": "4e486ed1-a240-4fa2-accd-c357853e9a81",
   "metadata": {},
   "outputs": [
    {
     "name": "stdout",
     "output_type": "stream",
     "text": [
      "   Name  Age         City\n",
      "2  John   28     New York\n",
      "3  Anna   24  Los Angeles\n",
      "4  John   19      Chicago\n"
     ]
    }
   ],
   "source": [
    "import pandas as pd\n",
    "\n",
    "# create dataframe\n",
    "data = {\n",
    "    'Name': ['John', 'Anna', 'John', 'Anna', 'John'],\n",
    "    'Age': [28, 24, 28, 24, 19],\n",
    "    'City': ['New York', 'Los Angeles', 'New York', 'Los Angeles', 'Chicago']\n",
    "}\n",
    "df = pd.DataFrame(data)\n",
    "\n",
    "# remove duplicates, keep last entries\n",
    "df.drop_duplicates(keep='last', inplace=True)\n",
    "\n",
    "print(df)\n"
   ]
  },
  {
   "cell_type": "markdown",
   "id": "9ed5a406-3e2e-4dfa-81fd-fb6a13cffc11",
   "metadata": {},
   "source": [
    "# Pandas Pivot\n",
    "The `pivot()` function in Pandas reshapes data based on column values. It takes simple column-wise data as input, and groups the entries into a two-dimensional table."
   ]
  },
  {
   "attachments": {
    "39eb2d5d-1335-46f0-b3ac-6579be093242.png": {
     "image/png": "[encoded data removed]"
    },
    "a179d2de-a87e-42fa-88ee-ee1f39667c3e.png": {
     "image/png": "[encoded data removed]"
    }
   },
   "cell_type": "markdown",
   "id": "3639841d-7837-4586-ba4c-f8abeef0ef86",
   "metadata": {},
   "source": [
    "![image.png](attachment:39eb2d5d-1335-46f0-b3ac-6579be093242.png)![image.png](attachment:a179d2de-a87e-42fa-88ee-ee1f39667c3e.png)\n",
    "Let's look at an example."
   ]
  },
  {
   "cell_type": "code",
   "execution_count": 38,
   "id": "563bbe31-bacd-4c39-b113-25b1bf276680",
   "metadata": {},
   "outputs": [
    {
     "name": "stdout",
     "output_type": "stream",
     "text": [
      "Original DataFrame\n",
      "          Date         City  Temperature\n",
      "0  2023-01-01     New York           32\n",
      "1  2023-01-01  Los Angeles           75\n",
      "2  2023-01-02     New York           30\n",
      "3  2023-01-02  Los Angeles           77\n",
      "\n",
      "Reshaped DataFrame\n",
      " City        Los Angeles  New York\n",
      "Date                             \n",
      "2023-01-01           75        32\n",
      "2023-01-02           77        30\n"
     ]
    }
   ],
   "source": [
    "import pandas as pd\n",
    "\n",
    "# create a dataframe\n",
    "data = {'Date': ['2023-01-01', '2023-01-01', '2023-01-02', '2023-01-02'],\n",
    "        'City': ['New York', 'Los Angeles', 'New York', 'Los Angeles'],\n",
    "        'Temperature': [32, 75, 30, 77]}\n",
    "df = pd.DataFrame(data)\n",
    "\n",
    "print(\"Original DataFrame\\n\", df)\n",
    "print()\n",
    "\n",
    "# pivot the dataframe\n",
    "pivot_df = df.pivot(index='Date', columns='City', values='Temperature')\n",
    "\n",
    "print(\"Reshaped DataFrame\\n\", pivot_df)"
   ]
  },
  {
   "cell_type": "markdown",
   "id": "d7375868-6fad-4505-9f79-cf1fda056f92",
   "metadata": {},
   "source": [
    "In this example, we used `pivot()` to reshape the DataFrame `df`. The `Date` column is set as the index, `City` as the columns, and `Temperature` as the values.\n",
    "\n",
    "Notice the original and reshaped DataFrame in the output section. The reshaped DataFrame is a multidimensional table that shows the temperature based on the city and the date.\n",
    "\n",
    "Thus, the `pivot()` operation reshapes the data to make it clearer for further analysis.\n",
    "\n",
    "### `pivot()` Syntax\n",
    "\n",
    "The syntax of `pivot()` in Pandas is:\n",
    "\n",
    "\n",
    "df.pivot(index=None, columns=None, values=None)\n",
    "\n",
    "Here:\n",
    "\n",
    "- **`index`**: The column to use as row labels.\n",
    "- **`columns`**: The column that will be reshaped as columns.\n",
    "- **`values`**: The column(s) to use for the new DataFrame's values.\n",
    "\n",
    "### Example: `pivot()` for Multiple Values\n",
    "\n",
    "If we omit the `values` argument in `pivot()`, it selects all the remaining columns (besides the ones specified in `index` and `columns`) as values for the pivot table.\n",
    "\n",
    "Let's see an example.\n",
    "\n"
   ]
  },
  {
   "cell_type": "code",
   "execution_count": 39,
   "id": "33a45d8f-3834-4884-b7a2-134610ec4d6d",
   "metadata": {},
   "outputs": [
    {
     "name": "stdout",
     "output_type": "stream",
     "text": [
      "Original DataFrame\n",
      "         Date         City  Temperature  Humidity\n",
      "0  2023-01-01     New York           32        80\n",
      "1  2023-01-01  Los Angeles           75        10\n",
      "2  2023-01-02     New York           30        85\n",
      "3  2023-01-02  Los Angeles           77         5\n",
      "\n",
      "Reshaped DataFrame\n",
      "           Temperature             Humidity         \n",
      "City       Los Angeles New York Los Angeles New York\n",
      "Date                                                \n",
      "2023-01-01          75       32          10       80\n",
      "2023-01-02          77       30           5       85\n"
     ]
    }
   ],
   "source": [
    "import pandas as pd\n",
    "\n",
    "# create a dataframe\n",
    "data = {'Date': ['2023-01-01', '2023-01-01', '2023-01-02', '2023-01-02'],\n",
    "        'City': ['New York', 'Los Angeles', 'New York', 'Los Angeles'],\n",
    "        'Temperature': [32, 75, 30, 77],\n",
    "        'Humidity': [80, 10, 85, 5]}\n",
    "\n",
    "df = pd.DataFrame(data)\n",
    "\n",
    "print('Original DataFrame')\n",
    "print(df)\n",
    "print()\n",
    "\n",
    "# pivot the dataframe\n",
    "pivot_df = df.pivot(index='Date', columns='City')\n",
    "\n",
    "print('Reshaped DataFrame')\n",
    "print(pivot_df)"
   ]
  },
  {
   "cell_type": "markdown",
   "id": "35af841c-0d9d-458d-ab10-37ae909c7d3b",
   "metadata": {},
   "source": [
    "\n",
    "In this example, we created a pivot table for multiple values, i.e., `Temperature` and `Humidity`.\n",
    "\n",
    "### `pivot()` vs `pivot_table()`\n",
    "\n",
    "The `pivot()` and `pivot_table()` functions perform similar operations but have a few key differences:\n",
    "\n",
    "| Basis            | `pivot()`                                          | `pivot_table()`                                 |\n",
    "|------------------|----------------------------------------------------|-------------------------------------------------|\n",
    "| Aggregation      | Does not allow aggregation of data.               | Allows aggregation (sum, mean, count, etc.).   |\n",
    "| Duplicate Index  | Cannot handle duplicate index values.             | Can handle duplicate index values.             |\n",
    "| MultiIndex       | Only accepts a single-level index.                 | Accepts multi-level index for complex data.    |\n"
   ]
  },
  {
   "cell_type": "markdown",
   "id": "473693b7-7166-423f-9047-f69f10242f13",
   "metadata": {},
   "source": [
    "# Pandas Pivot Table\n",
    "The `pivot_table()` function in Pandas allows us to create a spreadsheet-style pivot table making it easier to group and analyze our data."
   ]
  },
  {
   "attachments": {
    "6babb82a-5cfc-4a17-b4ca-e9b5483b0e34.png": {
     "image/png": "[encoded data removed]"
    },
    "c6571f3a-56f2-4163-909d-c287c0be3a06.png": {
     "image/png": "[encoded data removed]"
    }
   },
   "cell_type": "markdown",
   "id": "6c107402-796b-484b-86ef-6755a83feea3",
   "metadata": {},
   "source": [
    "![image.png](attachment:6babb82a-5cfc-4a17-b4ca-e9b5483b0e34.png)![image.png](attachment:c6571f3a-56f2-4163-909d-c287c0be3a06.png)\n",
    "**Pivot Table Operation in Pandas**\n",
    "Let's look at an example."
   ]
  },
  {
   "cell_type": "code",
   "execution_count": 40,
   "id": "2ce554c1-8c31-4d3e-919f-25bd829fb97b",
   "metadata": {},
   "outputs": [
    {
     "name": "stdout",
     "output_type": "stream",
     "text": [
      "Original DataFrame\n",
      "          Date         City  Temperature\n",
      "0  2023-01-01     New York           32\n",
      "1  2023-01-01  Los Angeles           75\n",
      "2  2023-01-02     New York           30\n",
      "3  2023-01-02  Los Angeles           77\n",
      "\n",
      "Reshaped DataFrame\n",
      " City        Los Angeles  New York\n",
      "Date                             \n",
      "2023-01-01         75.0      32.0\n",
      "2023-01-02         77.0      30.0\n"
     ]
    }
   ],
   "source": [
    "import pandas as pd\n",
    "\n",
    "# create a dataframe\n",
    "data = {'Date': ['2023-01-01', '2023-01-01', '2023-01-02', '2023-01-02'],\n",
    "        'City': ['New York', 'Los Angeles', 'New York', 'Los Angeles'],\n",
    "        'Temperature': [32, 75, 30, 77]}\n",
    "df = pd.DataFrame(data)\n",
    "\n",
    "print(\"Original DataFrame\\n\", df)\n",
    "print()\n",
    "\n",
    "# pivot the dataframe\n",
    "pivot_df = df.pivot_table(index='Date', columns='City', values='Temperature')\n",
    "\n",
    "print(\"Reshaped DataFrame\\n\", pivot_df)"
   ]
  },
  {
   "cell_type": "markdown",
   "id": "0b903912-2fa0-4bdf-880d-4982259d3def",
   "metadata": {},
   "source": [
    "In this example, we reshaped the DataFrame with `Date` as the index, `City` as columns, and `Temperature` as values.\n",
    "\n",
    "The `pivot_df` DataFrame is a multidimensional table that shows the temperature based on the city and the date. Thus, the `pivot_table()` operation reshapes the data to make it clearer for further analysis.\n",
    "\n",
    "### `pivot_table()` Syntax\n",
    "\n",
    "The syntax of `pivot_table()` in Pandas is:\n",
    "\n",
    "```python\n",
    "df.pivot_table(data=None, index=None, columns=None, values=None, aggfunc='mean', fill_value=None, dropna=True)\n"
   ]
  },
  {
   "cell_type": "markdown",
   "id": "872a6243-93a5-4540-87c9-036a41bfef4c",
   "metadata": {},
   "source": [
    "Here:\n",
    "\n",
    "- **`index`**: The column to use as row labels.\n",
    "- **`columns`**: The column that will be reshaped as columns.\n",
    "- **`values`**: The column(s) to use for the new DataFrame's values.\n",
    "- **`aggfunc`**: The function to use for aggregation, defaulting to `'mean'`.\n",
    "- **`fill_value`**: Value to replace missing values with.\n",
    "- **`dropna`**: Whether to exclude the columns whose entries are all NaN.\n",
    "\n",
    "### Example: `pivot_table()` with Multiple Values\n",
    "\n",
    "If we omit the `values` argument in `pivot_table()`, it selects all the remaining columns (besides the ones specified in `index` and `columns`) as values for the pivot table.\n"
   ]
  },
  {
   "cell_type": "code",
   "execution_count": 41,
   "id": "3b43a7f9-98ac-402a-ad5c-95ef72888432",
   "metadata": {},
   "outputs": [
    {
     "name": "stdout",
     "output_type": "stream",
     "text": [
      "Original DataFrame\n",
      "         Date         City  Temperature  Humidity\n",
      "0  2023-01-01     New York           32        80\n",
      "1  2023-01-01  Los Angeles           75        10\n",
      "2  2023-01-02     New York           30        85\n",
      "3  2023-01-02  Los Angeles           77         5\n",
      "\n",
      "Reshaped DataFrame\n",
      "              Humidity          Temperature         \n",
      "City       Los Angeles New York Los Angeles New York\n",
      "Date                                                \n",
      "2023-01-01        10.0     80.0        75.0     32.0\n",
      "2023-01-02         5.0     85.0        77.0     30.0\n"
     ]
    }
   ],
   "source": [
    "import pandas as pd\n",
    "\n",
    "# create a dataframe\n",
    "data = {'Date': ['2023-01-01', '2023-01-01', '2023-01-02', '2023-01-02'],\n",
    "        'City': ['New York', 'Los Angeles', 'New York', 'Los Angeles'],\n",
    "        'Temperature': [32, 75, 30, 77],\n",
    "        'Humidity': [80, 10, 85, 5]}\n",
    "\n",
    "df = pd.DataFrame(data)\n",
    "\n",
    "print('Original DataFrame')\n",
    "print(df)\n",
    "print()\n",
    "\n",
    "# pivot the dataframe\n",
    "pivot_df = df.pivot_table(index='Date', columns='City')\n",
    "\n",
    "print('Reshaped DataFrame')\n",
    "print(pivot_df)"
   ]
  },
  {
   "cell_type": "markdown",
   "id": "bc824284-dc76-475e-be53-960c0842c2bd",
   "metadata": {},
   "source": [
    "In this example, we created a pivot table for multiple values, i.e., `Temperature` and `Humidity`.\n",
    "\n",
    "### `pivot_table()` With Aggregate Functions\n",
    "\n",
    "We can use the `pivot_table()` method with different aggregate functions using the `aggfunc` parameter. We can set the value of `aggfunc` to functions such as `'sum'`, `'mean'`, `'count'`, `'max'`, or `'min'`.\n",
    "\n",
    "Let's see an example.\n"
   ]
  },
  {
   "cell_type": "code",
   "execution_count": 42,
   "id": "867447fa-841b-4af0-91c8-c1b1e305704b",
   "metadata": {},
   "outputs": [
    {
     "name": "stdout",
     "output_type": "stream",
     "text": [
      "             Temperature\n",
      "City                    \n",
      "Los Angeles    76.666667\n",
      "New York       31.666667\n"
     ]
    }
   ],
   "source": [
    "import pandas as pd\n",
    "\n",
    "data = {'Date': ['2023-01-01', '2023-01-01', '2023-01-02', '2023-01-02', '2023-01-03', '2023-01-03'],\n",
    "        'City': ['New York', 'Los Angeles', 'New York', 'Los Angeles', 'New York', 'Los Angeles'],\n",
    "        'Temperature': [32, 75, 30, 77, 33, 78],\n",
    "        'Humidity': [80, 10, 85, 5, 81, 7]}\n",
    "\n",
    "df = pd.DataFrame(data)\n",
    "\n",
    "# calculate mean temperature for each city using pivot_table()\n",
    "mean_temperature = df.pivot_table(index='City', values='Temperature', aggfunc='mean')\n",
    "\n",
    "print(mean_temperature)\n",
    "\n"
   ]
  },
  {
   "cell_type": "markdown",
   "id": "84018cc4-e3bb-4da4-a6f2-1c7179fa0419",
   "metadata": {},
   "source": [
    "In the above example, we calculated the mean temperature of each city using the `aggfunc='mean'` argument in `pivot_table()`.\n",
    "\n",
    "### Pivot Table With MultiIndex\n",
    "\n",
    "We can create a pivot table with MultiIndex using the `pivot_table()` function.\n",
    "\n",
    "Let's look at an example.\n"
   ]
  },
  {
   "cell_type": "code",
   "execution_count": 43,
   "id": "172656ab-1f1b-4ec3-a8bf-4919ac4d52d8",
   "metadata": {},
   "outputs": [
    {
     "name": "stdout",
     "output_type": "stream",
     "text": [
      "Original DataFrame\n",
      "          Date         City Country  Temperature\n",
      "0  2023-01-01     New York     USA           32\n",
      "1  2023-01-01  Los Angeles     USA           75\n",
      "2  2023-01-02     New York     USA           30\n",
      "3  2023-01-02  Los Angeles     USA           77\n",
      "4  2023-01-01        Delhi   India           75\n",
      "5  2023-01-01      Chennai   India           80\n",
      "6  2023-01-02        Delhi   India           78\n",
      "7  2023-01-02      Chennai   India           79\n",
      "\n",
      "Reshaped DataFrame\n",
      " Date                 2023-01-01  2023-01-02\n",
      "Country City                               \n",
      "India   Chennai            80.0        79.0\n",
      "        Delhi              75.0        78.0\n",
      "USA     Los Angeles        75.0        77.0\n",
      "        New York           32.0        30.0\n"
     ]
    }
   ],
   "source": [
    "import pandas as pd\n",
    "\n",
    "# create a dataframe\n",
    "data = {'Date': ['2023-01-01', '2023-01-01', '2023-01-02', '2023-01-02', '2023-01-01', '2023-01-01', '2023-01-02', '2023-01-02'],\n",
    "        'City': ['New York', 'Los Angeles', 'New York', 'Los Angeles','Delhi', 'Chennai', 'Delhi', 'Chennai'],\n",
    "        'Country': ['USA', 'USA', 'USA', 'USA', 'India', 'India', 'India', 'India'],\n",
    "        'Temperature': [32, 75, 30, 77, 75, 80, 78, 79]}\n",
    "df = pd.DataFrame(data)\n",
    "\n",
    "print(\"Original DataFrame\\n\", df)\n",
    "print()\n",
    "\n",
    "# create a pivot table with multiindex\n",
    "pivot_df = df.pivot_table(index=['Country', 'City'], columns='Date', values='Temperature')\n",
    "\n",
    "print(\"Reshaped DataFrame\\n\", pivot_df)"
   ]
  },
  {
   "cell_type": "markdown",
   "id": "296b45b2-f7c0-4e2a-8181-141c4e967aee",
   "metadata": {},
   "source": [
    "In this example, we created a pivot table with a MultiIndex by passing a list of columns as an `index` argument.\n",
    "\n",
    "A MultiIndex contains multiple levels of indexes with columns linked to one another through a parent/relationship. Here, `Country` is the parent column and `City` is the child column.\n",
    "\n",
    "### Handle Missing Values With `pivot_table()`\n",
    "\n",
    "Sometimes while reshaping data using `pivot_table()`, missing values or NaN values may occur in the pivot table. Such missing values can be handled in a `pivot_table()` operation using the `fill_value` and `dropna` arguments.\n",
    "\n",
    "- **`dropna`**: Specifies whether to remove the columns whose entries are all NaN. The default value of `dropna` is `True`.\n",
    "\n",
    "Let's look at an example.\n"
   ]
  },
  {
   "cell_type": "code",
   "execution_count": 44,
   "id": "85c7cc98-a95b-4e8d-b7ea-53a409b295eb",
   "metadata": {},
   "outputs": [
    {
     "name": "stdout",
     "output_type": "stream",
     "text": [
      "\n",
      "Default Pivot Table\n",
      " City        Los Angeles  New York\n",
      "Date                             \n",
      "2023-01-01         75.0      32.0\n",
      "2023-01-02         77.0      30.0\n",
      "2023-01-03         76.0       NaN\n",
      "\n",
      "Pivot Table with dropna=False:\n",
      " City        Chicago  Los Angeles  New York\n",
      "Date                                      \n",
      "2023-01-01      NaN         75.0      32.0\n",
      "2023-01-02      NaN         77.0      30.0\n",
      "2023-01-03      NaN         76.0       NaN\n"
     ]
    }
   ],
   "source": [
    "import pandas as pd\n",
    "import numpy as np\n",
    "\n",
    "# Creating the DataFrame\n",
    "data = {'Date': ['2023-01-01', '2023-01-01', '2023-01-02', '2023-01-02', '2023-01-03', '2023-01-03', '2023-01-03'],\n",
    "        'City': ['New York', 'Los Angeles', 'New York', 'Los Angeles', 'New York', 'Los Angeles', 'Chicago'],\n",
    "        'Temperature': [32, 75, 30, 77, np.nan, 76, np.nan]}\n",
    "df = pd.DataFrame(data)\n",
    "\n",
    "# create a pivot table\n",
    "pivot_df = df.pivot_table(index='Date', columns='City', values='Temperature')\n",
    "\n",
    "print(\"\\nDefault Pivot Table\\n\", pivot_df)\n",
    "\n",
    "# create a pivot table with dropna=True\n",
    "pivot_df_dropna = df.pivot_table(index='Date', columns='City', values='Temperature', dropna=False)\n",
    "\n",
    "print(\"\\nPivot Table with dropna=False:\\n\", pivot_df_dropna)"
   ]
  },
  {
   "cell_type": "markdown",
   "id": "cff7f8ea-554f-4c11-85a7-558d4edcbed6",
   "metadata": {},
   "source": [
    "In this example, we used the `dropna` parameter to determine the handling of columns with entirely NaN entries. By default, the `dropna` parameter is set to `True`, resulting in the automatic removal of the `Chicago` column.\n",
    "\n",
    "Notice that the `New York` column is not dropped despite having one NaN value. This is because `dropna` removes only the columns whose entries are all NaN.\n",
    "\n",
    "The `fill_value` argument, on the other hand, replaces all the NaN values with a specified value. For example:\n",
    "\n",
    "```python\n",
    "pivot_table(df, fill_value=0)\n"
   ]
  },
  {
   "cell_type": "code",
   "execution_count": 45,
   "id": "5e38ae8a-fd64-4423-adad-f74cecabd33f",
   "metadata": {},
   "outputs": [
    {
     "name": "stdout",
     "output_type": "stream",
     "text": [
      "\n",
      "Default Pivot Table\n",
      " City        Los Angeles  New York\n",
      "Date                             \n",
      "2023-01-01          NaN      32.0\n",
      "2023-01-02         77.0      30.0\n",
      "2023-01-03         76.0       NaN\n",
      "\n",
      "Pivot Table with fill_value=0:\n",
      " City        Los Angeles  New York\n",
      "Date                             \n",
      "2023-01-01          0.0      32.0\n",
      "2023-01-02         77.0      30.0\n",
      "2023-01-03         76.0       0.0\n"
     ]
    }
   ],
   "source": [
    "import pandas as pd\n",
    "import numpy as np\n",
    "\n",
    "# Creating the DataFrame\n",
    "data = {'Date': ['2023-01-01', '2023-01-01', '2023-01-02', '2023-01-02', '2023-01-03', '2023-01-03'],\n",
    "        'City': ['New York', 'Los Angeles', 'New York', 'Los Angeles', 'New York', 'Los Angeles'],\n",
    "        'Temperature': [32, np.nan, 30, 77, np.nan, 76]}\n",
    "df = pd.DataFrame(data)\n",
    "\n",
    "# create a pivot table\n",
    "pivot_df = df.pivot_table(index='Date', columns='City', values='Temperature')\n",
    "\n",
    "print(\"\\nDefault Pivot Table\\n\", pivot_df)\n",
    "\n",
    "# create a pivot table with fill_value=0\n",
    "pivot_df_dropna = df.pivot_table(index='Date', columns='City', values='Temperature', fill_value=0)\n",
    "\n",
    "print(\"\\nPivot Table with fill_value=0:\\n\", pivot_df_dropna)"
   ]
  },
  {
   "cell_type": "markdown",
   "id": "0c7d149f-8921-455f-a21b-9f5b0989d279",
   "metadata": {},
   "source": [
    "In this example, we replaced the NaN values with `0` using the `fill_value=0` argument.\n",
    "\n",
    "### `pivot()` vs `pivot_table()`\n",
    "\n",
    "The `pivot()` and `pivot_table()` functions perform similar operations but have a few key differences:\n",
    "\n",
    "| Basis           | `pivot()`                         | `pivot_table()`                          |\n",
    "|-----------------|----------------------------------|------------------------------------------|\n",
    "| **Aggregation** | Does not allow aggregation of data. | Allows aggregation (sum, mean, count, etc.). |\n",
    "| **Duplicate Index** | Cannot handle duplicate index values. | Can handle duplicate index values.         |\n",
    "| **MultiIndex**  | Only accepts a single-level index. | Accepts multi-level index for complex data. |\n"
   ]
  },
  {
   "cell_type": "code",
   "execution_count": null,
   "id": "f967b627-e14d-4bc3-8872-348cde137021",
   "metadata": {},
   "outputs": [],
   "source": []
  }
 ],
 "metadata": {
  "kernelspec": {
   "display_name": "Python 3 (ipykernel)",
   "language": "python",
   "name": "python3"
  },
  "language_info": {
   "codemirror_mode": {
    "name": "ipython",
    "version": 3
   },
   "file_extension": ".py",
   "mimetype": "text/x-python",
   "name": "python",
   "nbconvert_exporter": "python",
   "pygments_lexer": "ipython3",
   "version": "3.9.1"
  }
 },
 "nbformat": 4,
 "nbformat_minor": 5
}
