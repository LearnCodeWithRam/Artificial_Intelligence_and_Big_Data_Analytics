{
 "cells": [
  {
   "cell_type": "markdown",
   "id": "829ddecc-d160-4f91-add4-fe58e7510272",
   "metadata": {},
   "source": [
    "# Pandas Read Text File\n",
    "\n",
    "Pandas offers several methods to read plain text (.txt) files and convert them to a Pandas DataFrame.\n",
    "\n",
    "We can read text files in Pandas in the following ways:\n",
    "\n",
    "- Using the `read_fwf()` function\n",
    "- Using the `read_table()` function\n",
    "- Using the `read_csv()` function\n",
    "\n",
    "Using the above methods, let's read a sample text file named `data.txt` with the following content:\n",
    "\n"
   ]
  },
  {
   "cell_type": "markdown",
   "id": "86987fba-90cd-4533-b979-af760f06d04f",
   "metadata": {},
   "source": [
    "```python\n",
    "John  25  170\n",
    "Alice 28  165\n",
    "Bob   30  180"
   ]
  },
  {
   "cell_type": "markdown",
   "id": "82f08bef-4a34-4698-afe6-75c4ece9d6e4",
   "metadata": {},
   "source": [
    "## Read Text Using read_fwf()\n",
    "The acronym `fwf` in the `ead_fwf()` function in Pandas stands for fixed-width lines, and it is used to load DataFrames from files such as text files.\n",
    "\n",
    "The text file should be separated into columns of fixed-width for it to be read using `read_fwf()`."
   ]
  },
  {
   "cell_type": "markdown",
   "id": "41d2da84-efcc-4306-bd8d-8cde3ddd9641",
   "metadata": {},
   "source": [
    "## Syntax\n",
    "The syntax of `read_fwf()` in Pandas is:"
   ]
  },
  {
   "cell_type": "markdown",
   "id": "77e9ebd7-ec57-475c-84ed-43d52f594c4e",
   "metadata": {},
   "source": [
    "\n",
    "```python\n",
    "pandas.read_fwf(\n",
    "    filepath_or_buffer,\n",
    "    colspecs = [],\n",
    "    widths=None,\n",
    "    infer_nrows=100,\n",
    "    **kwds\n",
    ")"
   ]
  },
  {
   "cell_type": "markdown",
   "id": "b9708b94-8b72-43c2-baf4-962a6bafa441",
   "metadata": {},
   "source": [
    "- **`filepath_or_buffer`**: specifies the file path or a file-like object from which the data will be read.\n",
    "- **`colspecs`**: defines the column positions or ranges in the file.\n",
    "- **`widths` (optional)**: an alternative to `colspecs` and can be used to define the width of each column in the file.\n",
    "- **`infer_nrows` (optional)**: specifies the number of rows to be used for inferring the column widths if `widths` is not explicitly provided.\n",
    "- **`**kwds` (optional)**: allows additional keyword arguments to be passed for further customization.\n"
   ]
  },
  {
   "cell_type": "markdown",
   "id": "918c90df-17d5-4a89-8a98-dd4de3d34940",
   "metadata": {},
   "source": [
    "## Example: read_fwf()\n",
    "The content of the `data.txt` file is the same as mentioned in the introduction section."
   ]
  },
  {
   "cell_type": "markdown",
   "id": "1e499644-7ee9-4ca4-b975-d8d7ddf76835",
   "metadata": {},
   "source": [
    "```python\n",
    "import pandas as pd\n",
    "\n",
    "# read the fixed-width file\n",
    "df = pd.read_fwf('data.txt', colspecs=[(0, 5), (6, 10), (11, 15)], names = ['Name', 'Age', 'Height'])\n",
    "\n",
    "print(df)\n",
    "Output:\n",
    "\n",
    "    Name  Age  Height\n",
    "0   John   25      70\n",
    "1  Alice   28      65\n",
    "2    Bob   30      80"
   ]
  },
  {
   "cell_type": "markdown",
   "id": "99144d6f-5bf4-47c8-a994-92c1a8379f85",
   "metadata": {},
   "source": [
    "In the above example, we read a text file `'data.txt'` using `read_fwf()`.\n",
    "\n",
    "Here,\n",
    "\n",
    "- **`colspecs = [(0, 5), (6, 10), (11, 15)]`**: specifies the position of each column in the text file.\n",
    "- **`names = ['Name', 'Age', 'Height']`**: specifies the names to be assigned to each column. The `names` argument is an example of a keyword argument in `**kwds`.\n",
    "\n",
    "### Read Text Using `read_table()`\n",
    "\n",
    "The `read_table()` function in Pandas is used to read tabular data from a file or a URL. It is a convenient way to read data from delimited text files.\n",
    "\n",
    "#### Syntax\n",
    "\n",
    "The syntax of `read_table()` in Pandas is:\n",
    "\n",
    "```python\n",
    "pandas.read_table(\n",
    "    filepath_or_buffer,\n",
    "    sep='\\t',\n",
    "    header='infer',\n",
    "    names=None\n",
    ")"
   ]
  },
  {
   "cell_type": "markdown",
   "id": "67446373-f93e-4af3-bfa2-81341b321e0c",
   "metadata": {},
   "source": [
    "Here,\n",
    "\n",
    "- **`filepath_or_buffer`**: specifies the path to the file to be read or a URL pointing to the file.\n",
    "- **`sep`**: specifies the separator or delimiter used in the file to separate columns.\n",
    "- **`header`**: specifies the row number (0-indexed) to be used as the column names.\n",
    "- **`names`**: a list of column names for the DataFrame.\n",
    "\n",
    "To learn more, please refer to the official documentation on `read_table()`.\n",
    "\n",
    "### Example: `read_table()`\n",
    "\n",
    "The content of the `data.txt` file is the same as mentioned in the introduction section.\n",
    "\n",
    "```python\n",
    "import pandas as pd\n",
    "\n",
    "# Load the text file into a DataFrame\n",
    "df = pd.read_table('data.txt', sep=' \\s+', header=None, names=['Name', 'Age', 'Height'])\n",
    "\n",
    "print(df)"
   ]
  },
  {
   "cell_type": "markdown",
   "id": "c5aa83ef-53d9-42c6-b19d-4227172f935d",
   "metadata": {},
   "source": [
    "### Output\n",
    "```python\n",
    "    Name  Age  Height\n",
    "0   John   25     170\n",
    "1  Alice   28     165\n",
    "2    Bob   30     180\n"
   ]
  },
  {
   "cell_type": "markdown",
   "id": "12393da6-5fad-497d-abd0-aad2617e1bc2",
   "metadata": {},
   "source": [
    "Here, the `sep=\"\\s+\"` parameter is used to specify that the data is separated by one or more whitespace characters.\n",
    "\n",
    "The separator is selected based on the format of the text file. For example, if the text file contained comma-separated values, we would have used `sep=','`.\n",
    "\n",
    "### Read Text Using `read_csv()`\n",
    "\n",
    "The `read_csv()` function in Pandas is used to read CSV files. It can also be used to read text files, as `read_csv()` allows the use of other separators like whitespace, tabs, semicolons, etc., in addition to commas.\n",
    "\n",
    "#### Syntax\n",
    "\n",
    "The syntax of `read_csv()` in Pandas is given below:\n",
    "\n",
    "```python\n",
    "pandas.read_csv(\n",
    "    filepath_or_buffer,\n",
    "    sep=',',\n",
    "    header=0,\n",
    "    names=['col1', 'col2', 'col3'],\n",
    "    index_col='col1'\n",
    ")\n"
   ]
  },
  {
   "cell_type": "markdown",
   "id": "41fb70a5-f147-497e-9e75-4a922d0e3d6b",
   "metadata": {},
   "source": [
    "Here,\n",
    "\n",
    "- **`filepath_or_buffer`**: represents the path or buffer object containing the CSV data to be read.\n",
    "- **`sep` (optional)**: specifies the delimiter used in the CSV file.\n",
    "- **`header` (optional)**: indicates the row number to be used as the header or column names.\n",
    "- **`names` (optional)**: a list of column names to assign to the DataFrame.\n",
    "- **`index_col` (optional)**: specifies the column to be used as the index of the DataFrame.\n",
    "\n",
    "These are some commonly used arguments of the `read_csv()` function. All of them are optional except `filepath_or_buffer`. There are many other optional arguments that can be used with `read_csv()`.\n"
   ]
  },
  {
   "cell_type": "markdown",
   "id": "d6663b57-ada1-4e18-b4ec-8d306f0ba64c",
   "metadata": {},
   "source": [
    "## Example: read_csv()\n",
    "The content of the `data.txt` file is the same as mentioned in the introduction section. The values in the file are thus separated by whitespaces."
   ]
  },
  {
   "cell_type": "code",
   "execution_count": 1,
   "id": "8bd7c96e-75ce-4c79-b21e-101f6fda9b15",
   "metadata": {},
   "outputs": [
    {
     "name": "stdout",
     "output_type": "stream",
     "text": [
      "    Name  Age  Height\n",
      "0   John   25     170\n",
      "1  Alice   28     165\n",
      "2    Bob   30     180\n"
     ]
    }
   ],
   "source": [
    "import pandas as pd\n",
    "\n",
    "# read the file using read_table()\n",
    "df = pd.read_csv(\"data.txt\", sep=\"\\s+\", header = None, names=['Name', 'Age', 'Height'])\n",
    "\n",
    "print(df)"
   ]
  },
  {
   "cell_type": "markdown",
   "id": "81a56b88-396a-4e84-b21e-be5ecd3d642a",
   "metadata": {},
   "source": [
    "Here, `header = None` indicates that none of the rows in the text file is a header row.\n",
    "\n",
    "Also, notice the use of `sep=\"\\s+\"` which indicates that the values in the files are separated by one or more spaces."
   ]
  },
  {
   "cell_type": "code",
   "execution_count": null,
   "id": "fc10ee87-22f2-49b0-a1b8-afb3ea57ec77",
   "metadata": {},
   "outputs": [],
   "source": []
  }
 ],
 "metadata": {
  "kernelspec": {
   "display_name": "Python 3 (ipykernel)",
   "language": "python",
   "name": "python3"
  },
  "language_info": {
   "codemirror_mode": {
    "name": "ipython",
    "version": 3
   },
   "file_extension": ".py",
   "mimetype": "text/x-python",
   "name": "python",
   "nbconvert_exporter": "python",
   "pygments_lexer": "ipython3",
   "version": "3.9.1"
  }
 },
 "nbformat": 4,
 "nbformat_minor": 5
}
