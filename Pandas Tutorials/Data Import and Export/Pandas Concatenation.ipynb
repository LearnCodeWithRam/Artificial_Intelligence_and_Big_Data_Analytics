{
 "cells": [
  {
   "cell_type": "markdown",
   "id": "1af7c53a-b1de-4206-9e5d-ed50f4c821a0",
   "metadata": {},
   "source": [
    "# Pandas Concatenation\n",
    "The concatenation operation in Pandas appends one DataFrame to another along an axis. It works similar to **SQL UNION ALL** operation.\n",
    "\n",
    "We use the `concat()` method to concatenate two or more DataFrames in Pandas. For example,"
   ]
  },
  {
   "cell_type": "code",
   "execution_count": 1,
   "id": "11c57baa-752f-4106-8ad5-15a0d0339c29",
   "metadata": {},
   "outputs": [
    {
     "name": "stdout",
     "output_type": "stream",
     "text": [
      "    A   B\n",
      "0  A0  B0\n",
      "1  A1  B1\n",
      "2  A2  B2\n",
      "3  A3  B3\n"
     ]
    }
   ],
   "source": [
    "import pandas as pd\n",
    "\n",
    "# create dataframes\n",
    "df1 = pd.DataFrame({'A': ['A0', 'A1'],\n",
    "                    'B': ['B0', 'B1']},\n",
    "                    index=[0, 1])\n",
    "\n",
    "df2 = pd.DataFrame({'A': ['A2', 'A3'],\n",
    "                    'B': ['B2', 'B3']},\n",
    "                    index=[2, 3])\n",
    "\n",
    "# concatenate two dataframes\n",
    "result = pd.concat([df1, df2])\n",
    "\n",
    "print(result)"
   ]
  },
  {
   "cell_type": "markdown",
   "id": "c99a38d7-ef22-4dad-ae3d-9c9f3f296825",
   "metadata": {},
   "source": [
    "In this example, we created two DataFrames (`df1` and `df2`) and stacked them vertically (along axis 0)."
   ]
  },
  {
   "cell_type": "markdown",
   "id": "709938b6-b658-4033-a8c7-12e983ce9856",
   "metadata": {},
   "source": [
    "## concat() Syntax\n",
    "The syntax of the `concat()` method in Pandas is:"
   ]
  },
  {
   "cell_type": "markdown",
   "id": "c3b4dec6-babc-49b3-92dd-b595ca63c90c",
   "metadata": {},
   "source": [
    "```python\n",
    "pd.concat(objs, axis=0, join='outer', ignore_index=False, keys=None, levels=None, names=None, verify_integrity=False, sort=False, copy=True)"
   ]
  },
  {
   "cell_type": "markdown",
   "id": "1fc390fe-202e-47f4-bdee-d38ce8bdcf7d",
   "metadata": {},
   "source": [
    "Here,\n",
    "\n",
    "`objs`: sequence of Series or DataFrame objects\n",
    "`axis` (optional): the axis to concatenate along\n",
    "`join` (optional): the type of join to perform\n",
    "`ignore_index` (optional): if `True`, it will not use the index values on the concatenation axis and will result in a default integer index\n",
    "`keys` (optional): used to construct hierarchical index using the passed keys as the outermost level\n",
    "`verify_integrity` (optional): If `True`, it checks whether the new concatenated axis contains duplicates and raises `ValueError` if duplicates are found\n",
    "`sort` (optional): sorts the non-concatenation axis if it is not already aligned"
   ]
  },
  {
   "cell_type": "markdown",
   "id": "0cc020c3-1323-4eb0-b01d-159d1e2bd7e5",
   "metadata": {},
   "source": [
    "## Example: concat() With Arguments\n",
    "Let's see an example of arguments like `ignore_index` and `sort`."
   ]
  },
  {
   "cell_type": "code",
   "execution_count": 2,
   "id": "e66006f6-c14a-4552-80c8-8c49b6498ec4",
   "metadata": {},
   "outputs": [
    {
     "name": "stdout",
     "output_type": "stream",
     "text": [
      "ignore_index = True\n",
      "       Name  Age      City\n",
      "0     John   25  New York\n",
      "1    Alice   30     Paris\n",
      "2      Bob   35    London\n",
      "3    Emily   28    Berlin\n",
      "4  Michael   32     Tokyo\n",
      "5   Sophia   27    Sydney\n",
      "6     Rita   22     Delhi\n",
      "\n",
      "sort = True\n",
      "    Age      City     Name\n",
      "0   25  New York     John\n",
      "1   30     Paris    Alice\n",
      "2   35    London      Bob\n",
      "0   28    Berlin    Emily\n",
      "1   32     Tokyo  Michael\n",
      "2   27    Sydney   Sophia\n",
      "3   22     Delhi     Rita\n"
     ]
    }
   ],
   "source": [
    "import pandas as pd\n",
    "\n",
    "# create dataframes\n",
    "df1 = pd.DataFrame({'Name': ['John', 'Alice', 'Bob'],\n",
    "                    'Age': [25, 30, 35],\n",
    "                    'City': ['New York', 'Paris', 'London']})\n",
    "\n",
    "df2 = pd.DataFrame({'Name': ['Emily', 'Michael', 'Sophia', 'Rita'],\n",
    "                    'Age': [28, 32, 27, 22],\n",
    "                    'City': ['Berlin', 'Tokyo', 'Sydney', 'Delhi']})\n",
    "\n",
    "# concatenate dataframes while ignoring index\n",
    "result_ignore_index = pd.concat([df1, df2], ignore_index = True)\n",
    "\n",
    "# concatenate dataframes and sort the result\n",
    "result_sort = pd.concat([df1, df2], sort = True)\n",
    "\n",
    "# display the concatenated results\n",
    "print('ignore_index = True\\n', result_ignore_index)\n",
    "print('\\nsort = True\\n', result_sort)"
   ]
  },
  {
   "cell_type": "markdown",
   "id": "2176f0a1-a967-49a7-922d-d1430dae7db8",
   "metadata": {},
   "source": [
    "In this example, we used the `ignore_index` and `sort` argument in the `concat()` method.\n",
    "\n",
    "When `ignore_index` is set to `True`, the index values of individual DataFrames are ignored and new index values are used in the resulting DataFrame.\n",
    "\n",
    "When `sort` is set to `True`, the non-concatenation axis (axis 0 in this case) is sorted alphabetically. Hence in the resulting DataFrame, the columns are sorted alphabetically based on their names."
   ]
  },
  {
   "cell_type": "markdown",
   "id": "85ba0b74-8c30-42ea-86bc-328623e232ad",
   "metadata": {},
   "source": [
    "## Concatenation Along Axis 1\n",
    "By specifying `axis=1`, we can concatenate along the columns (horizontal). For example,"
   ]
  },
  {
   "cell_type": "code",
   "execution_count": 3,
   "id": "17bc64a0-f005-4f4a-b81c-9a0606077fdf",
   "metadata": {},
   "outputs": [
    {
     "name": "stdout",
     "output_type": "stream",
     "text": [
      "    Name   Age      City     Name  Age    City\n",
      "0   John  25.0  New York    Emily   28  Berlin\n",
      "1  Alice  30.0     Paris  Michael   32   Tokyo\n",
      "2    Bob  35.0    London   Sophia   27  Sydney\n",
      "3    NaN   NaN       NaN     Rita   22   Delhi\n"
     ]
    }
   ],
   "source": [
    "import pandas as pd\n",
    "\n",
    "# create dataframes\n",
    "df1 = pd.DataFrame({'Name': ['John', 'Alice', 'Bob'],\n",
    "                    'Age': [25, 30, 35],\n",
    "                    'City': ['New York', 'Paris', 'London']})\n",
    "\n",
    "df2 = pd.DataFrame({'Name': ['Emily', 'Michael', 'Sophia', 'Rita'],\n",
    "                    'Age': [28, 32, 27, 22],\n",
    "                    'City': ['Berlin', 'Tokyo', 'Sydney', 'Delhi']})\n",
    "\n",
    "# concatenate dataframes along axis 1\n",
    "result = pd.concat([df1, df2], axis=1)\n",
    "\n",
    "print(result)"
   ]
  },
  {
   "cell_type": "markdown",
   "id": "9f2732c3-9fcb-4249-ad34-0402e03e35ca",
   "metadata": {},
   "source": [
    "Here, we concatenated two DataFrames `df1` and `df2` along the horizontal axis.\n",
    "\n",
    "An outer join is performed by default while concatenating DataFrames along axis 1. This means it returns a new DataFrame that contains all rows from both original DataFrames. If there is no match for a given row, the missing values are filled with `NaN`.\n",
    "\n",
    "If we want to return a DataFrame that contains only rows that have matching values in both of the original DataFrames, we need to perform an inner join by specifying `join = 'inner'`.\n",
    "\n"
   ]
  },
  {
   "cell_type": "markdown",
   "id": "635a064d-c5d6-4cba-8be9-b6f34b726f34",
   "metadata": {},
   "source": [
    "## Example: Inner Join Vs Outer Join"
   ]
  },
  {
   "cell_type": "code",
   "execution_count": 5,
   "id": "d2af1cc4-6ffa-4d47-9dad-ce288c9d53ab",
   "metadata": {},
   "outputs": [
    {
     "name": "stdout",
     "output_type": "stream",
     "text": [
      "Outer Join\n",
      "     Name   Age      City     Name  Age    City\n",
      "0   John  25.0  New York    Emily   28  Berlin\n",
      "1  Alice  30.0     Paris  Michael   32   Tokyo\n",
      "2    Bob  35.0    London   Sophia   27  Sydney\n",
      "3    NaN   NaN       NaN     Rita   22   Delhi\n",
      "\n",
      "Inner Join\n",
      "     Name  Age      City     Name  Age    City\n",
      "0   John   25  New York    Emily   28  Berlin\n",
      "1  Alice   30     Paris  Michael   32   Tokyo\n",
      "2    Bob   35    London   Sophia   27  Sydney\n"
     ]
    }
   ],
   "source": [
    "import pandas as pd\n",
    "\n",
    "# create dataframes\n",
    "df1 = pd.DataFrame({'Name': ['John', 'Alice', 'Bob'],\n",
    "                    'Age': [25, 30, 35],\n",
    "                    'City': ['New York', 'Paris', 'London']})\n",
    "\n",
    "df2 = pd.DataFrame({'Name': ['Emily', 'Michael', 'Sophia', 'Rita'],\n",
    "                    'Age': [28, 32, 27, 22],\n",
    "                    'City': ['Berlin', 'Tokyo', 'Sydney', 'Delhi']})\n",
    "\n",
    "\n",
    "# concatenate dataframes with outer join\n",
    "result_outer = pd.concat([df1, df2], axis = 1)\n",
    "\n",
    "# concatenate dataframes with inner join\n",
    "result_inner = pd.concat([df1, df2], axis = 1, join = 'inner')\n",
    "\n",
    "# display the concatenated results\n",
    "print('Outer Join\\n', result_outer)\n",
    "print('\\nInner Join\\n', result_inner)"
   ]
  },
  {
   "cell_type": "markdown",
   "id": "99de885f-ec12-4432-80bc-96ef7fc7ce23",
   "metadata": {},
   "source": [
    "Notice that `NaN` values are filled in empty places to include all the rows of `df2` in case of outer join.\n",
    "\n",
    "While in case of inner join, the row without matching index is dropped altogether."
   ]
  },
  {
   "cell_type": "markdown",
   "id": "828ca7f4-e6c9-4020-aadc-1b435418daa2",
   "metadata": {},
   "source": [
    "## Concatenation With Keys\n",
    "The `keys` parameter is particularly useful when we want to add an extra level of information to the resulting dataframe.\n",
    "\n",
    "When we pass a list of keys to the `concat()` function, Pandas will create a new hierarchical index level. The new index level contains the information according to the origin of the data. For example,"
   ]
  },
  {
   "cell_type": "code",
   "execution_count": 6,
   "id": "9d88f960-c49c-4e8f-bd82-bc6c08714e9c",
   "metadata": {},
   "outputs": [
    {
     "name": "stdout",
     "output_type": "stream",
     "text": [
      "               Name  Age      City\n",
      "from_df1 0     John   25  New York\n",
      "         1    Alice   30     Paris\n",
      "         2      Bob   35    London\n",
      "from_df2 0    Emily   28    Berlin\n",
      "         1  Michael   32     Tokyo\n",
      "         2   Sophia   27    Sydney\n",
      "         3     Rita   22     Delhi\n"
     ]
    }
   ],
   "source": [
    "import pandas as pd\n",
    "\n",
    "# create dataframes\n",
    "df1 = pd.DataFrame({'Name': ['John', 'Alice', 'Bob'],\n",
    "                    'Age': [25, 30, 35],\n",
    "                    'City': ['New York', 'Paris', 'London']})\n",
    "\n",
    "df2 = pd.DataFrame({'Name': ['Emily', 'Michael', 'Sophia', 'Rita'],\n",
    "                    'Age': [28, 32, 27, 22],\n",
    "                    'City': ['Berlin', 'Tokyo', 'Sydney', 'Delhi']})\n",
    "\n",
    "\n",
    "# concatenate dataframes while ignoring index\n",
    "result = pd.concat([df1, df2], keys = ['from_df1', 'from_df2'])\n",
    "\n",
    "print(result)"
   ]
  },
  {
   "cell_type": "markdown",
   "id": "e648360d-328d-4517-9df7-8ae38001988e",
   "metadata": {},
   "source": [
    "In this example, we passed the list of keys `['from_df1', 'from_df2']`.\n",
    "\n",
    "This created a two-level index in the resulting DataFrame. The first level of the index is the keys we specified `('from_df1' and 'from_df2')`, and the second level of the index is the original index from `df1` and `df2`.\n",
    "\n",
    "This feature is particularly useful when the origin of data is important for further data analysis."
   ]
  },
  {
   "cell_type": "code",
   "execution_count": null,
   "id": "1c5d1257-f2da-49a3-8834-f05a5238532c",
   "metadata": {},
   "outputs": [],
   "source": []
  }
 ],
 "metadata": {
  "kernelspec": {
   "display_name": "Python 3 (ipykernel)",
   "language": "python",
   "name": "python3"
  },
  "language_info": {
   "codemirror_mode": {
    "name": "ipython",
    "version": 3
   },
   "file_extension": ".py",
   "mimetype": "text/x-python",
   "name": "python",
   "nbconvert_exporter": "python",
   "pygments_lexer": "ipython3",
   "version": "3.9.1"
  }
 },
 "nbformat": 4,
 "nbformat_minor": 5
}
