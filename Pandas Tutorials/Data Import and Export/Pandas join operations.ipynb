{
 "cells": [
  {
   "cell_type": "markdown",
   "id": "edc32b91-696b-468f-a8ba-cf1089ddedc9",
   "metadata": {},
   "source": [
    "# Pandas Join\n",
    "The join operation in Pandas joins two DataFrames based on their indexes.\n",
    "\n",
    "Let's see an example."
   ]
  },
  {
   "cell_type": "code",
   "execution_count": 1,
   "id": "3ba3142d-94ef-4eae-8c7d-1c3b9d5c20b4",
   "metadata": {},
   "outputs": [
    {
     "name": "stdout",
     "output_type": "stream",
     "text": [
      "DataFrame 1:\n",
      "      A   B\n",
      "K0  A0  B0\n",
      "K1  A1  B1\n",
      "K2  A2  B2\n",
      "K3  A3  B3\n",
      "\n",
      "DataFrame 2:\n",
      "      C   D\n",
      "K0  C0  D0\n",
      "K1  C1  D1\n",
      "K2  C2  D2\n",
      "K3  C3  D3\n",
      "\n",
      "Joined DataFrame:\n",
      "      A   B   C   D\n",
      "K0  A0  B0  C0  D0\n",
      "K1  A1  B1  C1  D1\n",
      "K2  A2  B2  C2  D2\n",
      "K3  A3  B3  C3  D3\n"
     ]
    }
   ],
   "source": [
    "import pandas as pd\n",
    "\n",
    "# create dataframe 1\n",
    "data1 = {\n",
    "    'A': ['A0', 'A1', 'A2', 'A3'],\n",
    "    'B': ['B0', 'B1', 'B2', 'B3'],\n",
    "}\n",
    "df1 = pd.DataFrame(data1, index=['K0', 'K1', 'K2', 'K3'])\n",
    "\n",
    "# create dataframe 2\n",
    "data2 = {\n",
    "    'C': ['C0', 'C1', 'C2', 'C3'],\n",
    "    'D': ['D0', 'D1', 'D2', 'D3'],\n",
    "}\n",
    "df2 = pd.DataFrame(data2, index=['K0', 'K1', 'K2', 'K3'])\n",
    "\n",
    "# join dataframes\n",
    "df_join = df1.join(df2)\n",
    "\n",
    "# display DataFrames\n",
    "print(\"DataFrame 1:\\n\", df1)\n",
    "print(\"\\nDataFrame 2:\\n\", df2)\n",
    "print(\"\\nJoined DataFrame:\\n\", df_join)"
   ]
  },
  {
   "cell_type": "markdown",
   "id": "11b28d22-cf93-441b-835c-e8eecc7b1621",
   "metadata": {},
   "source": [
    "In this example, we joined DataFrames `df1` and `df2` using `join()`.\n",
    "\n",
    "Here, we have specified `index= ['K0', 'K1', 'K2', 'K3']` in both the DataFrames. This is to provide a common index column based on which we can perform the join operation."
   ]
  },
  {
   "cell_type": "markdown",
   "id": "1f33103d-52a2-481e-af06-d45de56f2a16",
   "metadata": {},
   "source": [
    "## join() Syntax\n",
    "The syntax of the `join()` method in Pandas is:\n",
    "```python\n",
    "df1.join(df2, on=None, how='left', lsuffix='', rsuffix='', sort=False)\n"
   ]
  },
  {
   "cell_type": "markdown",
   "id": "7aeae8e0-ef97-4dee-a81a-e5a4af8937b2",
   "metadata": {},
   "source": [
    "Here,\n",
    "\n",
    "- `df1`: is the first DataFrame\n",
    "- `df2`: is the dataframe to be joined to the first DataFrame\n",
    "- `on(optional)`: specifies the index column(s) based on which the DataFrames are joined\n",
    "- `how(optional)`: specifies the type of join to perform\n",
    "- `lsuffix(optional)`: specifies a suffix that will be appended to a column name of the first DataFrame if there is a collision or conflict with another column name\n",
    "- `rsuffix(optional)`: specifies a suffix that will be appended to a column name of the second DataFrame if there is a collision or conflict with another column name\n",
    "- `sort(optional)`: determines whether to sort the result DataFrame by the join keys\n"
   ]
  },
  {
   "cell_type": "markdown",
   "id": "b76d23df-f76d-420d-b7c1-0c0fa47df778",
   "metadata": {},
   "source": [
    "## Example: Join DataFrames\n",
    "As discussed above, the `join()` method can only join DataFrames based on an index. However, we can treat a column as an index by passing it to `set_index()`. We can then use the column to join DataFrames.\n",
    "\n",
    "Let's see an example."
   ]
  },
  {
   "cell_type": "code",
   "execution_count": 3,
   "id": "1d34e071-cd6a-4782-9c6e-a87691aa081c",
   "metadata": {},
   "outputs": [
    {
     "name": "stdout",
     "output_type": "stream",
     "text": [
      "  EmployeeID         Name DeptID DeptName_left DeptName_right\n",
      "0       E001     John Doe   D001        Sales1         Sales2\n",
      "1       E002   Jane Smith   D003        Admin1         Admin2\n",
      "2       E003  Peter Brown   D001        Sales1         Sales2\n",
      "3       E004  Tom Johnson   D002           HR1            HR2\n",
      "4       E005   Rita Patel   D006           N/A            NaN\n"
     ]
    }
   ],
   "source": [
    "import pandas as pd\n",
    "\n",
    "# create dataframes from the dictionaries\n",
    "data1 = {\n",
    "    'EmployeeID' : ['E001', 'E002', 'E003', 'E004', 'E005'],\n",
    "    'Name' : ['John Doe', 'Jane Smith', 'Peter Brown', 'Tom Johnson', 'Rita Patel'],\n",
    "    'DeptID': ['D001', 'D003', 'D001', 'D002', 'D006'],\n",
    "    'DeptName': ['Sales1', 'Admin1', 'Sales1', 'HR1', 'N/A']\n",
    "}\n",
    "employees = pd.DataFrame(data1)\n",
    "\n",
    "data2 = {\n",
    "    'DeptID' : ['D001', 'D002', 'D003', 'D004'],\n",
    "    'DeptName' : ['Sales2', 'HR2', 'Admin2', 'Marketing2']\n",
    "}\n",
    "departments = pd.DataFrame(data2)\n",
    "\n",
    "# set DeptID as index for departments dataframe\n",
    "departments = departments.set_index('DeptID')\n",
    "\n",
    "# join the dataframes based on columns\n",
    "df_join = employees.join(departments, on = 'DeptID', lsuffix = '_left', rsuffix = '_right')\n",
    "\n",
    "print(df_join)"
   ]
  },
  {
   "cell_type": "markdown",
   "id": "9f1f18f6-d0c9-4b78-9584-10b642a42862",
   "metadata": {},
   "source": [
    "In the above example, we performed a join operation on two DataFrames `employees` and `departments` using the `join()` method.\n",
    "\n",
    "Notice the line,"
   ]
  },
  {
   "cell_type": "markdown",
   "id": "078bf6e1-a554-4125-a979-21026fcdaccf",
   "metadata": {},
   "source": [
    "```python\n",
    "departments = departments.set_index('DeptID')"
   ]
  },
  {
   "cell_type": "markdown",
   "id": "bcc3e3a7-7cb1-4ec8-8bfe-4cedb50e7f2e",
   "metadata": {},
   "source": [
    "Here, we have set the column `DeptID` as the index.\n",
    "\n",
    "Also, notice we've made `DeptID` the index for `departments` but not `employees`. This is because the column used for the join should be the index of the right DataFrame, not always the left one.\n",
    "\n",
    "In such cases, we need to use the `on` argument."
   ]
  },
  {
   "cell_type": "markdown",
   "id": "d43b747c-abf1-4445-a384-8cf101ed7553",
   "metadata": {},
   "source": [
    "```python\n",
    "df_join = employees.join(departments, on = 'DeptID', lsuffix = '_left', rsuffix = '_right')"
   ]
  },
  {
   "cell_type": "markdown",
   "id": "07b56ed9-d44b-4b4a-a0d0-5e623702af9a",
   "metadata": {},
   "source": [
    "In this line, we've used the `on`argument with `lsuffix` and `rsuffix`.\n",
    "\n",
    "Both DataFrames have a `DeptID` column. To tell them apart, we added `_left` to the employees and `_right` to the departments on `DeptID` columns."
   ]
  },
  {
   "cell_type": "markdown",
   "id": "ee7b4981-1d30-42cb-9e0a-1e9346288868",
   "metadata": {},
   "source": [
    "## Types of Join\n",
    "\n",
    "When joining DataFrames using the `merge()` method in pandas, the default join type is a left join if not specified otherwise. You can control the type of join performed using the `how` argument. Below are the five types of joins available:\n",
    "\n",
    "1. **Left Join** (Default)\n",
    "   - Includes all rows from the left DataFrame and only matching rows from the right DataFrame.\n",
    "   - Rows in the left DataFrame without corresponding matches in the right DataFrame will have `NaN` values for columns from the right DataFrame.\n",
    "\n",
    "2. **Right Join**\n",
    "   - Includes all rows from the right DataFrame and only matching rows from the left DataFrame.\n",
    "   - Rows in the right DataFrame without corresponding matches in the left DataFrame will have `NaN` values for columns from the left DataFrame.\n",
    "\n",
    "3. **Outer Join**\n",
    "   - Includes all rows from both DataFrames, with `NaN` values in the places where there are no matches.\n",
    "   - Useful for combining data where you want to retain all entries from both DataFrames, regardless of whether they have matching keys.\n",
    "\n",
    "4. **Inner Join**\n",
    "   - Includes only the rows that have matching keys in both DataFrames.\n",
    "   - Rows with no matching keys in either DataFrame will be excluded from the result.\n",
    "\n",
    "5. **Cross Join**\n",
    "   - Performs a Cartesian product of the two DataFrames.\n",
    "   - Every row from the left DataFrame is paired with every row from the right DataFrame.\n",
    "   - Be cautious with this join type, as it can result in a very large DataFrame if the original DataFrames are large.\n",
    "\n"
   ]
  },
  {
   "cell_type": "markdown",
   "id": "c3fdb533-b4dd-4954-baae-c6839b479bf3",
   "metadata": {},
   "source": [
    "## Left Join\n",
    "A left join combines two DataFrames based on a common key and returns a new DataFrame that contains all rows from the left data frame and the matched rows from the right DataFrame.\n",
    "\n",
    "If values are not found in the right dataframe, it fills the space with `NaN`. For example,"
   ]
  },
  {
   "cell_type": "code",
   "execution_count": 5,
   "id": "a0ad29f6-6964-41ec-b481-4c4946577bed",
   "metadata": {},
   "outputs": [
    {
     "name": "stdout",
     "output_type": "stream",
     "text": [
      "  EmployeeID         Name DeptID DeptName\n",
      "0       E001     John Doe   D001    Sales\n",
      "1       E002   Jane Smith   D003    Admin\n",
      "2       E003  Peter Brown   D001    Sales\n",
      "3       E004  Tom Johnson   D002       HR\n",
      "4       E005   Rita Patel   D005      NaN\n"
     ]
    }
   ],
   "source": [
    "import pandas as pd\n",
    "\n",
    "# create dataframes from the dictionaries\n",
    "data1 = {\n",
    "    'EmployeeID' : ['E001', 'E002', 'E003', 'E004', 'E005'],\n",
    "    'Name' : ['John Doe', 'Jane Smith', 'Peter Brown', 'Tom Johnson', 'Rita Patel'],\n",
    "    'DeptID': ['D001', 'D003', 'D001', 'D002', 'D005'],\n",
    "}\n",
    "employees = pd.DataFrame(data1)\n",
    "\n",
    "data2 = {\n",
    "    'DeptID': ['D001', 'D002', 'D003','D004'],\n",
    "    'DeptName': ['Sales', 'HR', 'Admin', 'Marketing']\n",
    "}\n",
    "departments = pd.DataFrame(data2)\n",
    "\n",
    "# set DeptID as index for departments\n",
    "departments.set_index('DeptID',inplace=True)\n",
    "\n",
    "# left join\n",
    "df_join = employees.join(departments, on = 'DeptID', how = 'left')\n",
    "\n",
    "print(df_join)"
   ]
  },
  {
   "cell_type": "markdown",
   "id": "c7ef7cec-b389-4b57-b769-a0a03adf7b39",
   "metadata": {},
   "source": [
    "## Right Join\n",
    "A right join is the opposite of a left join. It returns a new data frame that contains all rows from the right data frame and the matched rows from the left data frame.\n",
    "\n",
    "If values are not found in the left dataframe, it fills the space with `NaN`. For example,"
   ]
  },
  {
   "cell_type": "code",
   "execution_count": 6,
   "id": "69b82e50-ba18-40cd-83c5-96ebcdebc97c",
   "metadata": {},
   "outputs": [
    {
     "name": "stdout",
     "output_type": "stream",
     "text": [
      "  EmployeeID         Name DeptID   DeptName\n",
      "0       E001     John Doe   D001      Sales\n",
      "1       E003  Peter Brown   D001      Sales\n",
      "2       E004  Tom Johnson   D002         HR\n",
      "3       E002   Jane Smith   D003      Admin\n",
      "4        NaN          NaN   D004  Marketing\n"
     ]
    }
   ],
   "source": [
    "import pandas as pd\n",
    "\n",
    "# create dataframes from the dictionaries\n",
    "data1 = {\n",
    "    'EmployeeID' : ['E001', 'E002', 'E003', 'E004', 'E005'],\n",
    "    'Name' : ['John Doe', 'Jane Smith', 'Peter Brown', 'Tom Johnson', 'Rita Patel'],\n",
    "    'DeptID': ['D001', 'D003', 'D001', 'D002', 'D005'],\n",
    "}\n",
    "employees = pd.DataFrame(data1)\n",
    "\n",
    "data2 = {\n",
    "    'DeptID': ['D001', 'D002', 'D003','D004'],\n",
    "    'DeptName': ['Sales', 'HR', 'Admin', 'Marketing']\n",
    "}\n",
    "departments = pd.DataFrame(data2)\n",
    "\n",
    "# set DeptID as index for departments\n",
    "departments.set_index('DeptID', inplace=True)\n",
    "\n",
    "# right join\n",
    "df_join = employees.join(departments, on = 'DeptID', how = 'right')\n",
    "\n",
    "# reset index\n",
    "df_join.reset_index(drop=True, inplace=True)\n",
    "\n",
    "print(df_join)"
   ]
  },
  {
   "cell_type": "markdown",
   "id": "a87d83bd-d387-4cb8-ab7c-b15437947f53",
   "metadata": {},
   "source": [
    "## Inner Join\n",
    "An inner join combines two data frames based on a common key and returns a new data frame that contains only rows that have matching values in both of the original data frames.\n",
    "\n",
    "For example,"
   ]
  },
  {
   "cell_type": "code",
   "execution_count": 7,
   "id": "9abe7301-2ce2-40c5-8dcb-f0782b9eb4e0",
   "metadata": {},
   "outputs": [
    {
     "name": "stdout",
     "output_type": "stream",
     "text": [
      "  EmployeeID         Name DeptID DeptName\n",
      "0       E001     John Doe   D001    Sales\n",
      "1       E003  Peter Brown   D001    Sales\n",
      "2       E002   Jane Smith   D003    Admin\n",
      "3       E004  Tom Johnson   D002       HR\n"
     ]
    }
   ],
   "source": [
    "import pandas as pd\n",
    "\n",
    "# create dataframes from the dictionaries\n",
    "data1 = {\n",
    "    'EmployeeID' : ['E001', 'E002', 'E003', 'E004', 'E005'],\n",
    "    'Name' : ['John Doe', 'Jane Smith', 'Peter Brown', 'Tom Johnson', 'Rita Patel'],\n",
    "    'DeptID': ['D001', 'D003', 'D001', 'D002', 'D005'],\n",
    "}\n",
    "employees = pd.DataFrame(data1)\n",
    "\n",
    "data2 = {\n",
    "    'DeptID': ['D001', 'D002', 'D003','D004'],\n",
    "    'DeptName': ['Sales', 'HR', 'Admin', 'Marketing']\n",
    "}\n",
    "departments = pd.DataFrame(data2)\n",
    "\n",
    "# set DeptID as index for departments\n",
    "departments.set_index('DeptID',inplace=True)\n",
    "\n",
    "# inner join\n",
    "df_join = employees.join(departments, on = 'DeptID', how = 'inner')\n",
    "\n",
    "# reset index\n",
    "df_join.reset_index(drop=True, inplace=True)\n",
    "\n",
    "print(df_join)"
   ]
  },
  {
   "cell_type": "markdown",
   "id": "713528f5-7440-41dc-852f-a022438c1121",
   "metadata": {},
   "source": [
    "## Outer Join\n",
    "An outer join combines two data frames based on a common key. Unlike an inner join, an outer join returns a new data frame that contains all rows from both original data frames.\n",
    "\n",
    "If values are not found in the DataFrames, it fills the space with `NaN`. For example,"
   ]
  },
  {
   "cell_type": "code",
   "execution_count": 9,
   "id": "d48e87ad-3e3a-434d-8224-427718e721e3",
   "metadata": {},
   "outputs": [
    {
     "name": "stdout",
     "output_type": "stream",
     "text": [
      "  EmployeeID         Name DeptID   DeptName\n",
      "0       E001     John Doe   D001      Sales\n",
      "1       E003  Peter Brown   D001      Sales\n",
      "2       E002   Jane Smith   D003      Admin\n",
      "3       E004  Tom Johnson   D002         HR\n",
      "4       E005   Rita Patel   D005        NaN\n",
      "5        NaN          NaN   D004  Marketing\n"
     ]
    }
   ],
   "source": [
    "import pandas as pd\n",
    "\n",
    "# create dataframes from the dictionaries\n",
    "data1 = {\n",
    "    'EmployeeID' : ['E001', 'E002', 'E003', 'E004', 'E005'],\n",
    "    'Name' : ['John Doe', 'Jane Smith', 'Peter Brown', 'Tom Johnson', 'Rita Patel'],\n",
    "    'DeptID': ['D001', 'D003', 'D001', 'D002', 'D005'],\n",
    "}\n",
    "employees = pd.DataFrame(data1)\n",
    "\n",
    "data2 = {\n",
    "    'DeptID': ['D001', 'D002', 'D003','D004'],\n",
    "    'DeptName': ['Sales', 'HR', 'Admin', 'Marketing']\n",
    "}\n",
    "departments = pd.DataFrame(data2)\n",
    "\n",
    "# set DeptID as index for departments\n",
    "departments.set_index('DeptID',inplace=True)\n",
    "\n",
    "# outer join\n",
    "df_join = employees.join(departments, on = 'DeptID', how = 'outer')\n",
    "\n",
    "# reset index\n",
    "df_join.reset_index(drop=True, inplace=True)\n",
    "\n",
    "print(df_join)"
   ]
  },
  {
   "cell_type": "markdown",
   "id": "88f75a1d-4067-4bd0-994a-7170ba5a5e63",
   "metadata": {},
   "source": [
    "## Cross Join\n",
    "A cross join in Pandas creates the cartesian product of both DataFrames while preserving the order of the left DataFrame.\n",
    "\n",
    "For example,"
   ]
  },
  {
   "cell_type": "code",
   "execution_count": 10,
   "id": "49aa5d7a-cf43-49a9-af3b-ad1ce4b68588",
   "metadata": {},
   "outputs": [
    {
     "name": "stdout",
     "output_type": "stream",
     "text": [
      "   EmployeeID         Name DeptID   DeptName\n",
      "0        E001     John Doe   D001      Sales\n",
      "1        E001     John Doe   D001         HR\n",
      "2        E001     John Doe   D001      Admin\n",
      "3        E001     John Doe   D001  Marketing\n",
      "4        E002   Jane Smith   D003      Sales\n",
      "5        E002   Jane Smith   D003         HR\n",
      "6        E002   Jane Smith   D003      Admin\n",
      "7        E002   Jane Smith   D003  Marketing\n",
      "8        E003  Peter Brown   D001      Sales\n",
      "9        E003  Peter Brown   D001         HR\n",
      "10       E003  Peter Brown   D001      Admin\n",
      "11       E003  Peter Brown   D001  Marketing\n",
      "12       E004  Tom Johnson   D002      Sales\n",
      "13       E004  Tom Johnson   D002         HR\n",
      "14       E004  Tom Johnson   D002      Admin\n",
      "15       E004  Tom Johnson   D002  Marketing\n",
      "16       E005   Rita Patel   D005      Sales\n",
      "17       E005   Rita Patel   D005         HR\n",
      "18       E005   Rita Patel   D005      Admin\n",
      "19       E005   Rita Patel   D005  Marketing\n"
     ]
    }
   ],
   "source": [
    "import pandas as pd\n",
    "\n",
    "# create dataframes from the dictionaries\n",
    "data1 = {\n",
    "    'EmployeeID' : ['E001', 'E002', 'E003', 'E004', 'E005'],\n",
    "    'Name' : ['John Doe', 'Jane Smith', 'Peter Brown', 'Tom Johnson', 'Rita Patel'],\n",
    "    'DeptID': ['D001', 'D003', 'D001', 'D002', 'D005'],\n",
    "}\n",
    "employees = pd.DataFrame(data1)\n",
    "\n",
    "data2 = {\n",
    "    'DeptID': ['D001', 'D002', 'D003','D004'],\n",
    "    'DeptName': ['Sales', 'HR', 'Admin', 'Marketing']\n",
    "}\n",
    "departments = pd.DataFrame(data2)\n",
    "\n",
    "# set DeptID as index for departments\n",
    "departments.set_index('DeptID',inplace=True)\n",
    "\n",
    "# cross join\n",
    "df_join = employees.join(departments, how = 'cross')\n",
    "\n",
    "print(df_join)"
   ]
  },
  {
   "cell_type": "markdown",
   "id": "23846b82-74cd-41fc-9edc-f86642caf28c",
   "metadata": {},
   "source": [
    "## Join vs Merge vs Concat\n",
    "There are three different methods to combine DataFrames in Pandas:\n",
    "\n",
    "`join()`: joins two DataFrames based on their indexes, performs left join by default\n",
    "`merge()`: joins two DataFrames based on any specified columns, performs inner join by default\n",
    "`concat()`: stacks two DataFrames along the vertical or horizontal axis"
   ]
  },
  {
   "cell_type": "code",
   "execution_count": null,
   "id": "e0509b3c-a428-4bf4-abc7-4affbe2dd2dd",
   "metadata": {},
   "outputs": [],
   "source": []
  }
 ],
 "metadata": {
  "kernelspec": {
   "display_name": "Python 3 (ipykernel)",
   "language": "python",
   "name": "python3"
  },
  "language_info": {
   "codemirror_mode": {
    "name": "ipython",
    "version": 3
   },
   "file_extension": ".py",
   "mimetype": "text/x-python",
   "name": "python",
   "nbconvert_exporter": "python",
   "pygments_lexer": "ipython3",
   "version": "3.9.1"
  }
 },
 "nbformat": 4,
 "nbformat_minor": 5
}
