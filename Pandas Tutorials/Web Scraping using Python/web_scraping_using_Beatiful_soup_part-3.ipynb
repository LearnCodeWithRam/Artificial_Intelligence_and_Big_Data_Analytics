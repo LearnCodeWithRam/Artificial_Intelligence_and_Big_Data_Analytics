{
 "cells": [
  {
   "cell_type": "code",
   "execution_count": 1,
   "id": "d8130ea4-46fd-4e6e-95f7-bdeb8f83f707",
   "metadata": {},
   "outputs": [],
   "source": [
    "from bs4 import BeautifulSoup\n",
    "import requests"
   ]
  },
  {
   "cell_type": "code",
   "execution_count": 2,
   "id": "aa623d2d-7020-47c3-8e99-5af82111f0da",
   "metadata": {},
   "outputs": [],
   "source": [
    "html_page = requests.get('http://books.toscrape.com/')\n",
    "soup = BeautifulSoup(html_page.content, 'html.parser')\n",
    "warning = soup.find('div', class_=\"alert alert-warning\")\n",
    "book_container = warning.nextSibling.nextSibling"
   ]
  },
  {
   "cell_type": "code",
   "execution_count": 3,
   "id": "889f2d84-52f6-4b58-91cd-f3b5fcc5cd06",
   "metadata": {},
   "outputs": [
    {
     "data": {
      "text/plain": [
       "<img alt=\"A Light in the Attic\" class=\"thumbnail\" src=\"media/cache/2c/da/2cdad67c44b002e7ead0cc35693c0e8b.jpg\"/>"
      ]
     },
     "execution_count": 3,
     "metadata": {},
     "output_type": "execute_result"
    }
   ],
   "source": [
    "images = book_container.findAll('img')\n",
    "example = images[0]\n",
    "example"
   ]
  },
  {
   "cell_type": "code",
   "execution_count": null,
   "id": "8f9df572-5cab-4611-af3a-93feeb45b8b0",
   "metadata": {},
   "outputs": [],
   "source": [
    "example.attrs['src']"
   ]
  },
  {
   "cell_type": "code",
   "execution_count": 5,
   "id": "c675a97b-1e40-401a-8c7d-13af49d37fed",
   "metadata": {},
   "outputs": [
    {
     "ename": "NameError",
     "evalue": "name 'shutil' is not defined",
     "output_type": "error",
     "traceback": [
      "\u001b[1;31m---------------------------------------------------------------------------\u001b[0m",
      "\u001b[1;31mNameError\u001b[0m                                 Traceback (most recent call last)",
      "Cell \u001b[1;32mIn[5], line 8\u001b[0m\n\u001b[0;32m      6\u001b[0m \u001b[38;5;28;01mwith\u001b[39;00m \u001b[38;5;28mopen\u001b[39m(\u001b[38;5;124m\"\u001b[39m\u001b[38;5;124mimages/book1.jpg\u001b[39m\u001b[38;5;124m\"\u001b[39m, \u001b[38;5;124m'\u001b[39m\u001b[38;5;124mwb\u001b[39m\u001b[38;5;124m'\u001b[39m) \u001b[38;5;28;01mas\u001b[39;00m f: \n\u001b[0;32m      7\u001b[0m    r\u001b[38;5;241m.\u001b[39mraw\u001b[38;5;241m.\u001b[39mdecode_content \u001b[38;5;241m=\u001b[39m \u001b[38;5;28;01mTrue\u001b[39;00m\n\u001b[1;32m----> 8\u001b[0m    \u001b[43mshutil\u001b[49m\u001b[38;5;241m.\u001b[39mcopyfileobj(r\u001b[38;5;241m.\u001b[39mraw, f)\n",
      "\u001b[1;31mNameError\u001b[0m: name 'shutil' is not defined"
     ]
    }
   ],
   "source": [
    "url_base = \"http://books.toscrape.com/\" #Original website\n",
    "url_ext = example.attrs['src'] #The extension you pulled earlier\n",
    "full_url = url_base + url_ext #Combining first 2 variables to create       a complete URL\n",
    "r = requests.get(full_url, stream=True) #Get request on full_url\n",
    "if r.status_code == 200:                     #200 status code = OK\n",
    "   with open(\"images/book1.jpg\", 'wb') as f: \n",
    "      r.raw.decode_content = True\n",
    "      shutil.copyfileobj(r.raw, f)"
   ]
  },
  {
   "cell_type": "code",
   "execution_count": 6,
   "id": "82dff8da-014f-40d8-882e-210501c4141e",
   "metadata": {},
   "outputs": [],
   "source": [
    "import matplotlib.pyplot as plt\n",
    "import matplotlib.image as mpim"
   ]
  },
  {
   "cell_type": "code",
   "execution_count": 7,
   "id": "64137498-2bc4-4c80-aab7-0759d1b96bef",
   "metadata": {},
   "outputs": [
    {
     "ename": "NameError",
     "evalue": "name 'mpimg' is not defined",
     "output_type": "error",
     "traceback": [
      "\u001b[1;31m---------------------------------------------------------------------------\u001b[0m",
      "\u001b[1;31mNameError\u001b[0m                                 Traceback (most recent call last)",
      "Cell \u001b[1;32mIn[7], line 1\u001b[0m\n\u001b[1;32m----> 1\u001b[0m img \u001b[38;5;241m=\u001b[39m \u001b[43mmpimg\u001b[49m\u001b[38;5;241m.\u001b[39mimread(\u001b[38;5;124m'\u001b[39m\u001b[38;5;124mimages/book1.jpg\u001b[39m\u001b[38;5;124m'\u001b[39m)\n\u001b[0;32m      2\u001b[0m imgplot \u001b[38;5;241m=\u001b[39m plt\u001b[38;5;241m.\u001b[39mimshow(img)\n\u001b[0;32m      3\u001b[0m plt\u001b[38;5;241m.\u001b[39mshow()\n",
      "\u001b[1;31mNameError\u001b[0m: name 'mpimg' is not defined"
     ]
    }
   ],
   "source": [
    "img = mpimg.imread('images/book1.jpg')\n",
    "imgplot = plt.imshow(img)\n",
    "plt.show()"
   ]
  },
  {
   "cell_type": "code",
   "execution_count": null,
   "id": "106cd3ad-c221-41e8-8bb0-d1c2f7ffdbbe",
   "metadata": {},
   "outputs": [],
   "source": [
    "import pandas as pd\n",
    "from IPython.display import Image, HTML\n",
    "row_1 = [example.attrs['alt'], '<img src=\"images/book1.jpg\"/>']\n",
    "df = pd.DataFrame(row_1).transpose()\n",
    "df.columns = ['Title', 'Cover']\n",
    "HTML(df.to_html(escape=False))"
   ]
  }
 ],
 "metadata": {
  "kernelspec": {
   "display_name": "Python 3 (ipykernel)",
   "language": "python",
   "name": "python3"
  },
  "language_info": {
   "codemirror_mode": {
    "name": "ipython",
    "version": 3
   },
   "file_extension": ".py",
   "mimetype": "text/x-python",
   "name": "python",
   "nbconvert_exporter": "python",
   "pygments_lexer": "ipython3",
   "version": "3.9.1"
  }
 },
 "nbformat": 4,
 "nbformat_minor": 5
}
