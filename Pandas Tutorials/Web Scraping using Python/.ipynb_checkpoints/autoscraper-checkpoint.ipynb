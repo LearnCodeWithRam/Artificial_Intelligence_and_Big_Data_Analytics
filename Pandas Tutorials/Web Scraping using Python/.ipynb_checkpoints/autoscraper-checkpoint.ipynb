{
 "cells": [
  {
   "cell_type": "code",
   "execution_count": 1,
   "id": "0f8d5980-7b25-4b2b-b391-23bb78f0d469",
   "metadata": {},
   "outputs": [
    {
     "name": "stdout",
     "output_type": "stream",
     "text": [
      "Collecting autoscraper\n",
      "  Downloading autoscraper-1.1.14-py3-none-any.whl.metadata (5.3 kB)\n",
      "Requirement already satisfied: requests in c:\\users\\rmnjs\\appdata\\local\\programs\\python\\python39\\lib\\site-packages (from autoscraper) (2.31.0)\n",
      "Requirement already satisfied: bs4 in c:\\users\\rmnjs\\appdata\\local\\programs\\python\\python39\\lib\\site-packages (from autoscraper) (0.0.2)\n",
      "Requirement already satisfied: lxml in c:\\users\\rmnjs\\appdata\\local\\programs\\python\\python39\\lib\\site-packages (from autoscraper) (4.9.3)\n",
      "Requirement already satisfied: beautifulsoup4 in c:\\users\\rmnjs\\appdata\\local\\programs\\python\\python39\\lib\\site-packages (from bs4->autoscraper) (4.12.3)\n",
      "Requirement already satisfied: charset-normalizer<4,>=2 in c:\\users\\rmnjs\\appdata\\local\\programs\\python\\python39\\lib\\site-packages (from requests->autoscraper) (2.1.1)\n",
      "Requirement already satisfied: idna<4,>=2.5 in c:\\users\\rmnjs\\appdata\\local\\programs\\python\\python39\\lib\\site-packages (from requests->autoscraper) (3.4)\n",
      "Requirement already satisfied: urllib3<3,>=1.21.1 in c:\\users\\rmnjs\\appdata\\local\\programs\\python\\python39\\lib\\site-packages (from requests->autoscraper) (1.26.16)\n",
      "Requirement already satisfied: certifi>=2017.4.17 in c:\\users\\rmnjs\\appdata\\local\\programs\\python\\python39\\lib\\site-packages (from requests->autoscraper) (2023.7.22)\n",
      "Requirement already satisfied: soupsieve>1.2 in c:\\users\\rmnjs\\appdata\\local\\programs\\python\\python39\\lib\\site-packages (from beautifulsoup4->bs4->autoscraper) (2.5)\n",
      "Downloading autoscraper-1.1.14-py3-none-any.whl (10 kB)\n",
      "Installing collected packages: autoscraper\n",
      "Successfully installed autoscraper-1.1.14\n"
     ]
    }
   ],
   "source": [
    "!pip install autoscraper"
   ]
  },
  {
   "cell_type": "code",
   "execution_count": 5,
   "id": "d0eb2b55-b09c-4184-8180-a849d01c6923",
   "metadata": {},
   "outputs": [
    {
     "name": "stdout",
     "output_type": "stream",
     "text": [
      "[]\n"
     ]
    }
   ],
   "source": [
    "from autoscraper import AutoScraper\n",
    "\n",
    "url = 'https://www.iitmandi.ac.in'\n",
    "\n",
    "# We can add one or multiple candidates here.\n",
    "# You can also put urls here to retrieve urls.\n",
    "wanted_list = [\"school of chemical science\"]\n",
    "\n",
    "scraper = AutoScraper()\n",
    "result = scraper.build(url, wanted_list)\n",
    "print(result)"
   ]
  },
  {
   "cell_type": "code",
   "execution_count": 6,
   "id": "e669404e-d290-41bc-b800-47ea2b348abc",
   "metadata": {},
   "outputs": [
    {
     "name": "stdout",
     "output_type": "stream",
     "text": [
      "['What does the \"yield\" keyword do in Python?', 'Does Python have a ternary conditional operator?', 'What are metaclasses in Python?', 'How do I merge two dictionaries in a single expression in Python?', 'How slicing in Python works', 'Relative imports for the billionth time', 'What is the difference between @staticmethod and @classmethod in Python?', \"What does the 'b' character do in front of a string literal?\"]\n"
     ]
    }
   ],
   "source": [
    "from autoscraper import AutoScraper\n",
    "\n",
    "url = 'https://stackoverflow.com/questions/2081586/web-scraping-with-python'\n",
    "wanted_list = [\"What are metaclasses in Python?\"]\n",
    "\n",
    "scraper = AutoScraper()\n",
    "result = scraper.build(url, wanted_list)\n",
    "print(result)\n"
   ]
  },
  {
   "cell_type": "code",
   "execution_count": 7,
   "id": "5d6d6f57-0201-4733-9068-a6431a32f52a",
   "metadata": {},
   "outputs": [
    {
     "name": "stdout",
     "output_type": "stream",
     "text": [
      "['Convert Strings as Bytes to String', 'conversion of bytes to string', 'How do you convert string to bytes', 'Convert string to bytes literally', 'How do I convert a string into a string of bytes in python 2.7', 'Convert bytes to string in python 3.6', 'How to Turn string into bytes?', 'Converting a string to a bytes object as is', 'Python convert string to bytes', 'Convert bytes object to string object in python']\n"
     ]
    }
   ],
   "source": [
    "similar_results = scraper.get_result_similar('https://stackoverflow.com/questions/606191/convert-bytes-to-a-string')\n",
    "print(similar_results)\n"
   ]
  },
  {
   "cell_type": "code",
   "execution_count": null,
   "id": "a9e2f732-0192-4ec0-bcb4-d8aabe7b9bc6",
   "metadata": {},
   "outputs": [],
   "source": []
  }
 ],
 "metadata": {
  "kernelspec": {
   "display_name": "Python 3 (ipykernel)",
   "language": "python",
   "name": "python3"
  },
  "language_info": {
   "codemirror_mode": {
    "name": "ipython",
    "version": 3
   },
   "file_extension": ".py",
   "mimetype": "text/x-python",
   "name": "python",
   "nbconvert_exporter": "python",
   "pygments_lexer": "ipython3",
   "version": "3.9.1"
  }
 },
 "nbformat": 4,
 "nbformat_minor": 5
}
