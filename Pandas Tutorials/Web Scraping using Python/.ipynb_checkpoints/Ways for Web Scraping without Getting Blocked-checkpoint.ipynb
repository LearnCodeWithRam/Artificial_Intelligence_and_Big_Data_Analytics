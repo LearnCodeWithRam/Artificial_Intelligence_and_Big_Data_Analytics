{
 "cells": [
  {
   "cell_type": "markdown",
   "id": "398db6c9-51eb-4516-ae52-339b40d1fa7e",
   "metadata": {},
   "source": [
    "# Types of Techniques to Avoid Getting Blocked"
   ]
  },
  {
   "cell_type": "markdown",
   "id": "6256c962-94ba-4750-a301-bb3a4cd86950",
   "metadata": {},
   "source": [
    "make your scraper undetectable to be able to extract data from a webpage, and the main types of **techniques for that are imitating a real browser and simulating human behavior**."
   ]
  },
  {
   "cell_type": "markdown",
   "id": "4885c1da-beb2-41a4-9a46-e5303463fca4",
   "metadata": {},
   "source": [
    "### 1. Set Real Request Headers"
   ]
  },
  {
   "cell_type": "markdown",
   "id": "d34c0647-2e9a-47fd-bcef-41b060cc4f07",
   "metadata": {},
   "source": [
    "As we mentioned, your scraper activity should look as similar as possible to a regular user browsing the target website. Web browsers usually send a lot of information that HTTP clients or libraries don’t."
   ]
  },
  {
   "cell_type": "markdown",
   "id": "d2758476-8537-4386-bddd-f410e208929d",
   "metadata": {},
   "source": [
    "One of the most important headers for web scraping is `User-Agent`. That string informs the server about the operating system, vendor, and version of the requesting User-Agent.\n",
    "\n",
    "Then, set these headers using your preferred library so the target website thinks your web scraper is a regular web browser."
   ]
  },
  {
   "cell_type": "markdown",
   "id": "93d2fb5b-28bd-4bd9-bca2-ec0506cfeb8e",
   "metadata": {},
   "source": [
    "## What Is a User Agent?\n",
    "\n",
    "**User Agent (UA)** is a string sent by the user's web browser to a server. It's located in the HTTP header and identifies the browser type and version as well as the operating system.\n",
    "\n",
    "- Accessed with JavaScript on the client side using the `navigator.userAgent` property.\n",
    "- The remote web server uses this information to identify and render the content in a way that's compatible with the user's specifications.\n",
    "\n",
    "### Formate of UA:\n",
    "\n",
    "`Mozilla/5.0 (<system-information>) <platform> (<platform-details>) <extensions>`\n",
    "\n",
    "#### Example: Execute JavaScript to get the user agent\n",
    "```python\n",
    "user_agent = driver.execute_script(\"return navigator.userAgent;\")\n",
    "print(f\"User-Agent: {user_agent}\")\n",
    " **or**\n",
    "response = requests.get(url)\n",
    "user_agent = response.json().get('user-agent')\n"
   ]
  },
  {
   "cell_type": "markdown",
   "id": "de9c42d7-0d0e-4922-83b6-3a152c2dbdb9",
   "metadata": {},
   "source": [
    "### Why Is a User Agent Important for Web Scraping?\n",
    "Since UA strings help web servers identify the type of browser (and bots) requests, adopting them for scraping can help mask your spider as a web browser."
   ]
  },
  {
   "cell_type": "markdown",
   "id": "bc376d70-6fa2-4499-b601-4e3effdfc890",
   "metadata": {},
   "source": [
    "## What Are the Best User Agents for Scraping?\n",
    "\n",
    "We compiled a list of the best ones to use while scraping. They can help you emulate a browser and avoid getting blocked:\n",
    "\n",
    "- Mozilla/5.0 (Windows NT 10.0; Win64; x64) AppleWebKit/537.36 (KHTML, like Gecko) Chrome/123.0.0.0 Safari/537.36\n",
    "- Mozilla/5.0 (Windows NT 10.0; Win64; x64; rv:124.0) Gecko/20100101 Firefox/124.0\n",
    "- Mozilla/5.0 (Windows NT 10.0; Win64; x64) AppleWebKit/537.36 (KHTML, like Gecko) Chrome/123.0.0.0 Safari/537.36 Edg/123.0.2420.81\n",
    "- Mozilla/5.0 (Windows NT 10.0; Win64; x64) AppleWebKit/537.36 (KHTML, like Gecko) Chrome/123.0.0.0 Safari/537.36 OPR/109.0.0.0\n",
    "- Mozilla/5.0 (Macintosh; Intel Mac OS X 10_15_7) AppleWebKit/537.36 (KHTML, like Gecko) Chrome/123.0.0.0 Safari/537.36\n",
    "- Mozilla/5.0 (Macintosh; Intel Mac OS X 14.4; rv:124.0) Gecko/20100101 Firefox/124.0\n",
    "- Mozilla/5.0 (Macintosh; Intel Mac OS X 14_4_1) AppleWebKit/605.1.15 (KHTML, like Gecko) Version/17.4.1 Safari/605.1.15\n",
    "- Mozilla/5.0 (Macintosh; Intel Mac OS X 14_4_1) AppleWebKit/537.36 (KHTML, like Gecko) Chrome/123.0.0.0 Safari/537.36 OPR/109.0.0.0\n",
    "- Mozilla/5.0 (X11; Linux x86_64) AppleWebKit/537.36 (KHTML, like Gecko) Chrome/123.0.0.0 Safari/537.36\n",
    "- Mozilla/5.0 (X11; Linux i686; rv:124.0) Gecko/20100101 Firefox/124.0\n",
    "\n",
    "## How to Check User Agents and Understand Them\n",
    "\n",
    "The easiest way to do so is to visit [UserAgentString.com](https://useragentstring.com/). It automatically displays the user agent for your web browsing environment. You can also get comprehensive information on other user agents. You just have to copy/paste any string in the input field and click on ''Analyze.''\n"
   ]
  },
  {
   "cell_type": "markdown",
   "id": "9e945a57-9122-4f97-8839-d01555128e4e",
   "metadata": {},
   "source": [
    "### How to Set a New User Agent Header in Python?\n",
    "Let's run a quick example of changing a scraper user agent using Python requests. We'll use a string associated with Chrome:\n",
    "\n",
    "`Mozilla/5.0 (Windows NT 10.0; WOW64) AppleWebKit/537.36 (KHTML, like Gecko) Chrome/109.0.0.0 Safari/537.36`\n",
    "\n",
    "Use the following code snippet to set the `User-Agent` header while sending the request:"
   ]
  },
  {
   "cell_type": "markdown",
   "id": "131e17ce-bc28-4787-a32f-eff0188753cc",
   "metadata": {},
   "source": [
    "#### To test your request header, you should use an endpoint like HTTPBin, which is specifically designed for testing HTTP requests and responses."
   ]
  },
  {
   "cell_type": "code",
   "execution_count": 6,
   "id": "42a78d8f-140f-41d2-8b72-2a376c7f0044",
   "metadata": {},
   "outputs": [
    {
     "name": "stdout",
     "output_type": "stream",
     "text": [
      "{\n",
      "  \"user-agent\": \"Mozilla/5.0 (Windows NT 10.0; Win64; x64) AppleWebKit/537.36 (KHTML, like Gecko) Chrome/126.0.0.0 Safari/537.36\"\n",
      "}\n"
     ]
    }
   ],
   "source": [
    "# pip3 install selenium\n",
    "from selenium import webdriver\n",
    "from selenium.webdriver.chrome.options import Options\n",
    "from selenium.webdriver.common.by import By\n",
    "\n",
    "# ...\n",
    "\n",
    "# create a Chrome Options instance\n",
    "options = Options()\n",
    "options.add_argument(\"--headless=new\")\n",
    "\n",
    "# set a custom User Agent\n",
    "custom_user_agent = \"Mozilla/5.0 (Windows NT 10.0; Win64; x64) AppleWebKit/537.36 (KHTML, like Gecko) Chrome/126.0.0.0 Safari/537.36\"\n",
    "options.add_argument(f\"user-agent={custom_user_agent}\")\n",
    "\n",
    "# Start the WebDriver instance with the options\n",
    "driver = webdriver.Chrome(options=options)\n",
    "\n",
    "# open the target website\n",
    "driver.get(\"https://httpbin.io/user-agent\")\n",
    "\n",
    "# print the User Agent to verify\n",
    "print(driver.find_element(By.TAG_NAME, \"body\").text)\n",
    "\n",
    "# release the allocated resources\n",
    "driver.quit()\n"
   ]
  },
  {
   "cell_type": "markdown",
   "id": "c6fdf559-f695-4a26-b7e3-e22c2712d594",
   "metadata": {},
   "source": [
    "## Rotate User Agents"
   ]
  },
  {
   "cell_type": "code",
   "execution_count": 8,
   "id": "1062095b-9916-45f0-9cfc-afbeff4ac823",
   "metadata": {},
   "outputs": [
    {
     "name": "stdout",
     "output_type": "stream",
     "text": [
      "{\n",
      "  \"user-agent\": \"Mozilla/5.0 (Macintosh; Intel Mac OS X 14.4; rv:124.0) Gecko/20100101 Firefox/124.0\"\n",
      "}\n"
     ]
    }
   ],
   "source": [
    "import random\n",
    "\n",
    "from selenium import webdriver\n",
    "\n",
    "from selenium.webdriver.chrome.options import Options\n",
    "\n",
    "from selenium.webdriver.common.by import By\n",
    "\n",
    "\n",
    "\n",
    "# list of User Agent strings\n",
    "\n",
    "user_agents = [\n",
    "    \"Mozilla/5.0 (X11; Linux x86_64) AppleWebKit/537.36 (KHTML, like Gecko) Chrome/123.0.0.0 Safari/537.36\",\n",
    "    \"Mozilla/5.0 (Macintosh; Intel Mac OS X 14.4; rv:124.0) Gecko/20100101 Firefox/124.0\",\n",
    "    \"Mozilla/5.0 (Windows NT 10.0; Win64; x64) AppleWebKit/537.36 (KHTML, like Gecko) Chrome/123.0.0.0 Safari/537.36\",\n",
    "]\n",
    "\n",
    "\n",
    "\n",
    "# create a Chrome Options instance\n",
    "\n",
    "options = Options()\n",
    "\n",
    "options.add_argument(\"--headless=new\")\n",
    "\n",
    "\n",
    "\n",
    "# set a random User Agent\n",
    "\n",
    "random_user_agent = random.choice(user_agents)\n",
    "\n",
    "options.add_argument(f\"user-agent={random_user_agent}\")\n",
    "\n",
    "\n",
    "\n",
    "# Start the WebDriver instance with the options\n",
    "\n",
    "driver = webdriver.Chrome(options=options)\n",
    "\n",
    "\n",
    "\n",
    "# open the target website\n",
    "\n",
    "driver.get(\"https://httpbin.io/user-agent\")\n",
    "\n",
    "\n",
    "\n",
    "# print the User Agent to verify\n",
    "\n",
    "print(driver.find_element(By.TAG_NAME, \"body\").text)\n",
    "\n",
    "\n",
    "\n",
    "# release the allocated resources\n",
    "\n",
    "driver.quit()\n",
    "\n"
   ]
  },
  {
   "cell_type": "code",
   "execution_count": 1,
   "id": "0fa89393-4a9b-4387-98d9-7a8cf0944e34",
   "metadata": {},
   "outputs": [
    {
     "name": "stdout",
     "output_type": "stream",
     "text": [
      "[{'Url': 'https://www.scrapingcourse.com/ecommerce/product/abominable-hoodie/', 'Image': 'https://www.scrapingcourse.com/ecommerce/wp-content/uploads/2024/03/mh09-blue_main.jpg', 'Name': 'Abominable Hoodie', 'Price': '$69.00'}, {'Url': 'https://www.scrapingcourse.com/ecommerce/product/adrienne-trek-jacket/', 'Image': 'https://www.scrapingcourse.com/ecommerce/wp-content/uploads/2024/03/wj08-gray_main.jpg', 'Name': 'Adrienne Trek Jacket', 'Price': '$57.00'}, {'Url': 'https://www.scrapingcourse.com/ecommerce/product/aeon-capri/', 'Image': 'https://www.scrapingcourse.com/ecommerce/wp-content/uploads/2024/03/wp07-black_main.jpg', 'Name': 'Aeon Capri', 'Price': '$48.00'}, {'Url': 'https://www.scrapingcourse.com/ecommerce/product/aero-daily-fitness-tee/', 'Image': 'https://www.scrapingcourse.com/ecommerce/wp-content/uploads/2024/03/ms01-blue_main.jpg', 'Name': 'Aero Daily Fitness Tee', 'Price': '$24.00'}, {'Url': 'https://www.scrapingcourse.com/ecommerce/product/aether-gym-pant/', 'Image': 'https://www.scrapingcourse.com/ecommerce/wp-content/uploads/2024/03/mp11-brown_main.jpg', 'Name': 'Aether Gym Pant', 'Price': '$74.00'}, {'Url': 'https://www.scrapingcourse.com/ecommerce/product/affirm-water-bottle/', 'Image': 'https://www.scrapingcourse.com/ecommerce/wp-content/uploads/2024/03/ug06-lb-0.jpg', 'Name': 'Affirm Water Bottle', 'Price': '$7.00'}, {'Url': 'https://www.scrapingcourse.com/ecommerce/product/aim-analog-watch/', 'Image': 'https://www.scrapingcourse.com/ecommerce/wp-content/uploads/2024/03/mg04-bk-0.jpg', 'Name': 'Aim Analog Watch', 'Price': '$45.00'}, {'Url': 'https://www.scrapingcourse.com/ecommerce/product/ajax-full-zip-sweatshirt/', 'Image': 'https://www.scrapingcourse.com/ecommerce/wp-content/uploads/2024/03/mh12-green_main.jpg', 'Name': 'Ajax Full-Zip Sweatshirt', 'Price': '$69.00'}, {'Url': 'https://www.scrapingcourse.com/ecommerce/product/ana-running-short/', 'Image': 'https://www.scrapingcourse.com/ecommerce/wp-content/uploads/2024/03/wsh10-black_main.jpg', 'Name': 'Ana Running Short', 'Price': '$40.00'}, {'Url': 'https://www.scrapingcourse.com/ecommerce/product/angel-light-running-short/', 'Image': 'https://www.scrapingcourse.com/ecommerce/wp-content/uploads/2024/03/wsh06-gray_main.jpg', 'Name': 'Angel Light Running Short', 'Price': '$42.00'}, {'Url': 'https://www.scrapingcourse.com/ecommerce/product/antonia-racer-tank/', 'Image': 'https://www.scrapingcourse.com/ecommerce/wp-content/uploads/2024/03/wt08-black_main.jpg', 'Name': 'Antonia Racer Tank', 'Price': '$34.00'}, {'Url': 'https://www.scrapingcourse.com/ecommerce/product/apollo-running-short/', 'Image': 'https://www.scrapingcourse.com/ecommerce/wp-content/uploads/2024/03/msh02-black_main.jpg', 'Name': 'Apollo Running Short', 'Price': '$32.50'}, {'Url': 'https://www.scrapingcourse.com/ecommerce/product/arcadio-gym-short/', 'Image': 'https://www.scrapingcourse.com/ecommerce/wp-content/uploads/2024/03/msh11-blue_main.jpg', 'Name': 'Arcadio Gym Short', 'Price': '$20.00'}, {'Url': 'https://www.scrapingcourse.com/ecommerce/product/argus-all-weather-tank/', 'Image': 'https://www.scrapingcourse.com/ecommerce/wp-content/uploads/2024/03/mt07-gray_main.jpg', 'Name': 'Argus All-Weather Tank', 'Price': '$22.00'}, {'Url': 'https://www.scrapingcourse.com/ecommerce/product/ariel-roll-sleeve-sweatshirt/', 'Image': 'https://www.scrapingcourse.com/ecommerce/wp-content/uploads/2024/03/wh09-purple_main.jpg', 'Name': 'Ariel Roll Sleeve Sweatshirt', 'Price': '$39.00'}, {'Url': 'https://www.scrapingcourse.com/ecommerce/product/artemis-running-short/', 'Image': 'https://www.scrapingcourse.com/ecommerce/wp-content/uploads/2024/03/wsh04-black_main.jpg', 'Name': 'Artemis Running Short', 'Price': '$45.00'}]\n",
      "Data has been written to products.csv\n"
     ]
    }
   ],
   "source": [
    "# import the required libraries\n",
    "from selenium import webdriver\n",
    "from selenium.webdriver.common.by import By\n",
    "from selenium.webdriver.chrome.options import Options\n",
    "import csv\n",
    "import random\n",
    "\n",
    "# list of user agents to rotate\n",
    "user_agents = [\n",
    "    \"Mozilla/5.0 (X11; Linux x86_64) AppleWebKit/537.36 (KHTML, like Gecko) Chrome/123.0.0.0 Safari/537.36\",\n",
    "    \"Mozilla/5.0 (Macintosh; Intel Mac OS X 14.4; rv:124.0) Gecko/20100101 Firefox/124.0\",\n",
    "    \"Mozilla/5.0 (Windows NT 10.0; Win64; x64) AppleWebKit/537.36 (KHTML, like Gecko) Chrome/123.0.0.0 Safari/537.36\",\n",
    "]\n",
    "\n",
    "# randomly select a user agent from the list\n",
    "random_user_agent = random.choice(user_agents)\n",
    "\n",
    "# create a Chrome Options instance\n",
    "options = Options()\n",
    "\n",
    "# set the user agent in the options\n",
    "options.add_argument(f\"user-agent={random_user_agent}\")\n",
    "\n",
    "# set the options to use Chrome in headless mode\n",
    "options.add_argument(\"--headless=new\")\n",
    "\n",
    "# initialize an instance of the chrome driver (browser) in headless mode\n",
    "driver = webdriver.Chrome(\n",
    "    options=options,\n",
    ")\n",
    "\n",
    "# visit your target site\n",
    "driver.get(\"https://www.scrapingcourse.com/ecommerce\")\n",
    "\n",
    "# extract all the product containers\n",
    "products = driver.find_elements(By.CSS_SELECTOR, \".product\")\n",
    "\n",
    "# declare an empty list to collect the extracted data\n",
    "extracted_products = []\n",
    "\n",
    "# loop through the product containers\n",
    "for product in products:\n",
    "\n",
    "    # extract the elements into a dictionary using the CSS selector\n",
    "    product_data = {\n",
    "        \"Url\": product.find_element(\n",
    "            By.CSS_SELECTOR, \".woocommerce-LoopProduct-link\"\n",
    "        ).get_attribute(\"href\"),\n",
    "        \"Image\": product.find_element(By.CSS_SELECTOR, \".product-image\").get_attribute(\n",
    "            \"src\"\n",
    "        ),\n",
    "        \"Name\": product.find_element(By.CSS_SELECTOR, \".product-name\").text,\n",
    "        \"Price\": product.find_element(By.CSS_SELECTOR, \".price\").text,\n",
    "    }\n",
    "\n",
    "    # append the extracted data to the extracted_product list\n",
    "    extracted_products.append(product_data)\n",
    "\n",
    "print(extracted_products)\n",
    "\n",
    "# specify the CSV file name\n",
    "csv_file = \"products.csv\"\n",
    "\n",
    "# write the extracted data to the CSV file\n",
    "with open(csv_file, mode=\"w\", newline=\"\", encoding=\"utf-8\") as file:\n",
    "    # write the headers\n",
    "    writer = csv.DictWriter(file, fieldnames=[\"Url\", \"Image\", \"Name\", \"Price\"])\n",
    "    writer.writeheader()\n",
    "    # write the rows\n",
    "    writer.writerows(extracted_products)\n",
    "\n",
    "# confirm that the data has been written to the CSV file\n",
    "print(f\"Data has been written to {csv_file}\")\n",
    "\n",
    "# release the resources allocated by Selenium and shut down the browser\n",
    "driver.quit()\n"
   ]
  },
  {
   "cell_type": "code",
   "execution_count": null,
   "id": "493aca41-ef66-454a-9255-53b16582e44c",
   "metadata": {},
   "outputs": [],
   "source": []
  }
 ],
 "metadata": {
  "kernelspec": {
   "display_name": "Python 3 (ipykernel)",
   "language": "python",
   "name": "python3"
  },
  "language_info": {
   "codemirror_mode": {
    "name": "ipython",
    "version": 3
   },
   "file_extension": ".py",
   "mimetype": "text/x-python",
   "name": "python",
   "nbconvert_exporter": "python",
   "pygments_lexer": "ipython3",
   "version": "3.9.1"
  }
 },
 "nbformat": 4,
 "nbformat_minor": 5
}
