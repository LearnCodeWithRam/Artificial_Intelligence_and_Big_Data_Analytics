{
 "cells": [
  {
   "cell_type": "markdown",
   "id": "30fb7492-d4a4-4fd3-9fd7-4388157577d7",
   "metadata": {},
   "source": [
    "# Pandas Merge\n",
    "The merge operation in Pandas merges two DataFrames based on their indexes or a specified column.\n",
    "\n",
    "The `merge()` in Pandas works similar to JOINs in SQL.\n",
    "\n",
    "Let's see an example."
   ]
  },
  {
   "cell_type": "code",
   "execution_count": 2,
   "id": "95f8372b-d434-4fe3-bfee-6180b77195e6",
   "metadata": {},
   "outputs": [
    {
     "name": "stdout",
     "output_type": "stream",
     "text": [
      "Employees:\n",
      "  EmployeeID         Name DeptID\n",
      "0       E001     John Doe   D001\n",
      "1       E002   Jane Smith   D003\n",
      "2       E003  Peter Brown   D001\n",
      "3       E004  Tom Johnson   D002\n",
      "4       E005   Rita Patel   D003\n",
      "\n",
      "Departments:\n",
      "  DeptID DeptName\n",
      "0   D001    Sales\n",
      "1   D002       HR\n",
      "2   D003    Admin\n",
      "\n",
      "Merged DataFrame:\n",
      "  EmployeeID         Name DeptID DeptName\n",
      "0       E001     John Doe   D001    Sales\n",
      "1       E003  Peter Brown   D001    Sales\n",
      "2       E002   Jane Smith   D003    Admin\n",
      "3       E005   Rita Patel   D003    Admin\n",
      "4       E004  Tom Johnson   D002       HR\n"
     ]
    }
   ],
   "source": [
    "import pandas as pd\n",
    "\n",
    "# create dataframes from the dictionaries\n",
    "data1 = {\n",
    "    'EmployeeID' : ['E001', 'E002', 'E003', 'E004', 'E005'],\n",
    "    'Name' : ['John Doe', 'Jane Smith', 'Peter Brown', 'Tom Johnson', 'Rita Patel'],\n",
    "    'DeptID': ['D001', 'D003', 'D001', 'D002', 'D003'],\n",
    "}\n",
    "employees = pd.DataFrame(data1)\n",
    "\n",
    "data2 = {\n",
    "    'DeptID': ['D001', 'D002', 'D003'],\n",
    "    'DeptName': ['Sales', 'HR', 'Admin']\n",
    "}\n",
    "departments = pd.DataFrame(data2)\n",
    "\n",
    "# merge dataframes employees and departments\n",
    "merged_df = pd.merge(employees, departments)\n",
    "\n",
    "# display DataFrames\n",
    "print(\"Employees:\")\n",
    "print(employees)\n",
    "print()\n",
    "print(\"Departments:\")\n",
    "print(departments)\n",
    "print()\n",
    "print(\"Merged DataFrame:\")\n",
    "print(merged_df)"
   ]
  },
  {
   "cell_type": "markdown",
   "id": "2bb542d4-2dfb-4136-94f5-6d05822ab8a8",
   "metadata": {},
   "source": [
    "In this example, we merged the DataFrames `employees` and `departments` using the `merge()` method.\n",
    "\n",
    "Notice that the two DataFrames are merged based on the `DeptID` column as it's common to both the DataFrames."
   ]
  },
  {
   "cell_type": "markdown",
   "id": "f174e10e-2195-45a7-97a1-6edc55765b03",
   "metadata": {},
   "source": [
    "## merge() Syntax in Pandas\n",
    "The syntax of the `merge()` method in Pandas is:"
   ]
  },
  {
   "cell_type": "markdown",
   "id": "10021f09-58bf-46b9-aaff-24b2d177287d",
   "metadata": {},
   "source": [
    "```python\n",
    "pd.merge(left, right, on=None, how='inner', left_on=None, right_on=None, sort=False)"
   ]
  },
  {
   "cell_type": "markdown",
   "id": "cb5eded5-c391-4637-a880-578526a37108",
   "metadata": {},
   "source": [
    "Here,\n",
    "\n",
    "- **`left`**: specifies the left DataFrame to be merged.\n",
    "- **`right`**: specifies the right DataFrame to be merged.\n",
    "- **`on` (optional)**: specifies column(s) to join on.\n",
    "- **`how` (optional)**: specifies the type of join to perform.\n",
    "- **`left_on` (optional)**: specifies column(s) from the left DataFrame to use as key(s) for merging.\n",
    "- **`right_on` (optional)**: specifies column(s) from the right DataFrame to use as key(s) for merging.\n",
    "- **`sort` (optional)**: if `True`, sort the result DataFrame by the join keys.\n"
   ]
  },
  {
   "cell_type": "markdown",
   "id": "dee03bec-d183-4dd7-9b99-738aa8bcce69",
   "metadata": {},
   "source": [
    "## Example:  Merge DataFrames Based on Keys\n",
    "When there are no common columns between two DataFrames, we can merge them by specifying the columns (as keys) in the `left_on` and `right_on` arguments. For example,"
   ]
  },
  {
   "cell_type": "code",
   "execution_count": 3,
   "id": "7532c014-d66d-4359-bd4c-ffa601b53843",
   "metadata": {},
   "outputs": [
    {
     "name": "stdout",
     "output_type": "stream",
     "text": [
      "  EmployeeID         Name DeptID1 DeptID2 DeptName\n",
      "0       E001     John Doe    D001    D001    Sales\n",
      "1       E003  Peter Brown    D001    D001    Sales\n",
      "2       E004  Tom Johnson    D002    D002       HR\n",
      "3       E002   Jane Smith    D003    D003    Admin\n"
     ]
    }
   ],
   "source": [
    "import pandas as pd\n",
    "\n",
    "# create dataframes from the dictionaries\n",
    "data1 = {\n",
    "    'EmployeeID': ['E001', 'E002', 'E003', 'E004', 'E005'],\n",
    "    'Name': ['John Doe', 'Jane Smith', 'Peter Brown', 'Tom Johnson', 'Rita Patel'],\n",
    "    'DeptID1': ['D001', 'D003', 'D001', 'D002', 'D006'],\n",
    "}\n",
    "employees = pd.DataFrame(data1)\n",
    "\n",
    "data2 = {\n",
    "    'DeptID2': ['D001', 'D002', 'D003', 'D004'],\n",
    "    'DeptName': ['Sales', 'HR', 'Admin', 'Marketing']\n",
    "}\n",
    "departments = pd.DataFrame(data2)\n",
    "\n",
    "# merge the dataframes\n",
    "df_merge = pd.merge(employees, departments, left_on='DeptID1', right_on = 'DeptID2', sort = True)\n",
    "\n",
    "print(df_merge)"
   ]
  },
  {
   "cell_type": "markdown",
   "id": "4d7b4cc6-1819-4a91-b9af-048f1aef251a",
   "metadata": {},
   "source": [
    "In the above example, we performed a merge operation on two DataFrames, `employees` and `departments`, using the `merge()` method with various arguments.\n",
    "\n",
    "Here, we used `DeptID1` and `DeptID2` as the key for merging the DataFrames. Then, we sorted the resulting DataFrame using `sort=True`.\n"
   ]
  },
  {
   "cell_type": "markdown",
   "id": "a610f357-0394-4669-afae-3ffb6d56d6e4",
   "metadata": {},
   "source": [
    "# Types of Join Operations in `merge()`\n",
    "\n",
    "So far, we've not defined how to merge the DataFrames, thus it defaults to an inner join.\n",
    "\n",
    "However, we can specify the join type in the `how` argument. Here are the 5 join types we can use in the `merge()` method:\n",
    "\n",
    "1. **Left Join**\n",
    "   - Includes all rows from the left DataFrame and matched rows from the right DataFrame. Rows from the right DataFrame that do not have a match will be filled with NaN values.\n",
    "\n",
    "2. **Right Join**\n",
    "   - Includes all rows from the right DataFrame and matched rows from the left DataFrame. Rows from the left DataFrame that do not have a match will be filled with NaN values.\n",
    "\n",
    "3. **Outer Join**\n",
    "   - Includes all rows from both DataFrames. Rows with no match will be filled with NaN values.\n",
    "\n",
    "4. **Inner Join (Default)**\n",
    "   - Includes only the rows that have matching values in both DataFrames.\n",
    "\n",
    "5. **Cross Join**\n",
    "   - Produces a Cartesian product of both DataFrames. Each row from the left DataFrame is paired with each row from the right DataFrame.\n",
    "\n"
   ]
  },
  {
   "cell_type": "markdown",
   "id": "5470c2cb-a964-4f4c-a487-9905f9cb69c1",
   "metadata": {},
   "source": [
    "### Left Join\n",
    "\n",
    "A left join combines two DataFrames based on a common key and returns a new DataFrame that contains all rows from the left DataFrame and the matched rows from the right DataFrame.\n",
    "\n",
    "If values are not found in the right DataFrame, it fills the space with `NaN`. For example:\n"
   ]
  },
  {
   "cell_type": "code",
   "execution_count": 4,
   "id": "1ec5b54d-023e-4b87-a19d-b381b1dd250e",
   "metadata": {},
   "outputs": [
    {
     "name": "stdout",
     "output_type": "stream",
     "text": [
      "  EmployeeID         Name DeptID DeptName\n",
      "0       E001     John Doe   D001    Sales\n",
      "1       E003  Peter Brown   D001    Sales\n",
      "2       E004  Tom Johnson   D002       HR\n",
      "3       E002   Jane Smith   D003    Admin\n",
      "4       E005   Rita Patel   D006      NaN\n"
     ]
    }
   ],
   "source": [
    "import pandas as pd\n",
    "\n",
    "# create dataframes from the dictionaries\n",
    "data1 = {\n",
    "    'EmployeeID': ['E001', 'E002', 'E003', 'E004', 'E005'],\n",
    "    'Name': ['John Doe', 'Jane Smith', 'Peter Brown', 'Tom Johnson', 'Rita Patel'],\n",
    "    'DeptID': ['D001', 'D003', 'D001', 'D002', 'D006'],\n",
    "}\n",
    "employees = pd.DataFrame(data1)\n",
    "\n",
    "data2 = {\n",
    "    'DeptID': ['D001', 'D002', 'D003', 'D004'],\n",
    "    'DeptName': ['Sales', 'HR', 'Admin', 'Marketing']\n",
    "}\n",
    "departments = pd.DataFrame(data2)\n",
    "\n",
    "# left merge the dataframes\n",
    "df_merge = pd.merge(employees, departments, on = 'DeptID', how = 'left', sort = True)\n",
    "\n",
    "print(df_merge)"
   ]
  },
  {
   "cell_type": "markdown",
   "id": "4c41096c-8f09-4f18-bfaf-97f37909818a",
   "metadata": {},
   "source": [
    "## Right Join\n",
    "A right join is the opposite of a left join. It returns a new DataFrame that contains all rows from the right DataFrame and the matched rows from the left DataFrame.\n",
    "\n",
    "If values are not found in the left dataframe, it fills the space with `NaN`. For example,"
   ]
  },
  {
   "cell_type": "code",
   "execution_count": 5,
   "id": "dda02862-7f70-49b6-bef2-8d54f8ab6a5d",
   "metadata": {},
   "outputs": [
    {
     "name": "stdout",
     "output_type": "stream",
     "text": [
      "  EmployeeID         Name DeptID   DeptName\n",
      "0       E001     John Doe   D001      Sales\n",
      "1       E003  Peter Brown   D001      Sales\n",
      "2       E004  Tom Johnson   D002         HR\n",
      "3       E002   Jane Smith   D003      Admin\n",
      "4        NaN          NaN   D004  Marketing\n"
     ]
    }
   ],
   "source": [
    "import pandas as pd\n",
    "\n",
    "# create dataframes from the dictionaries\n",
    "data1 = {\n",
    "    'EmployeeID': ['E001', 'E002', 'E003', 'E004', 'E005'],\n",
    "    'Name': ['John Doe', 'Jane Smith', 'Peter Brown', 'Tom Johnson', 'Rita Patel'],\n",
    "    'DeptID': ['D001', 'D003', 'D001', 'D002', 'D006'],\n",
    "}\n",
    "employees = pd.DataFrame(data1)\n",
    "\n",
    "data2 = {\n",
    "    'DeptID': ['D001', 'D002', 'D003', 'D004'],\n",
    "    'DeptName': ['Sales', 'HR', 'Admin', 'Marketing']\n",
    "}\n",
    "departments = pd.DataFrame(data2)\n",
    "\n",
    "# right merge the dataframes\n",
    "df_merge = pd.merge(employees, departments, on = 'DeptID', how = 'right', sort = True)\n",
    "\n",
    "print(df_merge)"
   ]
  },
  {
   "cell_type": "markdown",
   "id": "b5e635c6-31c8-4f68-bb5b-52b8f023fa75",
   "metadata": {},
   "source": [
    "## Inner Join\n",
    "An inner join combines two DataFrames based on a common key and returns a new DataFrame that contains only rows that have matching values in both of the original DataFrames.\n",
    "\n",
    "For example,"
   ]
  },
  {
   "cell_type": "code",
   "execution_count": 6,
   "id": "ead58218-84a5-4aa9-be5e-d1d64d998cea",
   "metadata": {},
   "outputs": [
    {
     "name": "stdout",
     "output_type": "stream",
     "text": [
      "  EmployeeID         Name DeptID DeptName\n",
      "0       E001     John Doe   D001    Sales\n",
      "1       E003  Peter Brown   D001    Sales\n",
      "2       E004  Tom Johnson   D002       HR\n",
      "3       E002   Jane Smith   D003    Admin\n"
     ]
    }
   ],
   "source": [
    "import pandas as pd\n",
    "\n",
    "# create dataframes from the dictionaries\n",
    "data1 = {\n",
    "    'EmployeeID': ['E001', 'E002', 'E003', 'E004', 'E005'],\n",
    "    'Name': ['John Doe', 'Jane Smith', 'Peter Brown', 'Tom Johnson', 'Rita Patel'],\n",
    "    'DeptID': ['D001', 'D003', 'D001', 'D002', 'D006'],\n",
    "}\n",
    "employees = pd.DataFrame(data1)\n",
    "\n",
    "data2 = {\n",
    "    'DeptID': ['D001', 'D002', 'D003', 'D004'],\n",
    "    'DeptName': ['Sales', 'HR', 'Admin', 'Marketing']\n",
    "}\n",
    "departments = pd.DataFrame(data2)\n",
    "\n",
    "# inner merge the dataframes\n",
    "df_merge = pd.merge(employees, departments, on = 'DeptID', how = 'inner', sort = True)\n",
    "\n",
    "print(df_merge)\n"
   ]
  },
  {
   "cell_type": "markdown",
   "id": "bff37be1-fb76-4b10-a68a-b206c2614177",
   "metadata": {},
   "source": [
    "## Outer Join\n",
    "An outer join combines two DataFrames based on a common key. Unlike an inner join, an outer join returns a new DataFrame that contains all rows from both original DataFrames.\n",
    "\n",
    "If values are not found in the DataFrames, it fills the space with `NaN`.\n",
    "\n",
    "For example,"
   ]
  },
  {
   "cell_type": "code",
   "execution_count": 7,
   "id": "aabaa485-1c09-44b0-ba2e-53daae853f8b",
   "metadata": {},
   "outputs": [
    {
     "name": "stdout",
     "output_type": "stream",
     "text": [
      "  EmployeeID         Name DeptID   DeptName\n",
      "0       E001     John Doe   D001      Sales\n",
      "1       E003  Peter Brown   D001      Sales\n",
      "2       E004  Tom Johnson   D002         HR\n",
      "3       E002   Jane Smith   D003      Admin\n",
      "4        NaN          NaN   D004  Marketing\n",
      "5       E005   Rita Patel   D006        NaN\n"
     ]
    }
   ],
   "source": [
    "import pandas as pd\n",
    "\n",
    "# create dataframes from the dictionaries\n",
    "data1 = {\n",
    "    'EmployeeID': ['E001', 'E002', 'E003', 'E004', 'E005'],\n",
    "    'Name': ['John Doe', 'Jane Smith', 'Peter Brown', 'Tom Johnson', 'Rita Patel'],\n",
    "    'DeptID': ['D001', 'D003', 'D001', 'D002', 'D006'],\n",
    "}\n",
    "employees = pd.DataFrame(data1)\n",
    "\n",
    "data2 = {\n",
    "    'DeptID': ['D001', 'D002', 'D003', 'D004'],\n",
    "    'DeptName': ['Sales', 'HR', 'Admin', 'Marketing']\n",
    "}\n",
    "departments = pd.DataFrame(data2)\n",
    "\n",
    "# outer merge the dataframes\n",
    "df_merge = pd.merge(employees, departments, on = 'DeptID', how = 'outer', sort = True)\n",
    "\n",
    "print(df_merge)\n"
   ]
  },
  {
   "cell_type": "markdown",
   "id": "47498aea-bb8c-4a59-bc4a-ace8026c0e5e",
   "metadata": {},
   "source": [
    "## Cross Join\n",
    "A cross join in Pandas creates the cartesian product of both DataFrames while preserving the order of the left DataFrame.\n",
    "\n",
    "For example,"
   ]
  },
  {
   "cell_type": "code",
   "execution_count": 8,
   "id": "0122cdc5-90d0-493f-9185-f702733217f9",
   "metadata": {},
   "outputs": [
    {
     "name": "stdout",
     "output_type": "stream",
     "text": [
      "   EmployeeID         Name DeptID_x DeptID_y   DeptName\n",
      "0        E001     John Doe     D001     D001      Sales\n",
      "1        E001     John Doe     D001     D002         HR\n",
      "2        E001     John Doe     D001     D003      Admin\n",
      "3        E001     John Doe     D001     D004  Marketing\n",
      "4        E002   Jane Smith     D003     D001      Sales\n",
      "5        E002   Jane Smith     D003     D002         HR\n",
      "6        E002   Jane Smith     D003     D003      Admin\n",
      "7        E002   Jane Smith     D003     D004  Marketing\n",
      "8        E003  Peter Brown     D001     D001      Sales\n",
      "9        E003  Peter Brown     D001     D002         HR\n",
      "10       E003  Peter Brown     D001     D003      Admin\n",
      "11       E003  Peter Brown     D001     D004  Marketing\n",
      "12       E004  Tom Johnson     D002     D001      Sales\n",
      "13       E004  Tom Johnson     D002     D002         HR\n",
      "14       E004  Tom Johnson     D002     D003      Admin\n",
      "15       E004  Tom Johnson     D002     D004  Marketing\n",
      "16       E005   Rita Patel     D006     D001      Sales\n",
      "17       E005   Rita Patel     D006     D002         HR\n",
      "18       E005   Rita Patel     D006     D003      Admin\n",
      "19       E005   Rita Patel     D006     D004  Marketing\n"
     ]
    }
   ],
   "source": [
    "import pandas as pd\n",
    "\n",
    "# create dataframes from the dictionaries\n",
    "data1 = {\n",
    "    'EmployeeID': ['E001', 'E002', 'E003', 'E004', 'E005'],\n",
    "    'Name': ['John Doe', 'Jane Smith', 'Peter Brown', 'Tom Johnson', 'Rita Patel'],\n",
    "    'DeptID': ['D001', 'D003', 'D001', 'D002', 'D006'],\n",
    "}\n",
    "employees = pd.DataFrame(data1)\n",
    "\n",
    "data2 = {\n",
    "    'DeptID': ['D001', 'D002', 'D003', 'D004'],\n",
    "    'DeptName': ['Sales', 'HR', 'Admin', 'Marketing']\n",
    "}\n",
    "departments = pd.DataFrame(data2)\n",
    "\n",
    "# merge the dataframes\n",
    "df_merge = pd.merge(employees, departments, how = 'cross')\n",
    "\n",
    "print(df_merge)"
   ]
  },
  {
   "cell_type": "markdown",
   "id": "e4800c1c-b9e7-435b-97c1-7474a06c29c4",
   "metadata": {},
   "source": [
    "## Join vs Merge vs Concat\n",
    "There are three different methods to combine DataFrames in Pandas:\n",
    "\n",
    "`join()`: joins two DataFrames based on their indexes, performs left join by default\n",
    "`merge()`: joins two DataFrames based on any specified columns, performs inner join by default\n",
    "`concat()`: stacks two DataFrames along the vertical or horizontal axis"
   ]
  },
  {
   "cell_type": "code",
   "execution_count": null,
   "id": "edc6c274-e607-4f8d-bfc6-4cb468c4f6a9",
   "metadata": {},
   "outputs": [],
   "source": []
  }
 ],
 "metadata": {
  "kernelspec": {
   "display_name": "Python 3 (ipykernel)",
   "language": "python",
   "name": "python3"
  },
  "language_info": {
   "codemirror_mode": {
    "name": "ipython",
    "version": 3
   },
   "file_extension": ".py",
   "mimetype": "text/x-python",
   "name": "python",
   "nbconvert_exporter": "python",
   "pygments_lexer": "ipython3",
   "version": "3.9.1"
  }
 },
 "nbformat": 4,
 "nbformat_minor": 5
}
